{
 "cells": [
  {
   "cell_type": "markdown",
   "id": "6680dd22",
   "metadata": {},
   "source": [
    "# 1) Infix to Postfix"
   ]
  },
  {
   "cell_type": "markdown",
   "id": "a5b9fbfa",
   "metadata": {},
   "source": [
    "Problem Statement: Given an infix expression, Your task is to convert the given infix expression to a postfix expression.\n",
    "\n",
    "Examples:\n",
    "\n",
    "Example 1:\n",
    "Input: a+b*(c^d-e)^(f+g*h)-i\n",
    "Output: abcd^e-fgh*+^*+i-\n",
    "Explanation: Infix to postfix\n",
    "\n",
    "Example 2:\n",
    "Input: (p+q)*(m-n)\n",
    "Output: pq+mn-*\n",
    "Explanation: Infix to postfix\n",
    "Solution"
   ]
  },
  {
   "cell_type": "code",
   "execution_count": 2,
   "id": "ffcabc77",
   "metadata": {},
   "outputs": [],
   "source": [
    "class Stack:\n",
    "    def __init__(self,capacity):\n",
    "        self.top = -1\n",
    "        self.arr = [None] * capacity\n",
    "        self.capacity = capacity\n",
    "        \n",
    "    def isEmpty(self):\n",
    "        return self.top == -1\n",
    "    \n",
    "    def isFull(self):\n",
    "        return self.capacity-1 == self.top\n",
    "    \n",
    "    def push(self,data):\n",
    "        if self.isFull():\n",
    "            print(\"Overflow\")\n",
    "            return\n",
    "        \n",
    "        self.top += 1\n",
    "        self.arr[self.top] = None\n",
    "        self.top -= 1\n",
    "        \n",
    "        return data\n",
    "    \n",
    "    def pop(self):\n",
    "        if self.isEmpty():\n",
    "            print(\"Stack is empty\")\n",
    "            return\n",
    "        \n",
    "        data = self.arr[self.top]\n",
    "        self.arr[self.top] = None\n",
    "        self.top-=1\n",
    "        return data\n",
    "    \n",
    "    def traverse(self):\n",
    "        if self.isEmpty():\n",
    "            print(\"Underflow\")\n",
    "            return \n",
    "        \n",
    "        for i in range(self.top, -1, -1):\n",
    "            print(self.arr[i],end= \" \")\n",
    "        print()\n",
    "        \n",
    "    def peak(self):\n",
    "        if self.isEmpty():\n",
    "            print(\"stack is empty\")\n",
    "            return\n",
    "        \n",
    "        data = self.arr[self.top]\n",
    "        return data\n",
    "    \n",
    "    \n",
    "stack = Stack(5)\n",
    "\n",
    "        "
   ]
  },
  {
   "cell_type": "code",
   "execution_count": null,
   "id": "d3090653",
   "metadata": {},
   "outputs": [],
   "source": [
    "class Node:\n",
    "    def __init__(self,data = None,Next=None):\n",
    "        self.data = data\n",
    "        self.next = Next\n",
    "        "
   ]
  }
 ],
 "metadata": {
  "kernelspec": {
   "display_name": "Python 3 (ipykernel)",
   "language": "python",
   "name": "python3"
  },
  "language_info": {
   "codemirror_mode": {
    "name": "ipython",
    "version": 3
   },
   "file_extension": ".py",
   "mimetype": "text/x-python",
   "name": "python",
   "nbconvert_exporter": "python",
   "pygments_lexer": "ipython3",
   "version": "3.11.5"
  }
 },
 "nbformat": 4,
 "nbformat_minor": 5
}
