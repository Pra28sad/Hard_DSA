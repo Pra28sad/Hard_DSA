{
 "cells": [
  {
   "cell_type": "code",
   "execution_count": 38,
   "id": "858a7dee",
   "metadata": {},
   "outputs": [],
   "source": [
    "class Stack:\n",
    "    def __init__(self,capacity):\n",
    "        self.top = -1\n",
    "        self.capacity = capacity\n",
    "        self.arr = [None]*capacity\n",
    "        \n",
    "    def isFull(self):\n",
    "        return self.top == self.capacity-1\n",
    "    \n",
    "    def isEmpty(self):\n",
    "        return self.top == -1\n",
    "    \n",
    "    def peak(self):\n",
    "        if self.isEmpty():\n",
    "            print(\"Stack was empty\")\n",
    "            return \n",
    "        \n",
    "        return self.arr[self.top]\n",
    "    \n",
    "    def push(self,data):\n",
    "        if self.isFull():\n",
    "            print(\"Stack overFlow\")\n",
    "            return \n",
    "        \n",
    "        self.top += 1\n",
    "        self.arr[self.top] = data\n",
    "        \n",
    "        \n",
    "    def pop(self):\n",
    "        if self.isEmpty():\n",
    "            print(\"Stack was empty\")\n",
    "            return \n",
    "        \n",
    "        data = self.arr[self.top]\n",
    "        self.top -= 1\n",
    "        return data\n",
    "    \n",
    "    def traverse(self):\n",
    "        if self.isEmpty():\n",
    "            print(\"Stack was empty\")\n",
    "            return \n",
    "        \n",
    "        for i in range(self.top,-1,-1):\n",
    "            print(\"|\",end=\"\")\n",
    "            print(self.arr[i],end=\"\")\n",
    "            print(\"|\")\n",
    "        print()\n",
    "        \n",
    "        \n",
    "        "
   ]
  },
  {
   "cell_type": "code",
   "execution_count": 39,
   "id": "fa58a16a",
   "metadata": {},
   "outputs": [],
   "source": [
    "s = Stack(10)\n",
    "\n",
    "for i in [1,4,6,7,2,4]:\n",
    "    s.push(i)"
   ]
  },
  {
   "cell_type": "code",
   "execution_count": 40,
   "id": "b06bfdcc",
   "metadata": {},
   "outputs": [
    {
     "name": "stdout",
     "output_type": "stream",
     "text": [
      "|4|\n",
      "|2|\n",
      "|7|\n",
      "|6|\n",
      "|4|\n",
      "|1|\n",
      "\n"
     ]
    }
   ],
   "source": [
    "s.traverse()"
   ]
  },
  {
   "cell_type": "code",
   "execution_count": 15,
   "id": "ee0dd221",
   "metadata": {},
   "outputs": [
    {
     "data": {
      "text/plain": [
       "4"
      ]
     },
     "execution_count": 15,
     "metadata": {},
     "output_type": "execute_result"
    }
   ],
   "source": [
    "s.pop()"
   ]
  },
  {
   "cell_type": "code",
   "execution_count": 17,
   "id": "826784b5",
   "metadata": {},
   "outputs": [
    {
     "data": {
      "text/plain": [
       "2"
      ]
     },
     "execution_count": 17,
     "metadata": {},
     "output_type": "execute_result"
    }
   ],
   "source": [
    "s.pop()"
   ]
  },
  {
   "cell_type": "code",
   "execution_count": 18,
   "id": "797f19b9",
   "metadata": {},
   "outputs": [
    {
     "name": "stdout",
     "output_type": "stream",
     "text": [
      "7\n",
      "6\n",
      "4\n",
      "1\n",
      "\n"
     ]
    }
   ],
   "source": [
    "s.traverse()"
   ]
  },
  {
   "cell_type": "markdown",
   "id": "745b3353",
   "metadata": {},
   "source": [
    "### implementing with linked list "
   ]
  },
  {
   "cell_type": "code",
   "execution_count": 41,
   "id": "e7f3510d",
   "metadata": {},
   "outputs": [],
   "source": [
    "class Node:\n",
    "    def __init__(self,data=None,Next=None):\n",
    "        self.data = data\n",
    "        self.next = Next\n",
    "        \n",
    "    def setData(self,data):\n",
    "        self.data = data\n",
    "        \n",
    "    def getData(self):\n",
    "        return self.data\n",
    "    \n",
    "    def setNext(self,Next):\n",
    "        self.next = Next\n",
    "        \n",
    "    def getNext(self):\n",
    "        return self.next\n",
    "    \n",
    "    \n",
    "class Stack_LL:\n",
    "    \n",
    "    def __init__(self):\n",
    "        self.head = None\n",
    "        \n",
    "    def isEmpty(self):\n",
    "        return self.head == None\n",
    "    \n",
    "    def push(self,data):\n",
    "        node = Node(data)\n",
    "        node.setNext(self.head)\n",
    "        self.head = node\n",
    "        \n",
    "    def pop(self):\n",
    "        if self.isEmpty():\n",
    "            print(\"Stack was empty\")\n",
    "            return\n",
    "        \n",
    "        data = self.head.getData()\n",
    "        self.head = self.head.getNext()\n",
    "        return data\n",
    "    \n",
    "    def traverse(self):\n",
    "        if self.isEmpty():\n",
    "            print(\"Stack was empty\")\n",
    "            return \n",
    "        \n",
    "        temp  = self.head\n",
    "        while temp:\n",
    "            print(temp.getData(),end=\"-->\")\n",
    "            temp = temp.getNext()\n",
    "            \n",
    "    def peak(self):\n",
    "        if self.isEmpty():\n",
    "            print(\"Empty\")\n",
    "            return \n",
    "        \n",
    "        data = self.head.getData()\n",
    "        return data\n",
    "    \n",
    "    def size(self):\n",
    "        if self.isEmpty():\n",
    "            print(\"Empty\")\n",
    "            return\n",
    "        \n",
    "        size = 0\n",
    "        temp = self.head\n",
    "        \n",
    "        while temp:\n",
    "            size += 1\n",
    "            temp = temp.getNext()\n",
    "            \n",
    "        return size\n",
    "    \n",
    "    \n",
    "    \n",
    "s = Stack_LL() "
   ]
  },
  {
   "cell_type": "code",
   "execution_count": 42,
   "id": "03499a7a",
   "metadata": {},
   "outputs": [],
   "source": [
    "for i in [1,2,4,5,6,7,8,12]:\n",
    "    s.push(i)"
   ]
  },
  {
   "cell_type": "code",
   "execution_count": 43,
   "id": "bc4cf95b",
   "metadata": {},
   "outputs": [
    {
     "name": "stdout",
     "output_type": "stream",
     "text": [
      "12-->8-->7-->6-->5-->4-->2-->1-->"
     ]
    }
   ],
   "source": [
    "s.traverse()"
   ]
  },
  {
   "cell_type": "code",
   "execution_count": 44,
   "id": "a9e6150f",
   "metadata": {},
   "outputs": [
    {
     "data": {
      "text/plain": [
       "12"
      ]
     },
     "execution_count": 44,
     "metadata": {},
     "output_type": "execute_result"
    }
   ],
   "source": [
    "s.pop()"
   ]
  },
  {
   "cell_type": "code",
   "execution_count": 45,
   "id": "29005368",
   "metadata": {},
   "outputs": [
    {
     "name": "stdout",
     "output_type": "stream",
     "text": [
      "8-->7-->6-->5-->4-->2-->1-->"
     ]
    }
   ],
   "source": [
    "s.traverse()"
   ]
  },
  {
   "cell_type": "code",
   "execution_count": 46,
   "id": "10d98fe7",
   "metadata": {},
   "outputs": [
    {
     "data": {
      "text/plain": [
       "False"
      ]
     },
     "execution_count": 46,
     "metadata": {},
     "output_type": "execute_result"
    }
   ],
   "source": [
    "s.isEmpty()"
   ]
  },
  {
   "cell_type": "code",
   "execution_count": 47,
   "id": "62594412",
   "metadata": {},
   "outputs": [
    {
     "data": {
      "text/plain": [
       "7"
      ]
     },
     "execution_count": 47,
     "metadata": {},
     "output_type": "execute_result"
    }
   ],
   "source": [
    "s.size()"
   ]
  },
  {
   "cell_type": "code",
   "execution_count": 48,
   "id": "28b4f8f3",
   "metadata": {},
   "outputs": [
    {
     "data": {
      "text/plain": [
       "8"
      ]
     },
     "execution_count": 48,
     "metadata": {},
     "output_type": "execute_result"
    }
   ],
   "source": [
    "s.peak()"
   ]
  },
  {
   "cell_type": "markdown",
   "id": "eddd8187",
   "metadata": {},
   "source": [
    "### Queue"
   ]
  },
  {
   "cell_type": "code",
   "execution_count": 49,
   "id": "58a9a69f",
   "metadata": {},
   "outputs": [],
   "source": [
    "class Queue:\n",
    "    def __init__(self,capacity):\n",
    "        self.arr = [None] * capacity\n",
    "        self.capacity = capacity\n",
    "        self.rear = -1\n",
    "        self.front = -1\n",
    "        self.size = 0\n",
    "        \n",
    "    def isEmpty(self):\n",
    "        return self.front == -1\n",
    "    \n",
    "    def isFull(self):\n",
    "        return self.front+1 == self.rear\n",
    "    \n",
    "    def enQueue(self,data):\n",
    "        if self.isFull():\n",
    "            print(\"Storage isFull\")\n",
    "            return\n",
    "        \n",
    "        size += 1\n",
    "        self.front = (self.front+1)%self.capacity\n",
    "        self.arr[self.front] = data\n",
    "        \n",
    "        if self.rear == -1:\n",
    "            self.rear = 0\n",
    "            \n",
    "            \n",
    "    def deQueue(self):\n",
    "        if self.isEmpty():\n",
    "            print(\"Queue was empty\")\n",
    "            return\n",
    "        \n",
    "        self.size -= 1\n",
    "        data = self.arr[self.rear]\n",
    "        if self.rear == self.front:\n",
    "            self.rear -= 1\n",
    "            self.front -= 1\n",
    "            \n",
    "        else:\n",
    "            self.rear = (self.rear+1)%self.capacity\n",
    "            \n",
    "        return data\n",
    "    \n",
    "    def length(self):\n",
    "        return self.size\n",
    "    \n",
    "    def traverse(self):\n",
    "        if self.isEmpty():\n",
    "            print(\"Empty\")\n",
    "            return\n",
    "        \n",
    "        for i in range(self.size):\n",
    "            print(self.arr[self.rear+i])\n",
    "            \n",
    "            \n",
    "        "
   ]
  },
  {
   "cell_type": "markdown",
   "id": "957a6de4",
   "metadata": {},
   "source": [
    "### Queue implementing with linked list"
   ]
  },
  {
   "cell_type": "code",
   "execution_count": 51,
   "id": "ca168ae3",
   "metadata": {},
   "outputs": [],
   "source": [
    "class Node:\n",
    "    def __init__(self,data,Next=None):\n",
    "        self.data = data\n",
    "        self.next = Next\n",
    "        \n",
    "    def getData(self):\n",
    "        return self.data\n",
    "    \n",
    "    def setData(self,data):\n",
    "        self.data = data\n",
    "        \n",
    "    def getNext(self):\n",
    "        return self.next\n",
    "    \n",
    "    def setNext(self,next):\n",
    "        self.next = next\n",
    "        \n",
    "class Queue_LL:\n",
    "    def __init__(self):\n",
    "        self.head = None\n",
    "        self.tail = None\n",
    "        self.size = 0\n",
    "        \n",
    "    def isEmpty(self):\n",
    "        return self.head == None\n",
    "    \n",
    "    def enQueue(self,data):\n",
    "        node = Node(data)\n",
    "        \n",
    "        if self.isEmpty():\n",
    "            self.head = node\n",
    "            self.tail = node\n",
    "        else:\n",
    "            self.tail.setNext(node)\n",
    "            self.tail = self.tail.getNext()\n",
    "            \n",
    "        self.size+=1\n",
    "        \n",
    "    def deQueue(self):\n",
    "        if self.isEmpty():\n",
    "            print(\"Empty\")\n",
    "            return\n",
    "        \n",
    "        data = self.head.getData()\n",
    "        if self.head == self.tail:\n",
    "            self.head = None\n",
    "            self.tail = None\n",
    "            \n",
    "        else:\n",
    "            self.head = self.head.getNext()\n",
    "        self.size -= 1\n",
    "        return data\n",
    "    \n",
    "    def length(self):\n",
    "        return self.size\n",
    "    \n",
    "    \n",
    "    def traverse(self):\n",
    "        temp = self.head\n",
    "        \n",
    "        while temp:\n",
    "            print(temp.getData(),end=\"-> \")\n",
    "            temp = temp.getNext()\n",
    "            \n",
    "            "
   ]
  },
  {
   "cell_type": "code",
   "execution_count": 52,
   "id": "53ad6add",
   "metadata": {},
   "outputs": [],
   "source": [
    "q = Queue_LL()"
   ]
  },
  {
   "cell_type": "code",
   "execution_count": 53,
   "id": "beadfbe0",
   "metadata": {},
   "outputs": [],
   "source": [
    "for i in [1,2,45,6,7]:\n",
    "    q.enQueue(i)"
   ]
  },
  {
   "cell_type": "code",
   "execution_count": 54,
   "id": "5641e888",
   "metadata": {},
   "outputs": [
    {
     "name": "stdout",
     "output_type": "stream",
     "text": [
      "1-> 2-> 45-> 6-> 7-> "
     ]
    }
   ],
   "source": [
    "q.traverse()"
   ]
  },
  {
   "cell_type": "code",
   "execution_count": 55,
   "id": "dea66ef4",
   "metadata": {},
   "outputs": [
    {
     "data": {
      "text/plain": [
       "1"
      ]
     },
     "execution_count": 55,
     "metadata": {},
     "output_type": "execute_result"
    }
   ],
   "source": [
    "q.deQueue()"
   ]
  },
  {
   "cell_type": "markdown",
   "id": "f646b5f4",
   "metadata": {},
   "source": [
    "### Implementing a stack using queues"
   ]
  },
  {
   "cell_type": "code",
   "execution_count": 56,
   "id": "09a0a31b",
   "metadata": {},
   "outputs": [],
   "source": [
    "class StackUsingQueues:\n",
    "    def __init__(self):\n",
    "        self.q1 = Queue_LL()\n",
    "        self.q2 = Queue_LL()\n",
    "        \n",
    "    def push(self,data):\n",
    "        self.q2.enQueue(data)\n",
    "        while not self.q1.isEmpty():\n",
    "            self.q2.enQueue(self.q1.deQueue())\n",
    "            \n",
    "        self.q1, self.q2 = self.q2, self.q1\n",
    "        \n",
    "    def pop(self):\n",
    "        if self.q1.isEmpty():\n",
    "            print(\"Stack is empty\")\n",
    "            return\n",
    "        \n",
    "        return self.q1.deQueue()\n",
    "    \n",
    "    def top(self):\n",
    "        if self.q1.isEmpty():\n",
    "            print(\"Stack is empty\")\n",
    "            return \n",
    "        \n",
    "        return self.q1.head.getData()\n",
    "    \n",
    "    def isEmpty(self):\n",
    "        return self.q1.isEmpty()\n",
    "    \n",
    "    def size(self):\n",
    "        return self.q1.length()\n",
    "    \n",
    "    def display(self):\n",
    "        print(\"Stack (top to bottom): \",end=\" \")\n",
    "        self.q1.traverse()\n",
    "        print(\"None\")\n",
    "        \n",
    "        "
   ]
  },
  {
   "cell_type": "code",
   "execution_count": 57,
   "id": "d27f5ed2",
   "metadata": {},
   "outputs": [],
   "source": [
    "s1 = StackUsingQueues()"
   ]
  },
  {
   "cell_type": "code",
   "execution_count": 60,
   "id": "5df88883",
   "metadata": {},
   "outputs": [],
   "source": [
    "for i in [3,5,6,8,9,1,2]:\n",
    "    s1.push(i)"
   ]
  },
  {
   "cell_type": "code",
   "execution_count": 61,
   "id": "26fa02e5",
   "metadata": {},
   "outputs": [
    {
     "name": "stdout",
     "output_type": "stream",
     "text": [
      "Stack (top to bottom):  2-> 1-> 9-> 8-> 6-> 5-> 3-> 3-> 6-> 5-> 3-> None\n"
     ]
    }
   ],
   "source": [
    "s1.display()"
   ]
  },
  {
   "cell_type": "code",
   "execution_count": null,
   "id": "6c2356a4",
   "metadata": {},
   "outputs": [],
   "source": []
  }
 ],
 "metadata": {
  "kernelspec": {
   "display_name": "Python 3 (ipykernel)",
   "language": "python",
   "name": "python3"
  },
  "language_info": {
   "codemirror_mode": {
    "name": "ipython",
    "version": 3
   },
   "file_extension": ".py",
   "mimetype": "text/x-python",
   "name": "python",
   "nbconvert_exporter": "python",
   "pygments_lexer": "ipython3",
   "version": "3.11.5"
  }
 },
 "nbformat": 4,
 "nbformat_minor": 5
}
