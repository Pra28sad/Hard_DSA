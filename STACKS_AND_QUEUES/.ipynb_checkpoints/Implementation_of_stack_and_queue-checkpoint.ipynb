{
 "cells": [
  {
   "cell_type": "markdown",
   "id": "2d4b4170",
   "metadata": {},
   "source": [
    "# 1) Stack "
   ]
  },
  {
   "cell_type": "code",
   "execution_count": 12,
   "id": "9a52b006",
   "metadata": {},
   "outputs": [],
   "source": [
    "class Stack:\n",
    "    def __init__(self,capacity):\n",
    "        self.top = -1\n",
    "        self.arr = [None] * capacity\n",
    "        self.capacity = capacity\n",
    "        \n",
    "    def isEmpty(self):\n",
    "        return self.top == -1\n",
    "    \n",
    "    def isFull(self):\n",
    "        return self.top == self.capacity - 1\n",
    "    \n",
    "    def push(self,data):\n",
    "        if self.isFull():\n",
    "            print(\"OverFlow\")\n",
    "            return \n",
    "        \n",
    "        self.top += 1\n",
    "        self.arr[self.top] = data\n",
    "        \n",
    "    def pop(self):\n",
    "        if self.isEmpty():\n",
    "            print(\"Stack is Empty\")\n",
    "            return \n",
    "        \n",
    "        data = self.arr[self.top]\n",
    "        self.arr[self.top] = None\n",
    "        self.top -= 1\n",
    "        return data\n",
    "    \n",
    "    def traverse(self):\n",
    "        if self.isEmpty():\n",
    "            print(\"Stack is empty\")\n",
    "            return\n",
    "        for i in range(self.top, -1, -1):  # top to bottom\n",
    "            print(self.arr[i], end=\" \")\n",
    "        print()\n",
    "\n",
    "            \n",
    "    def peak(self):\n",
    "        if self.isEmpty():\n",
    "            print(\"Stack is empty\")\n",
    "            return\n",
    "        data  =self.arr[self.top]\n",
    "        return data\n",
    "    \n",
    "stack = Stack(5)\n",
    "\n"
   ]
  },
  {
   "cell_type": "code",
   "execution_count": 13,
   "id": "65db4db7",
   "metadata": {},
   "outputs": [
    {
     "data": {
      "text/plain": [
       "True"
      ]
     },
     "execution_count": 13,
     "metadata": {},
     "output_type": "execute_result"
    }
   ],
   "source": [
    "stack.isEmpty()"
   ]
  },
  {
   "cell_type": "code",
   "execution_count": 14,
   "id": "1c9bd595",
   "metadata": {},
   "outputs": [
    {
     "data": {
      "text/plain": [
       "False"
      ]
     },
     "execution_count": 14,
     "metadata": {},
     "output_type": "execute_result"
    }
   ],
   "source": [
    "stack.isFull()"
   ]
  },
  {
   "cell_type": "code",
   "execution_count": 15,
   "id": "1f6e1faa",
   "metadata": {},
   "outputs": [],
   "source": [
    "stack.push(5)\n"
   ]
  },
  {
   "cell_type": "code",
   "execution_count": 16,
   "id": "7f58d7da",
   "metadata": {},
   "outputs": [],
   "source": [
    "stack.push(10)"
   ]
  },
  {
   "cell_type": "code",
   "execution_count": 17,
   "id": "91b08e6c",
   "metadata": {},
   "outputs": [
    {
     "name": "stdout",
     "output_type": "stream",
     "text": [
      "10 5 \n"
     ]
    }
   ],
   "source": [
    "stack.traverse()"
   ]
  },
  {
   "cell_type": "code",
   "execution_count": null,
   "id": "2cdbd9fb",
   "metadata": {},
   "outputs": [],
   "source": []
  },
  {
   "cell_type": "code",
   "execution_count": 18,
   "id": "58219e70",
   "metadata": {},
   "outputs": [
    {
     "name": "stdout",
     "output_type": "stream",
     "text": [
      "OverFlow\n",
      "OverFlow\n"
     ]
    }
   ],
   "source": [
    "l = [1,2,3,4,5]\n",
    "\n",
    "for i in l:\n",
    "    stack.push(i)\n",
    "    \n"
   ]
  },
  {
   "cell_type": "code",
   "execution_count": 19,
   "id": "3555bce7",
   "metadata": {},
   "outputs": [
    {
     "name": "stdout",
     "output_type": "stream",
     "text": [
      "3 2 1 10 5 \n"
     ]
    }
   ],
   "source": [
    "stack.traverse()"
   ]
  },
  {
   "cell_type": "code",
   "execution_count": 20,
   "id": "3ba7d487",
   "metadata": {},
   "outputs": [
    {
     "name": "stdout",
     "output_type": "stream",
     "text": [
      "OverFlow\n"
     ]
    }
   ],
   "source": [
    "stack.push(6)"
   ]
  },
  {
   "cell_type": "markdown",
   "id": "0be65122",
   "metadata": {},
   "source": [
    "# 2) Queue"
   ]
  },
  {
   "cell_type": "code",
   "execution_count": 21,
   "id": "ab9c46da",
   "metadata": {},
   "outputs": [],
   "source": [
    "class Queue:\n",
    "    def __init__(self,capacity):\n",
    "        self.arr = [None]*capacity\n",
    "        self.capacity = capacity\n",
    "        self.rear = -1\n",
    "        self.front = -1\n",
    "        self.size = 0\n",
    "        \n",
    "    def isEmpty(self):\n",
    "        return self.front == -1\n",
    "    \n",
    "    def isFull(self):\n",
    "        return self.rear == (self.front+1)\n",
    "    \n",
    "    def enQueue(self,data):\n",
    "        if self.isFull():\n",
    "            print(\"Storage is Full\")\n",
    "            \n",
    "        self.size += 1\n",
    "        self.front = (self.front+1) % self.capacity\n",
    "        self.arr[self.front] = data\n",
    "        if self.rear == -1:\n",
    "            self.rear = 0\n",
    "            \n",
    "    \n",
    "    def deQueue(self):\n",
    "        if self.isEmpty():\n",
    "            print(\"Storage is Empty\")\n",
    "            return\n",
    "        \n",
    "        self.size -= 1\n",
    "        data = self.arr[self.rear]\n",
    "        \n",
    "        if self.rear == self.front:\n",
    "            self.rear = -1\n",
    "            self.front = -1\n",
    "            \n",
    "        else:\n",
    "            self.rear = (self.rear+1)%self.capacity\n",
    "            \n",
    "        return data\n",
    "    \n",
    "    def length(self):\n",
    "        return self.size\n",
    "    \n",
    "    def traverse(self):\n",
    "        if self.isEmpty():\n",
    "            print(\"Empty\")\n",
    "            return \n",
    "        \n",
    "        for i in range(self.size):\n",
    "            print(self.arr[self.rear+i])\n",
    "            \n",
    "            \n",
    "            \n",
    "            \n",
    "    "
   ]
  },
  {
   "cell_type": "code",
   "execution_count": 22,
   "id": "01e03434",
   "metadata": {},
   "outputs": [],
   "source": [
    "queue = Queue(5)"
   ]
  },
  {
   "cell_type": "code",
   "execution_count": 23,
   "id": "42ac8c91",
   "metadata": {},
   "outputs": [],
   "source": [
    "queue.enQueue(4)"
   ]
  },
  {
   "cell_type": "code",
   "execution_count": 24,
   "id": "53df57d6",
   "metadata": {},
   "outputs": [],
   "source": [
    "arr = [1,6,53,2]\n",
    "\n",
    "for i in arr:\n",
    "    queue.enQueue(i)\n",
    "    \n",
    "    "
   ]
  },
  {
   "cell_type": "code",
   "execution_count": 25,
   "id": "16e8c5d9",
   "metadata": {},
   "outputs": [
    {
     "name": "stdout",
     "output_type": "stream",
     "text": [
      "4\n",
      "1\n",
      "6\n",
      "53\n",
      "2\n"
     ]
    }
   ],
   "source": [
    "queue.traverse()"
   ]
  },
  {
   "cell_type": "code",
   "execution_count": 26,
   "id": "2739bd24",
   "metadata": {},
   "outputs": [
    {
     "data": {
      "text/plain": [
       "4"
      ]
     },
     "execution_count": 26,
     "metadata": {},
     "output_type": "execute_result"
    }
   ],
   "source": [
    "queue.deQueue()"
   ]
  },
  {
   "cell_type": "code",
   "execution_count": null,
   "id": "28890aaf",
   "metadata": {},
   "outputs": [],
   "source": []
  }
 ],
 "metadata": {
  "kernelspec": {
   "display_name": "Python 3 (ipykernel)",
   "language": "python",
   "name": "python3"
  },
  "language_info": {
   "codemirror_mode": {
    "name": "ipython",
    "version": 3
   },
   "file_extension": ".py",
   "mimetype": "text/x-python",
   "name": "python",
   "nbconvert_exporter": "python",
   "pygments_lexer": "ipython3",
   "version": "3.11.5"
  }
 },
 "nbformat": 4,
 "nbformat_minor": 5
}
