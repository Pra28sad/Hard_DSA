{
 "cells": [
  {
   "cell_type": "markdown",
   "id": "aad10735",
   "metadata": {},
   "source": [
    "A real-life example of Binary Search:\n",
    "Problem statement: Assume there is a dictionary and we have to find the word “raj”.\n",
    "\n",
    "Method 1: One of the many ways is to check every possible page of the entire dictionary and see if we can find the word “raj”. This technique is known as linear search.\n",
    "Basically, we can traverse from the first till the end to find the target value in the search space i.e. the entire dictionary in our example.\n",
    "\n",
    "Method 2: In this case, we will optimize our search by using the property of a dictionary i.e. a dictionary is always in the sorted order.\n",
    "\n",
    "We will first try to open the dictionary in such a way that it is roughly divided into two parts. Then, we will check the left page. Now, assume the words on the left page starts with ‘s’. We can certainly say that our target word i.e. “raj” definitely comes before the words start with ‘s’. So, now, we need not search in the entire dictionary rather we will only search in the left half.\n",
    "Now, we will do the same thing with the left half. First, we will divide it into 2 halves and then try to locate which half contains the word “raj”. Eventually, after certain steps, we will end up finding the word “raj”.\n",
    "This is a typical real-life example of binary search. \n",
    "\n",
    "Note:\n",
    "\n",
    "Binary search is only applicable in a sorted search space. The sorted search space does not necessarily have to be a sorted array. It can be anything but the search space must be sorted.\n",
    "In binary search, we generally divide the search space into two equal halves and then try to locate which half contains the target. According to that, we shrink the search space size.\n",
    "Coding problem example:\n",
    "Problem statement: You are given a sorted array of integers and a target, your task is to search for the target in the given array. Assume the given array does not contain any duplicate numbers.\n",
    "\n",
    "Let’s say the given array is = {3, 4, 6, 7, 9, 12, 16, 17} and target = 6."
   ]
  },
  {
   "cell_type": "code",
   "execution_count": 8,
   "id": "990d6f60",
   "metadata": {},
   "outputs": [
    {
     "data": {
      "text/plain": [
       "1"
      ]
     },
     "execution_count": 8,
     "metadata": {},
     "output_type": "execute_result"
    }
   ],
   "source": [
    "def binarySearch(arr,key):\n",
    "    left = 0\n",
    "    right = len(arr)\n",
    "    i=0\n",
    "    while left<=right:\n",
    "        mid = (left+right)//2\n",
    "        \n",
    "        if arr[mid] == key:\n",
    "            return mid\n",
    "        elif key<arr[mid] :\n",
    "            right = mid - 1\n",
    "        else:\n",
    "            left = mid+1\n",
    "    return -1\n",
    "\n",
    "binarySearch([2,5,6,7,9,10],5)\n",
    "            "
   ]
  },
  {
   "cell_type": "code",
   "execution_count": 9,
   "id": "1702e64e",
   "metadata": {},
   "outputs": [
    {
     "name": "stdout",
     "output_type": "stream",
     "text": [
      "Element 7 found at index 3\n"
     ]
    }
   ],
   "source": [
    "### Recursive approach\n",
    "\n",
    "def binary_search(arr,target,low,high):\n",
    "    if low>high:\n",
    "        return -1\n",
    "    mid = (low+high)//2\n",
    "    \n",
    "    if arr[mid] == target:\n",
    "        return mid\n",
    "    elif target<arr[mid]:\n",
    "        return binary_search(arr,target,low,mid-1)\n",
    "    else:\n",
    "        return binary_search(arr,target,mid+1,high)\n",
    "    \n",
    "# Example usage\n",
    "arr = [1, 3, 5, 7, 9, 11, 13]\n",
    "target = 7\n",
    "result = binary_search(arr, target, 0, len(arr) - 1)\n",
    "\n",
    "if result != -1:\n",
    "    print(f\"Element {target} found at index {result}\")\n",
    "else:\n",
    "    print(\"Element not found\")"
   ]
  },
  {
   "cell_type": "markdown",
   "id": "a1a6fb5c",
   "metadata": {},
   "source": [
    "# 2) Implement Lower Bound"
   ]
  },
  {
   "cell_type": "markdown",
   "id": "49c62bda",
   "metadata": {},
   "source": [
    "Problem Statement: Given a sorted array of N integers and an integer x, write a program to find the lower bound of x.\n",
    "\n",
    "Pre-requisite: Binary Search algorithm\n",
    "\n",
    "Examples\n",
    "\n",
    "Example 1:\n",
    "Input Format: N = 4, arr[] = {1,2,2,3}, x = 2\n",
    "Result: 1\n",
    "Explanation: Index 1 is the smallest index such that arr[1] >= x.\n",
    "\n",
    "Example 2:\n",
    "Input Format: N = 5, arr[] = {3,5,8,15,19}, x = 9\n",
    "Result: 3\n",
    "Explanation: Index 3 is the smallest index such that arr[3] >= x."
   ]
  },
  {
   "cell_type": "markdown",
   "id": "4c00ffff",
   "metadata": {},
   "source": [
    "### brute force approach\n"
   ]
  },
  {
   "cell_type": "code",
   "execution_count": 11,
   "id": "5e3df389",
   "metadata": {},
   "outputs": [
    {
     "data": {
      "text/plain": [
       "3"
      ]
     },
     "execution_count": 11,
     "metadata": {},
     "output_type": "execute_result"
    }
   ],
   "source": [
    "## using linear Search\n",
    "def find_low_bound(arr,target):\n",
    "    for i in range(len(arr)):\n",
    "        if arr[i]>=target:\n",
    "            return i\n",
    "    return n\n",
    "\n",
    "find_low_bound([3,5,8,15,19],9)"
   ]
  },
  {
   "cell_type": "markdown",
   "id": "1865f9c9",
   "metadata": {},
   "source": [
    "### Optimal way( binary search)"
   ]
  },
  {
   "cell_type": "code",
   "execution_count": 14,
   "id": "263c25c6",
   "metadata": {},
   "outputs": [
    {
     "data": {
      "text/plain": [
       "3"
      ]
     },
     "execution_count": 14,
     "metadata": {},
     "output_type": "execute_result"
    }
   ],
   "source": [
    "def lowerBound(arr,target):\n",
    "    low = 0\n",
    "    high = len(arr)-1\n",
    "    ans = len(arr)-1\n",
    "    \n",
    "    while low <= high:\n",
    "        mid = (low+high)//2\n",
    "        if arr[mid] >= target:\n",
    "            ans = mid\n",
    "            high = mid - 1\n",
    "            \n",
    "        else:\n",
    "            low = mid+1\n",
    "            \n",
    "    return ans\n",
    "\n",
    "lowerBound([3,5,8,15,19],9)"
   ]
  },
  {
   "cell_type": "markdown",
   "id": "27970940",
   "metadata": {},
   "source": [
    "# 3) Implement Upper Bound"
   ]
  },
  {
   "cell_type": "markdown",
   "id": "ea6506df",
   "metadata": {},
   "source": [
    "Problem Statement: Given a sorted array of N integers and an integer x, write a program to find the upper bound of x.\n",
    "\n",
    "Pre-requisite: Binary Search algorithm\n",
    "\n",
    "Examples\n",
    "\n",
    "Example 1:\n",
    "Input Format: N = 4, arr[] = {1,2,2,3}, x = 2\n",
    "Result: 3\n",
    "Explanation: Index 3 is the smallest index such that arr[3] > x.\n",
    "\n",
    "Example 2:\n",
    "Input Format: N = 6, arr[] = {3,5,8,9,15,19}, x = 9\n",
    "Result: 4\n",
    "Explanation: Index 4 is the smallest index such that arr[4] > x."
   ]
  },
  {
   "cell_type": "markdown",
   "id": "41ccd53f",
   "metadata": {},
   "source": [
    "### BruteForce approach"
   ]
  },
  {
   "cell_type": "code",
   "execution_count": 23,
   "id": "d13ee7a7",
   "metadata": {},
   "outputs": [
    {
     "data": {
      "text/plain": [
       "3"
      ]
     },
     "execution_count": 23,
     "metadata": {},
     "output_type": "execute_result"
    }
   ],
   "source": [
    "def find_upper_bound(arr,target):\n",
    "    for i in range(len(arr)):\n",
    "        if arr[i]>target:\n",
    "            return i\n",
    "    return len(arr)\n",
    "find_upper_bound([1,2,2,3],2)"
   ]
  },
  {
   "cell_type": "markdown",
   "id": "424fb430",
   "metadata": {},
   "source": [
    "### Optimal approach"
   ]
  },
  {
   "cell_type": "code",
   "execution_count": 34,
   "id": "856011b0",
   "metadata": {},
   "outputs": [
    {
     "data": {
      "text/plain": [
       "2"
      ]
     },
     "execution_count": 34,
     "metadata": {},
     "output_type": "execute_result"
    }
   ],
   "source": [
    "def bin_upperBound(arr,target):\n",
    "    left = 0\n",
    "    right = len(arr)-1\n",
    "    ans = len(arr)\n",
    "    \n",
    "    while left<=right:\n",
    "        mid = (left+right)//2\n",
    "        \n",
    "        if arr[mid] >target:\n",
    "            ans = mid\n",
    "            right = mid-1\n",
    "        else:\n",
    "            left = mid+1\n",
    "    return ans\n",
    "\n",
    "bin_upperBound([3,5,8,9,15, 19],6)"
   ]
  },
  {
   "cell_type": "markdown",
   "id": "fc7302e9",
   "metadata": {},
   "source": [
    "# 4) Search Insert Position"
   ]
  },
  {
   "cell_type": "markdown",
   "id": "3f3f26fa",
   "metadata": {},
   "source": [
    "Problem Statement: You are given a sorted array arr of distinct values and a target value x. You need to search for the index of the target value in the array.\n",
    "\n",
    "If the value is present in the array, then return its index. Otherwise, determine the index where it would be inserted in the array while maintaining the sorted order.\n",
    "\n",
    "Pre-requisite: Lower Bound & Binary Search\n",
    "\n",
    "Example 1:\n",
    "Input Format: arr[] = {1,2,4,7}, x = 6\n",
    "Result: 3\n",
    "Explanation: 6 is not present in the array. So, if we will insert 6 in the 3rd index(0-based indexing), the array will still be sorted. {1,2,4,6,7}.\n",
    "\n",
    "Example 2:\n",
    "Input Format: arr[] = {1,2,4,7}, x = 2\n",
    "Result: 1\n",
    "Explanation: 2 is present in the array and so we will return its index i.e. 1."
   ]
  },
  {
   "cell_type": "code",
   "execution_count": 3,
   "id": "153ca5d4",
   "metadata": {},
   "outputs": [
    {
     "name": "stdout",
     "output_type": "stream",
     "text": [
      "3\n"
     ]
    }
   ],
   "source": [
    "def bin_search_insert(arr, key):\n",
    "    low = 0\n",
    "    high = len(arr) - 1\n",
    "    ans = len(arr)  # default: insert at the end\n",
    "\n",
    "    while low <= high:\n",
    "        mid = (low + high) // 2\n",
    "\n",
    "        if arr[mid] == key:\n",
    "            return mid  # found exact element\n",
    "        elif arr[mid] > key:\n",
    "            ans = mid   # potential insert position\n",
    "            high = mid - 1\n",
    "        else:\n",
    "            low = mid + 1\n",
    "\n",
    "    return ans\n",
    "print(bin_search_insert([1, 2, 4, 7], 6))  # Output: 3\n"
   ]
  },
  {
   "cell_type": "markdown",
   "id": "e7cf7806",
   "metadata": {},
   "source": [
    "# 5) Floor and Ceil in Sorted Array"
   ]
  },
  {
   "cell_type": "markdown",
   "id": "3ffa9e55",
   "metadata": {},
   "source": [
    "Problem Statement: You're given an sorted array arr of n integers and an integer x. Find the floor and ceiling of x in arr[0..n-1].\n",
    "The floor of x is the largest element in the array which is smaller than or equal to x.\n",
    "The ceiling of x is the smallest element in the array greater than or equal to x.\n",
    "\n",
    "Pre-requisite: Lower Bound & Binary Search\n",
    "\n",
    "Example 1:\n",
    "Input Format: n = 6, arr[] ={3, 4, 4, 7, 8, 10}, x= 5\n",
    "Result: 4 7\n",
    "Explanation: The floor of 5 in the array is 4, and the ceiling of 5 in the array is 7.\n",
    "\n",
    "Example 2:\n",
    "Input Format: n = 6, arr[] ={3, 4, 4, 7, 8, 10}, x= 8\n",
    "Result: 8 8\n",
    "Explanation: The floor of 8 in the array is 8, and the ceiling of 8 in the array is also 8."
   ]
  },
  {
   "cell_type": "code",
   "execution_count": 7,
   "id": "de297085",
   "metadata": {},
   "outputs": [
    {
     "name": "stdout",
     "output_type": "stream",
     "text": [
      "(4, 7)\n"
     ]
    }
   ],
   "source": [
    "def findFloor(arr, key):\n",
    "    low, high = 0, len(arr) - 1\n",
    "    floor_val = -1  # default: no floor\n",
    "\n",
    "    while low <= high:\n",
    "        mid = (low + high) // 2\n",
    "        if arr[mid] == key:\n",
    "            return arr[mid]\n",
    "        elif arr[mid] < key:\n",
    "            floor_val = arr[mid]   # candidate floor\n",
    "            low = mid + 1\n",
    "        else:\n",
    "            high = mid - 1\n",
    "    return floor_val\n",
    "\n",
    "\n",
    "def findCeil(arr, key):\n",
    "    low, high = 0, len(arr) - 1\n",
    "    ceil_val = -1  # default: no ceil\n",
    "\n",
    "    while low <= high:\n",
    "        mid = (low + high) // 2\n",
    "        if arr[mid] == key:\n",
    "            return arr[mid]\n",
    "        elif arr[mid] > key:\n",
    "            ceil_val = arr[mid]   # candidate ceil\n",
    "            high = mid - 1\n",
    "        else:\n",
    "            low = mid + 1\n",
    "    return ceil_val\n",
    "\n",
    "\n",
    "def getFloorCeil(arr, key):\n",
    "    return findFloor(arr, key), findCeil(arr, key)\n",
    "\n",
    "print(getFloorCeil([3, 4, 4, 7, 8, 10], 5))  # (4, 7)"
   ]
  },
  {
   "cell_type": "code",
   "execution_count": null,
   "id": "eaa042d2",
   "metadata": {},
   "outputs": [],
   "source": []
  }
 ],
 "metadata": {
  "kernelspec": {
   "display_name": "Python 3 (ipykernel)",
   "language": "python",
   "name": "python3"
  },
  "language_info": {
   "codemirror_mode": {
    "name": "ipython",
    "version": 3
   },
   "file_extension": ".py",
   "mimetype": "text/x-python",
   "name": "python",
   "nbconvert_exporter": "python",
   "pygments_lexer": "ipython3",
   "version": "3.11.5"
  }
 },
 "nbformat": 4,
 "nbformat_minor": 5
}
