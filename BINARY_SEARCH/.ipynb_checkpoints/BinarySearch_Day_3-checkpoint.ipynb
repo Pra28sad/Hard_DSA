{
 "cells": [
  {
   "cell_type": "markdown",
   "id": "54845225",
   "metadata": {},
   "source": [
    "# 1) Finding Sqrt of a number using Binary Search"
   ]
  },
  {
   "cell_type": "markdown",
   "id": "d8293555",
   "metadata": {},
   "source": [
    "Problem Statement: You are given a positive integer n. Your task is to find and return its square root. If ‘n’ is not a perfect square, then return the floor value of 'sqrt(n)'.\n",
    "\n",
    "Note: The question explicitly states that if the given number, n, is not a perfect square, our objective is to find the maximum number, x, such that x squared is less than or equal to n (x*x <= n). In other words, we need to determine the floor value of the square root of n.\n",
    "\n",
    "Examples\n",
    "\n",
    "Example 1:\n",
    "Input Format: n = 36\n",
    "Result: 6\n",
    "Explanation: 6 is the square root of 36.\n",
    "\n",
    "Example 2:\n",
    "Input Format: n = 28\n",
    "Result: 5\n",
    "Explanation: Square root of 28 is approximately 5.292. So, the floor value will be 5.\n"
   ]
  },
  {
   "cell_type": "code",
   "execution_count": 12,
   "id": "c3c99427",
   "metadata": {},
   "outputs": [],
   "source": [
    "# def find_sqrt(num):\n",
    "#     lst = [i for  i in range(1,num//2)]\n",
    "    \n",
    "#     left = 0\n",
    "#     right = len(lst)-1\n",
    "#     n = len(lst)\n",
    "    \n",
    "#     while left<=right:\n",
    "#         mid = (left+right)//2\n",
    "        \n",
    "#         if num == lst[mid] ** 2:\n",
    "#             return lst[mid]\n",
    "        \n",
    "#         elif lst[(mid-1)%n]**2 < num <lst[(mid+1)%n]**2:\n",
    "#             return lst[mid-1]\n",
    "        \n",
    "#         elif lst[mid]**2 > num:\n",
    "#             right = mid-1\n",
    "            \n",
    "#         else:\n",
    "#             left = mid+1\n",
    "            \n",
    "    \n",
    "            \n",
    "    \n",
    "    \n",
    "# find_sqrt(28)\n",
    "\n",
    "###### This is one version but it was not working for all cases\n",
    "    "
   ]
  },
  {
   "cell_type": "code",
   "execution_count": 14,
   "id": "8879d6f0",
   "metadata": {},
   "outputs": [
    {
     "data": {
      "text/plain": [
       "5"
      ]
     },
     "execution_count": 14,
     "metadata": {},
     "output_type": "execute_result"
    }
   ],
   "source": [
    "def find_sqrt(num):\n",
    "    if num<2:\n",
    "        return num\n",
    "    \n",
    "    left, right = 1, num//2\n",
    "    ans = 1\n",
    "    \n",
    "    while left <= right:\n",
    "        mid = (left+right)//2\n",
    "        square = mid*mid\n",
    "        \n",
    "        if square == num:\n",
    "            return mid\n",
    "        \n",
    "        elif square<num:\n",
    "            ans = mid  \n",
    "            left = mid+1\n",
    "            \n",
    "        else:\n",
    "            right = mid -1\n",
    "            \n",
    "    return ans\n",
    "\n",
    "find_sqrt(28)"
   ]
  },
  {
   "cell_type": "markdown",
   "id": "48076795",
   "metadata": {},
   "source": [
    "# 2) Find the Smallest Divisor Given a Threshold"
   ]
  },
  {
   "cell_type": "markdown",
   "id": "7fbdd121",
   "metadata": {},
   "source": [
    "Problem Statement: You are given an array of integers 'arr' and an integer i.e. a threshold value 'limit'. Your task is to find the smallest positive integer divisor, such that upon dividing all the elements of the given array by it, the sum of the division's result is less than or equal to the given threshold value.\n",
    "\n",
    "Examples\n",
    "\n",
    "Example 1:\n",
    "Input Format: N = 5, arr[] = {1,2,3,4,5}, limit = 8\n",
    "Result: 3\n",
    "Explanation: We can get a sum of 15(1 + 2 + 3 + 4 + 5) if we choose 1 as a divisor. \n",
    "The sum is 9(1 + 1 + 2 + 2 + 3)  if we choose 2 as a divisor. Upon dividing all the elements of the array by 3, we get 1,1,1,2,2 respectively. Now, their sum is equal to 7 <= 8 i.e. the threshold value. So, 3 is the minimum possible answer.\n",
    "\n",
    "Example 2:\n",
    "Input Format: N = 4, arr[] = {8,4,2,3}, limit = 10\n",
    "Result: 2\n",
    "Explanation: If we choose 1, we get 17 as the sum. If we choose 2, we get 9(4+2+1+2) <= 10 as the answer. So, 2 is the answer.\n",
    "\n",
    "\n",
    "\n",
    "Point to remember:\n",
    "\n",
    "\n",
    "While dividing the array elements with a chosen number, we will always take the ceiling value. And then we will consider their summation. For example, 3 / 2 = 2.\n",
    "\n",
    "Observation: \n",
    "\n",
    "\n",
    "Minimum possible divisor: We can easily consider 1 as the minimum divisor as it is the smallest positive integer.\n",
    "Maximum possible divisor: If we observe, we can conclude the maximum element in the array i.e. max(arr[]) is the maximum possible divisor. Any number > max(arr[]), will give the exact same result as max(arr[]) does. This divisor will generate the minimum possible result i.e. n(1 for each element), where n = size of the array.\n",
    "\n",
    "With these observations, we can surely say that our answer will lie in the range \n",
    "[1, max(arr[])]."
   ]
  },
  {
   "cell_type": "code",
   "execution_count": 22,
   "id": "4e7f4531",
   "metadata": {},
   "outputs": [
    {
     "data": {
      "text/plain": [
       "5"
      ]
     },
     "execution_count": 22,
     "metadata": {},
     "output_type": "execute_result"
    }
   ],
   "source": [
    "def smallestDivisor(nums,threshold):\n",
    "    def get_sum(divisor):\n",
    "        s = 0\n",
    "        for n in nums:\n",
    "            s += (n + divisor - 1) // divisor\n",
    "            \n",
    "        return s\n",
    "    \n",
    "    left, right = 1, max(nums)\n",
    "    \n",
    "    ans = right\n",
    "    \n",
    "    while left <= right:\n",
    "        mid = (left+right)//2\n",
    "        \n",
    "        if get_sum(mid) <= threshold:\n",
    "            ans = mid\n",
    "            right = mid - 1\n",
    "            \n",
    "        else:\n",
    "            left = mid + 1\n",
    "            \n",
    "    return ans\n",
    "\n",
    "nums = [1,2,5,9]\n",
    "threshold = 6\n",
    "\n",
    "smallestDivisor(nums,threshold)"
   ]
  },
  {
   "cell_type": "code",
   "execution_count": null,
   "id": "c1860387",
   "metadata": {},
   "outputs": [],
   "source": []
  }
 ],
 "metadata": {
  "kernelspec": {
   "display_name": "Python 3 (ipykernel)",
   "language": "python",
   "name": "python3"
  },
  "language_info": {
   "codemirror_mode": {
    "name": "ipython",
    "version": 3
   },
   "file_extension": ".py",
   "mimetype": "text/x-python",
   "name": "python",
   "nbconvert_exporter": "python",
   "pygments_lexer": "ipython3",
   "version": "3.11.5"
  }
 },
 "nbformat": 4,
 "nbformat_minor": 5
}
