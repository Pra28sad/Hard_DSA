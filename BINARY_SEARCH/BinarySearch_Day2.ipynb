{
 "cells": [
  {
   "cell_type": "markdown",
   "id": "efcd58c4",
   "metadata": {},
   "source": [
    "# 1) Last Occurance in a Sorted Array"
   ]
  },
  {
   "cell_type": "markdown",
   "id": "288a4774",
   "metadata": {},
   "source": [
    "Given a sorted array of N integers, write a program to find the index of the last occurrence of the target key. If the target is not found then return -1.\n",
    "\n",
    "Note: Consider 0 based indexing\n",
    "\n",
    "Examples:\n",
    "\n",
    "Example 1:\n",
    "Input: N = 7, target=13, array[] = {3,4,13,13,13,20,40}\n",
    "Output: 4\n",
    "Explanation: As the target value is 13 , it appears for the first time at index number 2.\n",
    "\n",
    "Example 2:\n",
    "Input: N = 7, target=60, array[] = {3,4,13,13,13,20,40}\n",
    "Output: -1\n",
    "Explanation: Target value 60 is not present in the array "
   ]
  },
  {
   "cell_type": "code",
   "execution_count": 6,
   "id": "049ea2a2",
   "metadata": {},
   "outputs": [
    {
     "data": {
      "text/plain": [
       "7"
      ]
     },
     "execution_count": 6,
     "metadata": {},
     "output_type": "execute_result"
    }
   ],
   "source": [
    "def binarySearch(arr,target):\n",
    "    low  = 0\n",
    "    high = len(arr)-1\n",
    "    ans = -1\n",
    "    while low<=high:\n",
    "        mid = (low+high)//2\n",
    "        \n",
    "        if target == arr[mid]:\n",
    "            ans = mid\n",
    "            low = mid+1\n",
    "        elif arr[mid]<target:\n",
    "            low = mid+1\n",
    "            \n",
    "        else:\n",
    "            high = mid-1\n",
    "            \n",
    "    return ans\n",
    "\n",
    "\n",
    "    \n",
    "\n",
    "binarySearch([3,4,13,13,20,40,40,40,50],40)"
   ]
  },
  {
   "cell_type": "markdown",
   "id": "221ed189",
   "metadata": {},
   "source": [
    "### This problem is for to find both first and last"
   ]
  },
  {
   "cell_type": "code",
   "execution_count": 7,
   "id": "4da134cb",
   "metadata": {},
   "outputs": [
    {
     "data": {
      "text/plain": [
       "(5, 7)"
      ]
     },
     "execution_count": 7,
     "metadata": {},
     "output_type": "execute_result"
    }
   ],
   "source": [
    "def binarySearchLast(arr,target):\n",
    "    low  = 0\n",
    "    high = len(arr)-1\n",
    "    ans = -1\n",
    "    while low<=high:\n",
    "        mid = (low+high)//2\n",
    "        \n",
    "        if target == arr[mid]:\n",
    "            ans = mid\n",
    "            low = mid+1\n",
    "        elif arr[mid]<target:\n",
    "            low = mid+1\n",
    "            \n",
    "        else:\n",
    "            high = mid-1\n",
    "            \n",
    "    return ans\n",
    "\n",
    "def binarySearchFirst(arr,target):\n",
    "    low = 0\n",
    "    high = len(arr)-1\n",
    "    ans=-1\n",
    "    while low<=high:\n",
    "        mid = (low+high)//2\n",
    "        \n",
    "        if target == arr[mid]:\n",
    "            ans = mid\n",
    "            high=mid-1\n",
    "        elif arr[mid]<target:\n",
    "            low = mid+1\n",
    "        else:\n",
    "            high = mid-1\n",
    "    return ans\n",
    "\n",
    "def toFindFirstLastOccurance(arr,target):\n",
    "    return binarySearchFirst(arr,target),binarySearchLast(arr,target)\n",
    "    \n",
    "\n",
    "toFindFirstLastOccurance([3,4,13,13,20,40,40,40,50],40)"
   ]
  },
  {
   "cell_type": "markdown",
   "id": "874939db",
   "metadata": {},
   "source": [
    "# 2) Count Occurances in Sorted Array"
   ]
  },
  {
   "cell_type": "markdown",
   "id": "90e08f5e",
   "metadata": {},
   "source": [
    "Problem Statement: You are given a sorted array containing N integers and a number X, you have to find the occurrences of X in the given array.\n",
    "\n",
    "Examples\n",
    "\n",
    "Example 1:\n",
    "Input: N = 7,  X = 3 , array[] = {2, 2 , 3 , 3 , 3 , 3 , 4}\n",
    "Output: 4\n",
    "Explanation: 3 is occurring 4 times in \n",
    "the given array so it is our answer.\n",
    "\n",
    "Example 2:\n",
    "Input: N = 8,  X = 2 , array[] = {1, 1, 2, 2, 2, 2, 2, 3}\n",
    "Output: 5\n",
    "Explanation: 2 is occurring 5 times in the given array so it is our answer."
   ]
  },
  {
   "cell_type": "code",
   "execution_count": 15,
   "id": "c36bcb7a",
   "metadata": {},
   "outputs": [
    {
     "name": "stdout",
     "output_type": "stream",
     "text": [
      "4\n"
     ]
    }
   ],
   "source": [
    "def binary_search_count(arr, target):\n",
    "    def find_first(arr, target):\n",
    "        low, high = 0, len(arr) - 1\n",
    "        ans = -1\n",
    "        while low <= high:\n",
    "            mid = (low + high) // 2\n",
    "            if arr[mid] == target:\n",
    "                ans = mid\n",
    "                high = mid - 1  # search left\n",
    "            elif arr[mid] < target:\n",
    "                low = mid + 1\n",
    "            else:\n",
    "                high = mid - 1\n",
    "        return ans\n",
    "\n",
    "    def find_last(arr, target):\n",
    "        low, high = 0, len(arr) - 1\n",
    "        ans = -1\n",
    "        while low <= high:\n",
    "            mid = (low + high) // 2\n",
    "            if arr[mid] == target:\n",
    "                ans = mid\n",
    "                low = mid + 1  # search right\n",
    "            elif arr[mid] < target:\n",
    "                low = mid + 1\n",
    "            else:\n",
    "                high = mid - 1\n",
    "        return ans\n",
    "\n",
    "    first = find_first(arr, target)\n",
    "    last = find_last(arr, target)\n",
    "\n",
    "    if first == -1 or last == -1:\n",
    "        return 0  # element not found\n",
    "    return (last - first) + 1\n",
    "\n",
    "print(binary_search_count([2, 2, 3, 3, 3, 3, 4], 3))   "
   ]
  },
  {
   "cell_type": "markdown",
   "id": "797c792a",
   "metadata": {},
   "source": [
    "# 3) Search Element in a Rotated Sorted Array"
   ]
  },
  {
   "cell_type": "markdown",
   "id": "8b08da10",
   "metadata": {},
   "source": [
    "Problem Statement: Given an integer array arr of size N, sorted in ascending order (with distinct values) and a target value k. Now the array is rotated at some pivot point unknown to you. Find the index at which k is present and if k is not present return -1.\n",
    "\n",
    "Examples\n",
    "\n",
    "Example 1:\n",
    "Input Format: arr = [4,5,6,7,0,1,2,3], k = 0\n",
    "Result: 4\n",
    "Explanation: Here, the target is 0. We can see that 0 is present in the given rotated sorted array, nums. Thus, we get output as 4, which is the index at which 0 is present in the array.\n",
    "\n",
    "Example 2:\n",
    "Input Format: arr = [4,5,6,7,0,1,2], k = 3\n",
    "Result: -1\n",
    "Explanation: Here, the target is 3. Since 3 is not present in the given rotated sorted array. Thus, we get the output as -1."
   ]
  },
  {
   "cell_type": "code",
   "execution_count": 17,
   "id": "6bfa1614",
   "metadata": {},
   "outputs": [
    {
     "data": {
      "text/plain": [
       "5"
      ]
     },
     "execution_count": 17,
     "metadata": {},
     "output_type": "execute_result"
    }
   ],
   "source": [
    "def binary_search_rotated_array(arr,target):\n",
    "    left = 0\n",
    "    right = len(arr)-1\n",
    "    \n",
    "    while left<=right:\n",
    "        mid = (left+right)//2\n",
    "        \n",
    "        if arr[mid]==target:\n",
    "            return mid\n",
    "        \n",
    "        ## left half is sorted\n",
    "        if arr[left] <= arr[mid]:\n",
    "            if arr[left] <= target < arr[mid]:\n",
    "                right = mid-1\n",
    "            else:\n",
    "                left = mid+1\n",
    "        \n",
    "        #right half is sorted        \n",
    "        else:\n",
    "            \n",
    "            if arr[mid]<target<=arr[right]:\n",
    "                left = mid+1\n",
    "            else:\n",
    "                right = mid-1\n",
    "                \n",
    "    return -1\n",
    "            \n",
    "    \n",
    "arr = [4,5,6,7,0,1,2]\n",
    "target = 1\n",
    "binary_search_rotated_array(arr,target)"
   ]
  },
  {
   "cell_type": "markdown",
   "id": "b7932cc7",
   "metadata": {},
   "source": [
    "# 4) Search Element in Rotated Sorted Array II"
   ]
  },
  {
   "cell_type": "markdown",
   "id": "00ad4423",
   "metadata": {},
   "source": [
    "Problem Statement: Given an integer array arr of size N, sorted in ascending order (may contain duplicate values) and a target value k. Now the array is rotated at some pivot point unknown to you. Return True if k is present and otherwise, return False. \n",
    "\n",
    "Pre-requisite: Search Element in Rotated Sorted Array I & Binary Search algorithm\n",
    "\n",
    "Examples\n",
    "\n",
    "Example 1:\n",
    "Input Format: arr = [7, 8, 1, 2, 3, 3, 3, 4, 5, 6], k = 3\n",
    "Result: True\n",
    "Explanation: The element 3 is present in the array. So, the answer is True.\n",
    "\n",
    "Example 2:\n",
    "Input Format: arr = [7, 8, 1, 2, 3, 3, 3, 4, 5, 6], k = 10\n",
    "Result: False\n",
    "Explanation: The element 10 is not present in the array. So, the answer is False."
   ]
  },
  {
   "cell_type": "code",
   "execution_count": 22,
   "id": "0ea00264",
   "metadata": {},
   "outputs": [
    {
     "data": {
      "text/plain": [
       "False"
      ]
     },
     "execution_count": 22,
     "metadata": {},
     "output_type": "execute_result"
    }
   ],
   "source": [
    "def Search_rotated_dup_array(arr,target):\n",
    "    left = 0\n",
    "    right = len(arr)-1\n",
    "    \n",
    "    while left<=right:\n",
    "        mid = (left+right)//2\n",
    "        \n",
    "        if arr[mid]==target:\n",
    "            return True\n",
    "        \n",
    "        ## if we have duplicated at both ends, skip them\n",
    "        if arr[left] == arr[mid] == arr[right]:\n",
    "            left += 1\n",
    "            right -= 1\n",
    "            continue\n",
    "        \n",
    "        \n",
    "        ##left half sorted\n",
    "        if arr[left]<= arr[mid]:\n",
    "            if arr[left]<=target<arr[mid]:\n",
    "                right = mid -1\n",
    "            else:\n",
    "                left = mid+1\n",
    "                \n",
    "        else:\n",
    "            if arr[mid]< target <= arr[right]:\n",
    "                left = mid+1\n",
    "            else:\n",
    "                right = mid -1\n",
    "    return False\n",
    "\n",
    "Search_rotated_dup_array([7,8,1,2,3,3,3,4,5,6],10)\n",
    "                "
   ]
  },
  {
   "cell_type": "code",
   "execution_count": null,
   "id": "b1cb0e1e",
   "metadata": {},
   "outputs": [],
   "source": []
  },
  {
   "cell_type": "code",
   "execution_count": null,
   "id": "c9a4b713",
   "metadata": {},
   "outputs": [],
   "source": []
  }
 ],
 "metadata": {
  "kernelspec": {
   "display_name": "Python 3 (ipykernel)",
   "language": "python",
   "name": "python3"
  },
  "language_info": {
   "codemirror_mode": {
    "name": "ipython",
    "version": 3
   },
   "file_extension": ".py",
   "mimetype": "text/x-python",
   "name": "python",
   "nbconvert_exporter": "python",
   "pygments_lexer": "ipython3",
   "version": "3.11.5"
  }
 },
 "nbformat": 4,
 "nbformat_minor": 5
}
