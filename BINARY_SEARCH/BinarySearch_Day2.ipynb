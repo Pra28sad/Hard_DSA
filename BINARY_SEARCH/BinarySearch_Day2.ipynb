{
 "cells": [
  {
   "cell_type": "markdown",
   "id": "efcd58c4",
   "metadata": {},
   "source": [
    "# 1) Last Occurance in a Sorted Array"
   ]
  },
  {
   "cell_type": "markdown",
   "id": "288a4774",
   "metadata": {},
   "source": [
    "Given a sorted array of N integers, write a program to find the index of the last occurrence of the target key. If the target is not found then return -1.\n",
    "\n",
    "Note: Consider 0 based indexing\n",
    "\n",
    "Examples:\n",
    "\n",
    "Example 1:\n",
    "Input: N = 7, target=13, array[] = {3,4,13,13,13,20,40}\n",
    "Output: 4\n",
    "Explanation: As the target value is 13 , it appears for the first time at index number 2.\n",
    "\n",
    "Example 2:\n",
    "Input: N = 7, target=60, array[] = {3,4,13,13,13,20,40}\n",
    "Output: -1\n",
    "Explanation: Target value 60 is not present in the array "
   ]
  },
  {
   "cell_type": "code",
   "execution_count": 6,
   "id": "049ea2a2",
   "metadata": {},
   "outputs": [
    {
     "data": {
      "text/plain": [
       "7"
      ]
     },
     "execution_count": 6,
     "metadata": {},
     "output_type": "execute_result"
    }
   ],
   "source": [
    "def binarySearch(arr,target):\n",
    "    low  = 0\n",
    "    high = len(arr)-1\n",
    "    ans = -1\n",
    "    while low<=high:\n",
    "        mid = (low+high)//2\n",
    "        \n",
    "        if target == arr[mid]:\n",
    "            ans = mid\n",
    "            low = mid+1\n",
    "        elif arr[mid]<target:\n",
    "            low = mid+1\n",
    "            \n",
    "        else:\n",
    "            high = mid-1\n",
    "            \n",
    "    return ans\n",
    "\n",
    "\n",
    "    \n",
    "\n",
    "binarySearch([3,4,13,13,20,40,40,40,50],40)"
   ]
  },
  {
   "cell_type": "markdown",
   "id": "221ed189",
   "metadata": {},
   "source": [
    "### This problem is for to find both first and last"
   ]
  },
  {
   "cell_type": "code",
   "execution_count": 7,
   "id": "4da134cb",
   "metadata": {},
   "outputs": [
    {
     "data": {
      "text/plain": [
       "(5, 7)"
      ]
     },
     "execution_count": 7,
     "metadata": {},
     "output_type": "execute_result"
    }
   ],
   "source": [
    "def binarySearchLast(arr,target):\n",
    "    low  = 0\n",
    "    high = len(arr)-1\n",
    "    ans = -1\n",
    "    while low<=high:\n",
    "        mid = (low+high)//2\n",
    "        \n",
    "        if target == arr[mid]:\n",
    "            ans = mid\n",
    "            low = mid+1\n",
    "        elif arr[mid]<target:\n",
    "            low = mid+1\n",
    "            \n",
    "        else:\n",
    "            high = mid-1\n",
    "            \n",
    "    return ans\n",
    "\n",
    "def binarySearchFirst(arr,target):\n",
    "    low = 0\n",
    "    high = len(arr)-1\n",
    "    ans=-1\n",
    "    while low<=high:\n",
    "        mid = (low+high)//2\n",
    "        \n",
    "        if target == arr[mid]:\n",
    "            ans = mid\n",
    "            high=mid-1\n",
    "        elif arr[mid]<target:\n",
    "            low = mid+1\n",
    "        else:\n",
    "            high = mid-1\n",
    "    return ans\n",
    "\n",
    "def toFindFirstLastOccurance(arr,target):\n",
    "    return binarySearchFirst(arr,target),binarySearchLast(arr,target)\n",
    "    \n",
    "\n",
    "toFindFirstLastOccurance([3,4,13,13,20,40,40,40,50],40)"
   ]
  },
  {
   "cell_type": "markdown",
   "id": "874939db",
   "metadata": {},
   "source": [
    "# 2) Count Occurances in Sorted Array"
   ]
  },
  {
   "cell_type": "markdown",
   "id": "90e08f5e",
   "metadata": {},
   "source": [
    "Problem Statement: You are given a sorted array containing N integers and a number X, you have to find the occurrences of X in the given array.\n",
    "\n",
    "Examples\n",
    "\n",
    "Example 1:\n",
    "Input: N = 7,  X = 3 , array[] = {2, 2 , 3 , 3 , 3 , 3 , 4}\n",
    "Output: 4\n",
    "Explanation: 3 is occurring 4 times in \n",
    "the given array so it is our answer.\n",
    "\n",
    "Example 2:\n",
    "Input: N = 8,  X = 2 , array[] = {1, 1, 2, 2, 2, 2, 2, 3}\n",
    "Output: 5\n",
    "Explanation: 2 is occurring 5 times in the given array so it is our answer."
   ]
  },
  {
   "cell_type": "code",
   "execution_count": 15,
   "id": "c36bcb7a",
   "metadata": {},
   "outputs": [
    {
     "name": "stdout",
     "output_type": "stream",
     "text": [
      "4\n"
     ]
    }
   ],
   "source": [
    "def binary_search_count(arr, target):\n",
    "    def find_first(arr, target):\n",
    "        low, high = 0, len(arr) - 1\n",
    "        ans = -1\n",
    "        while low <= high:\n",
    "            mid = (low + high) // 2\n",
    "            if arr[mid] == target:\n",
    "                ans = mid\n",
    "                high = mid - 1  # search left\n",
    "            elif arr[mid] < target:\n",
    "                low = mid + 1\n",
    "            else:\n",
    "                high = mid - 1\n",
    "        return ans\n",
    "\n",
    "    def find_last(arr, target):\n",
    "        low, high = 0, len(arr) - 1\n",
    "        ans = -1\n",
    "        while low <= high:\n",
    "            mid = (low + high) // 2\n",
    "            if arr[mid] == target:\n",
    "                ans = mid\n",
    "                low = mid + 1  # search right\n",
    "            elif arr[mid] < target:\n",
    "                low = mid + 1\n",
    "            else:\n",
    "                high = mid - 1\n",
    "        return ans\n",
    "\n",
    "    first = find_first(arr, target)\n",
    "    last = find_last(arr, target)\n",
    "\n",
    "    if first == -1 or last == -1:\n",
    "        return 0  # element not found\n",
    "    return (last - first) + 1\n",
    "\n",
    "print(binary_search_count([2, 2, 3, 3, 3, 3, 4], 3))   "
   ]
  },
  {
   "cell_type": "markdown",
   "id": "797c792a",
   "metadata": {},
   "source": [
    "# 3) Search Element in a Rotated Sorted Array"
   ]
  },
  {
   "cell_type": "markdown",
   "id": "8b08da10",
   "metadata": {},
   "source": [
    "Problem Statement: Given an integer array arr of size N, sorted in ascending order (with distinct values) and a target value k. Now the array is rotated at some pivot point unknown to you. Find the index at which k is present and if k is not present return -1.\n",
    "\n",
    "Examples\n",
    "\n",
    "Example 1:\n",
    "Input Format: arr = [4,5,6,7,0,1,2,3], k = 0\n",
    "Result: 4\n",
    "Explanation: Here, the target is 0. We can see that 0 is present in the given rotated sorted array, nums. Thus, we get output as 4, which is the index at which 0 is present in the array.\n",
    "\n",
    "Example 2:\n",
    "Input Format: arr = [4,5,6,7,0,1,2], k = 3\n",
    "Result: -1\n",
    "Explanation: Here, the target is 3. Since 3 is not present in the given rotated sorted array. Thus, we get the output as -1."
   ]
  },
  {
   "cell_type": "code",
   "execution_count": 17,
   "id": "6bfa1614",
   "metadata": {},
   "outputs": [
    {
     "data": {
      "text/plain": [
       "5"
      ]
     },
     "execution_count": 17,
     "metadata": {},
     "output_type": "execute_result"
    }
   ],
   "source": [
    "def binary_search_rotated_array(arr,target):\n",
    "    left = 0\n",
    "    right = len(arr)-1\n",
    "    \n",
    "    while left<=right:\n",
    "        mid = (left+right)//2\n",
    "        \n",
    "        if arr[mid]==target:\n",
    "            return mid\n",
    "        \n",
    "        ## left half is sorted\n",
    "        if arr[left] <= arr[mid]:\n",
    "            if arr[left] <= target < arr[mid]:\n",
    "                right = mid-1\n",
    "            else:\n",
    "                left = mid+1\n",
    "        \n",
    "        #right half is sorted        \n",
    "        else:\n",
    "            \n",
    "            if arr[mid]<target<=arr[right]:\n",
    "                left = mid+1\n",
    "            else:\n",
    "                right = mid-1\n",
    "                \n",
    "    return -1\n",
    "            \n",
    "    \n",
    "arr = [4,5,6,7,0,1,2]\n",
    "target = 1\n",
    "binary_search_rotated_array(arr,target)"
   ]
  },
  {
   "cell_type": "markdown",
   "id": "b7932cc7",
   "metadata": {},
   "source": [
    "# 4) Search Element in Rotated Sorted Array II"
   ]
  },
  {
   "cell_type": "markdown",
   "id": "00ad4423",
   "metadata": {},
   "source": [
    "Problem Statement: Given an integer array arr of size N, sorted in ascending order (may contain duplicate values) and a target value k. Now the array is rotated at some pivot point unknown to you. Return True if k is present and otherwise, return False. \n",
    "\n",
    "Pre-requisite: Search Element in Rotated Sorted Array I & Binary Search algorithm\n",
    "\n",
    "Examples\n",
    "\n",
    "Example 1:\n",
    "Input Format: arr = [7, 8, 1, 2, 3, 3, 3, 4, 5, 6], k = 3\n",
    "Result: True\n",
    "Explanation: The element 3 is present in the array. So, the answer is True.\n",
    "\n",
    "Example 2:\n",
    "Input Format: arr = [7, 8, 1, 2, 3, 3, 3, 4, 5, 6], k = 10\n",
    "Result: False\n",
    "Explanation: The element 10 is not present in the array. So, the answer is False."
   ]
  },
  {
   "cell_type": "code",
   "execution_count": 22,
   "id": "0ea00264",
   "metadata": {},
   "outputs": [
    {
     "data": {
      "text/plain": [
       "False"
      ]
     },
     "execution_count": 22,
     "metadata": {},
     "output_type": "execute_result"
    }
   ],
   "source": [
    "def Search_rotated_dup_array(arr,target):\n",
    "    left = 0\n",
    "    right = len(arr)-1\n",
    "    \n",
    "    while left<=right:\n",
    "        mid = (left+right)//2\n",
    "        \n",
    "        if arr[mid]==target:\n",
    "            return True\n",
    "        \n",
    "        ## if we have duplicated at both ends, skip them\n",
    "        if arr[left] == arr[mid] == arr[right]:\n",
    "            left += 1\n",
    "            right -= 1\n",
    "            continue\n",
    "        \n",
    "        \n",
    "        ##left half sorted\n",
    "        if arr[left]<= arr[mid]:\n",
    "            if arr[left]<=target<arr[mid]:\n",
    "                right = mid -1\n",
    "            else:\n",
    "                left = mid+1\n",
    "                \n",
    "        else:\n",
    "            if arr[mid]< target <= arr[right]:\n",
    "                left = mid+1\n",
    "            else:\n",
    "                right = mid -1\n",
    "    return False\n",
    "\n",
    "Search_rotated_dup_array([7,8,1,2,3,3,3,4,5,6],10)\n",
    "                "
   ]
  },
  {
   "cell_type": "markdown",
   "id": "2c65614d",
   "metadata": {},
   "source": [
    "# 5)  Minimum in Rotated Sorted Array"
   ]
  },
  {
   "cell_type": "markdown",
   "id": "489e5da9",
   "metadata": {},
   "source": [
    "Problem Statement: Given an integer array arr of size N, sorted in ascending order (with distinct values). Now the array is rotated between 1 to N times which is unknown. Find the minimum element in the array. \n",
    "\n",
    "Pre-requisites: Search in Rotated Sorted Array I,  Search in Rotated Sorted Array II & Binary Search algorithm\n",
    "\n",
    "Examples\n",
    "\n",
    "Example 1:\n",
    "Input Format: arr = [4,5,6,7,0,1,2,3]\n",
    "Result: 0\n",
    "Explanation: Here, the element 0 is the minimum element in the array.\n",
    "\n",
    "Example 2:\n",
    "Input Format: arr = [3,4,5,1,2]\n",
    "Result: 1\n",
    "Explanation: Here, the element 1 is the minimum element in the array."
   ]
  },
  {
   "cell_type": "code",
   "execution_count": 11,
   "id": "5c0fc7ad",
   "metadata": {},
   "outputs": [
    {
     "data": {
      "text/plain": [
       "1"
      ]
     },
     "execution_count": 11,
     "metadata": {},
     "output_type": "execute_result"
    }
   ],
   "source": [
    "def Min_rotate_binary_Search(arr):\n",
    "    left, right = 0, len(arr)-1\n",
    "    n=len(arr)\n",
    "    if arr[left] <= arr[right]:\n",
    "        return arr[left]\n",
    "    else: \n",
    "        while left<=right:\n",
    "            mid = (left+right)//2\n",
    "\n",
    "            if arr[mid%n]>arr[(mid+1)%n]:\n",
    "                return arr[mid+1]\n",
    "\n",
    "            elif arr[mid%n]>arr[right]:\n",
    "                left = mid+1\n",
    "            else:\n",
    "                right = mid\n",
    "            \n",
    "    return -1\n",
    "\n",
    "Min_rotate_binary_Search([4,5,6,7,8,9,1])"
   ]
  },
  {
   "cell_type": "markdown",
   "id": "65ff5241",
   "metadata": {},
   "source": [
    "#### another approach\n"
   ]
  },
  {
   "cell_type": "code",
   "execution_count": 12,
   "id": "c615a183",
   "metadata": {},
   "outputs": [],
   "source": [
    "def Min_rotate_binary_Search(arr):\n",
    "    left, right = 0, len(arr) - 1\n",
    "    \n",
    "    while left < right:\n",
    "        mid = (left + right) // 2\n",
    "        \n",
    "        # If mid element is greater than the rightmost, min is in right half\n",
    "        if arr[mid] > arr[right]:\n",
    "            left = mid + 1\n",
    "        else:\n",
    "            # Otherwise, min is in left half (including mid)\n",
    "            right = mid\n",
    "    \n",
    "    # At the end, left == right -> index of minimum\n",
    "    return arr[left]\n"
   ]
  },
  {
   "cell_type": "markdown",
   "id": "b5536124",
   "metadata": {},
   "source": [
    "# Find out how many times the array has been rotated"
   ]
  },
  {
   "cell_type": "markdown",
   "id": "27f27b74",
   "metadata": {},
   "source": [
    "Problem Statement: Given an integer array arr of size N, sorted in ascending order (with distinct values). Now the array is rotated between 1 to N times which is unknown. Find how many times the array has been rotated. \n",
    "\n",
    "Pre-requisites: Find minimum in Rotated Sorted Array,  Search in Rotated Sorted Array II & Binary Search algorithm\n",
    "\n",
    "Examples\n",
    "\n",
    "Example 1:\n",
    "Input Format: arr = [4,5,6,7,0,1,2,3]\n",
    "Result: 4\n",
    "Explanation: The original array should be [0,1,2,3,4,5,6,7]. So, we can notice that the array has been rotated 4 times.\n",
    "\n",
    "Example 2:\n",
    "Input Format: arr = [3,4,5,1,2]\n",
    "Result: 3\n",
    "Explanation: The original array should be [1,2,3,4,5]. So, we can notice that the array has been rotated 3 times."
   ]
  },
  {
   "cell_type": "code",
   "execution_count": 13,
   "id": "31f0e609",
   "metadata": {},
   "outputs": [
    {
     "data": {
      "text/plain": [
       "3"
      ]
     },
     "execution_count": 13,
     "metadata": {},
     "output_type": "execute_result"
    }
   ],
   "source": [
    "def find_count_binarySearch(arr):\n",
    "    left = 0\n",
    "    right = len(arr)-1\n",
    "    n = len(arr)\n",
    "    while left<=right:\n",
    "        \n",
    "        mid = (left+right)//2\n",
    "         \n",
    "        if arr[mid%n]>arr[(mid+1)%n]:\n",
    "            return right - (mid+1)\n",
    "        elif arr[mid]>arr[right]:\n",
    "            left = mid+1\n",
    "        else:\n",
    "            right = mid\n",
    "    \n",
    "    return 0\n",
    "\n",
    "find_count_binarySearch([4,5,6,7,0,1,2,3] )"
   ]
  },
  {
   "cell_type": "code",
   "execution_count": null,
   "id": "0b9295d0",
   "metadata": {},
   "outputs": [],
   "source": []
  }
 ],
 "metadata": {
  "kernelspec": {
   "display_name": "Python 3 (ipykernel)",
   "language": "python",
   "name": "python3"
  },
  "language_info": {
   "codemirror_mode": {
    "name": "ipython",
    "version": 3
   },
   "file_extension": ".py",
   "mimetype": "text/x-python",
   "name": "python",
   "nbconvert_exporter": "python",
   "pygments_lexer": "ipython3",
   "version": "3.11.5"
  }
 },
 "nbformat": 4,
 "nbformat_minor": 5
}
