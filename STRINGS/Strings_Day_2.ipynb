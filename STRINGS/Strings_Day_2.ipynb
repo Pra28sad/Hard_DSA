{
 "cells": [
  {
   "cell_type": "markdown",
   "id": "bcd80b7e",
   "metadata": {},
   "source": [
    "# 1) Check if two Strings are anagrams of each other"
   ]
  },
  {
   "cell_type": "markdown",
   "id": "b8bf9eab",
   "metadata": {},
   "source": [
    "Problem Statement: Given two strings, check if two strings are anagrams of each other or not.\n",
    "\n",
    "Examples:\n",
    "\n",
    "Example 1:\n",
    "Input: CAT, ACT\n",
    "Output: true\n",
    "Explanation: Since the count of every letter of both strings are equal.\n",
    "\n",
    "Example 2:\n",
    "Input: RULES, LESRT \n",
    "Output: false\n",
    "Explanation: Since the count of U and T  is not equal in both strings."
   ]
  },
  {
   "cell_type": "code",
   "execution_count": 4,
   "id": "0a1f3ea8",
   "metadata": {},
   "outputs": [
    {
     "data": {
      "text/plain": [
       "True"
      ]
     },
     "execution_count": 4,
     "metadata": {},
     "output_type": "execute_result"
    }
   ],
   "source": [
    "def check_anagrams(str1, str2):\n",
    "    if len(str1)!=len(str2):\n",
    "        return False\n",
    "    \n",
    "    d = {}\n",
    "    for i in range(len(str1)):\n",
    "        if str1[i] in d:\n",
    "            d[str1[i]] += 1\n",
    "        else:\n",
    "            d[str1[i]] = 1\n",
    "            \n",
    "    for ch in str2:\n",
    "        if ch in d:\n",
    "            d[ch] -= 1\n",
    "            \n",
    "        else:\n",
    "            d[ch] = 1\n",
    "            \n",
    "    for k,v in d.items():\n",
    "        if v != 0:\n",
    "            return False\n",
    "        \n",
    "    return True\n",
    "        \n",
    "check_anagrams(\"AADMM\",\"MADAM\")\n",
    "        "
   ]
  },
  {
   "cell_type": "markdown",
   "id": "393e8889",
   "metadata": {},
   "source": [
    "# 2) Sort Characters by frequency"
   ]
  },
  {
   "cell_type": "markdown",
   "id": "63477c37",
   "metadata": {},
   "source": [
    "Problem Statement: You are given a string s. Return the array of unique characters, sorted by highest to lowest occurring characters.\n",
    "If two or more characters have same frequency then arrange them in alphabetic order.\n",
    "Examples\n",
    "                \n",
    "Example 1:\n",
    "\n",
    "Input: s = \"tree\"\n",
    "\n",
    "Output: ['e', 'r', 't']\n",
    "\n",
    "Explanation:\n",
    "e → 2\n",
    "r → 1\n",
    "t → 1\n",
    "\n",
    "Since 'r' and 't' have the same frequency, they are sorted alphabetically → 'r' comes before 't'.\n",
    "\n",
    "Example 2:\n",
    "\n",
    "Input: s = \"raaaajj\"\n",
    "\n",
    "Output: ['a', 'j', 'r']\n",
    "\n",
    "Explanation:\n",
    "a → 4\n",
    "j → 2\n",
    "r → 1\n",
    "\n",
    "Characters are sorted by decreasing frequency. In case of ties, alphabetically.\n",
    "            "
   ]
  },
  {
   "cell_type": "code",
   "execution_count": 15,
   "id": "4582c1b4",
   "metadata": {},
   "outputs": [
    {
     "name": "stdout",
     "output_type": "stream",
     "text": [
      "-1 b\n",
      "-1 r\n",
      "-4 a\n",
      "-2 j\n"
     ]
    },
    {
     "data": {
      "text/plain": [
       "['a', 'j', 'b', 'r']"
      ]
     },
     "execution_count": 15,
     "metadata": {},
     "output_type": "execute_result"
    }
   ],
   "source": [
    "def Sort_char_freq(s):\n",
    "    d = {}\n",
    "    \n",
    "    for ch in s:\n",
    "        if ch not in d:\n",
    "            d[ch] = 1\n",
    "        else:\n",
    "            d[ch] += 1\n",
    " \n",
    "    def sort_key(ch):\n",
    "        print(-d[ch],ch)\n",
    "        return (-d[ch],ch)\n",
    "           \n",
    "    sorted_chars = sorted(d.keys(),key=sort_key)\n",
    "    return sorted_chars\n",
    "\n",
    "Sort_char_freq(\"braaaajj\")\n",
    "    "
   ]
  },
  {
   "cell_type": "code",
   "execution_count": 16,
   "id": "f4304c30",
   "metadata": {},
   "outputs": [
    {
     "name": "stdout",
     "output_type": "stream",
     "text": [
      "{'b': 1, 'r': 1, 'a': 4, 'j': 2}\n",
      "-1 b\n",
      "-1 r\n",
      "-4 a\n",
      "-2 j\n"
     ]
    },
    {
     "data": {
      "text/plain": [
       "['a', 'j', 'b', 'r']"
      ]
     },
     "execution_count": 16,
     "metadata": {},
     "output_type": "execute_result"
    }
   ],
   "source": [
    "def Sort_char_freq(s):\n",
    "    d = {}\n",
    "    \n",
    "    for ch in s:\n",
    "        if ch not in d:\n",
    "            d[ch] = 1\n",
    "        else:\n",
    "            d[ch] += 1\n",
    "            \n",
    "    print(d)\n",
    " \n",
    "    def sort_key(ch):\n",
    "        print(-d[ch],ch)\n",
    "        return (-d[ch],ch)\n",
    "           \n",
    "    sorted_chars = sorted(d.keys(),key=sort_key)\n",
    "    \n",
    "    return sorted_chars\n",
    "\n",
    "Sort_char_freq(\"braaaajj\")\n",
    "    "
   ]
  },
  {
   "cell_type": "markdown",
   "id": "c2803027",
   "metadata": {},
   "source": [
    "### Another version"
   ]
  },
  {
   "cell_type": "code",
   "execution_count": 19,
   "id": "05781f37",
   "metadata": {},
   "outputs": [
    {
     "name": "stdout",
     "output_type": "stream",
     "text": [
      "[('r', 2), ('a', 3), ('j', 1)]\n",
      "[('a', 3), ('r', 2), ('j', 1)]\n",
      "a 3\n",
      "r 2\n",
      "j 1\n"
     ]
    },
    {
     "data": {
      "text/plain": [
       "'aaarrj'"
      ]
     },
     "execution_count": 19,
     "metadata": {},
     "output_type": "execute_result"
    }
   ],
   "source": [
    "def feq_sort_str(s):\n",
    "    char_count = {}\n",
    "    \n",
    "    for ch in s:\n",
    "        if ch in char_count:\n",
    "            char_count[ch]+=1\n",
    "        else:\n",
    "            char_count[ch] = 1\n",
    "            \n",
    "    ## step 2 >> creating a list of characters sorted by freq\n",
    "    ## we will store tuples (character, freq)\n",
    "    char_freq_list = []\n",
    "    for ch, freq in char_count.items():\n",
    "        char_freq_list.append((ch,freq))\n",
    "        \n",
    "    print(char_freq_list)\n",
    "        \n",
    "    ## sort the list by freq descending\n",
    "    ## this sorts the tuples by the second element(frequency)\n",
    "    char_freq_list.sort(key=lambda x:x[1], reverse = True)\n",
    "    print(char_freq_list)\n",
    "    \n",
    "    ## step 4: Build the res string\n",
    "    res = \"\"\n",
    "    for ch,freq in char_freq_list:\n",
    "        print(ch,freq)\n",
    "        res += ch * freq\n",
    "        \n",
    "    return res\n",
    "\n",
    "feq_sort_str(\"raaajr\")"
   ]
  },
  {
   "cell_type": "markdown",
   "id": "286af405",
   "metadata": {},
   "source": [
    "# 3) Maximum Nesting Depth of the Parentheses"
   ]
  },
  {
   "cell_type": "markdown",
   "id": "bbd7d934",
   "metadata": {},
   "source": [
    "Given a valid parentheses string s, return the nesting depth of s. The nesting depth is the maximum number of nested parentheses.\n",
    "\n",
    " \n",
    "\n",
    "Example 1:\n",
    "\n",
    "Input: s = \"(1+(2*3)+((8)/4))+1\"\n",
    "\n",
    "Output: 3\n",
    "\n",
    "Explanation:\n",
    "\n",
    "Digit 8 is inside of 3 nested parentheses in the string.\n",
    "\n",
    "Example 2:\n",
    "\n",
    "Input: s = \"(1)+((2))+(((3)))\"\n",
    "\n",
    "Output: 3\n",
    "\n",
    "Explanation:\n",
    "\n",
    "Digit 3 is inside of 3 nested parentheses in the string.\n",
    "\n",
    "Example 3:\n",
    "\n",
    "Input: s = \"()(())((()()))\"\n",
    "\n",
    "Output: 3\n",
    "\n",
    " \n",
    "\n",
    "Constraints:\n",
    "\n",
    "1 <= s.length <= 100\n",
    "s consists of digits 0-9 and characters '+', '-', '*', '/', '(', and ')'.\n",
    "It is guaranteed that parentheses expression s is a VPS."
   ]
  },
  {
   "cell_type": "code",
   "execution_count": 24,
   "id": "f7cdd9a4",
   "metadata": {},
   "outputs": [
    {
     "name": "stdout",
     "output_type": "stream",
     "text": [
      "3\n",
      "3\n",
      "3\n"
     ]
    }
   ],
   "source": [
    "def nesting_depth_parenthesis(s):\n",
    "    current_depth = 0\n",
    "    max_depth = 0\n",
    "\n",
    "    for ch in s:\n",
    "        if ch == '(':\n",
    "            current_depth += 1\n",
    "            if current_depth > max_depth:\n",
    "                max_depth = current_depth\n",
    "        elif ch == ')':\n",
    "            current_depth -= 1\n",
    "\n",
    "    return max_depth\n",
    "\n",
    "\n",
    "print(nesting_depth_parenthesis(\"(1+(2*3)+((8)/4))+1\"))  # 3\n",
    "print(nesting_depth_parenthesis(\"(1)+((2))+(((3)))\"))    # 3\n",
    "print(nesting_depth_parenthesis(\"()(())((()()))\"))       # 3\n"
   ]
  },
  {
   "cell_type": "code",
   "execution_count": null,
   "id": "928cfa37",
   "metadata": {},
   "outputs": [],
   "source": []
  }
 ],
 "metadata": {
  "kernelspec": {
   "display_name": "Python 3 (ipykernel)",
   "language": "python",
   "name": "python3"
  },
  "language_info": {
   "codemirror_mode": {
    "name": "ipython",
    "version": 3
   },
   "file_extension": ".py",
   "mimetype": "text/x-python",
   "name": "python",
   "nbconvert_exporter": "python",
   "pygments_lexer": "ipython3",
   "version": "3.11.5"
  }
 },
 "nbformat": 4,
 "nbformat_minor": 5
}
