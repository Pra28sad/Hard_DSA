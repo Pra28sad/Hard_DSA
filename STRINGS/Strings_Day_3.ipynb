{
 "cells": [
  {
   "cell_type": "markdown",
   "id": "7390081d",
   "metadata": {},
   "source": [
    "# 1) Longest Palindromic SubString"
   ]
  },
  {
   "cell_type": "markdown",
   "id": "308e32e0",
   "metadata": {},
   "source": [
    "Given a string s, return the longest palindromic substring in s.\n",
    "\n",
    " \n",
    "\n",
    "Example 1:\n",
    "\n",
    "Input: s = \"babad\"\n",
    "Output: \"bab\"\n",
    "Explanation: \"aba\" is also a valid answer.\n",
    "Example 2:\n",
    "\n",
    "Input: s = \"cbbd\"\n",
    "Output: \"bb\"\n",
    " \n",
    "\n",
    "Constraints:\n",
    "\n",
    "1 <= s.length <= 1000\n",
    "s consist of only digits and English letters."
   ]
  },
  {
   "cell_type": "code",
   "execution_count": 20,
   "id": "f260ca31",
   "metadata": {},
   "outputs": [
    {
     "data": {
      "text/plain": [
       "'bab'"
      ]
     },
     "execution_count": 20,
     "metadata": {},
     "output_type": "execute_result"
    }
   ],
   "source": [
    "def long_palindrome_substring(s):\n",
    "    def check_palindrome(left,right):\n",
    "        while left >= 0 and right < len(s) and s[left]==s[right]:\n",
    "            left -= 1\n",
    "            right += 1\n",
    "            \n",
    "        return s[left+1:right]\n",
    "    \n",
    "    max_pal = \"\"\n",
    "    n = len(s)\n",
    "    \n",
    "    for i in range(n):\n",
    "        \n",
    "        odd = check_palindrome(i,i)\n",
    "        \n",
    "        even = check_palindrome(i,i+1)\n",
    "        \n",
    "        if len(odd)>len(max_pal):\n",
    "            max_pal = odd\n",
    "            \n",
    "        if len(even)>len(max_pal):\n",
    "            max_pal = even\n",
    "            \n",
    "    return max_pal\n",
    "\n",
    "\n",
    "long_palindrome_substring(\"babad\")"
   ]
  },
  {
   "cell_type": "code",
   "execution_count": null,
   "id": "d5dca048",
   "metadata": {},
   "outputs": [],
   "source": []
  },
  {
   "cell_type": "code",
   "execution_count": null,
   "id": "097909d3",
   "metadata": {},
   "outputs": [],
   "source": []
  }
 ],
 "metadata": {
  "kernelspec": {
   "display_name": "Python 3 (ipykernel)",
   "language": "python",
   "name": "python3"
  },
  "language_info": {
   "codemirror_mode": {
    "name": "ipython",
    "version": 3
   },
   "file_extension": ".py",
   "mimetype": "text/x-python",
   "name": "python",
   "nbconvert_exporter": "python",
   "pygments_lexer": "ipython3",
   "version": "3.11.5"
  }
 },
 "nbformat": 4,
 "nbformat_minor": 5
}
