{
 "cells": [
  {
   "cell_type": "markdown",
   "id": "7390081d",
   "metadata": {},
   "source": [
    "# 1) Longest Palindromic SubString"
   ]
  },
  {
   "cell_type": "markdown",
   "id": "308e32e0",
   "metadata": {},
   "source": [
    "Given a string s, return the longest palindromic substring in s.\n",
    "\n",
    " \n",
    "\n",
    "Example 1:\n",
    "\n",
    "Input: s = \"babad\"\n",
    "Output: \"bab\"\n",
    "Explanation: \"aba\" is also a valid answer.\n",
    "Example 2:\n",
    "\n",
    "Input: s = \"cbbd\"\n",
    "Output: \"bb\"\n",
    " \n",
    "\n",
    "Constraints:\n",
    "\n",
    "1 <= s.length <= 1000\n",
    "s consist of only digits and English letters."
   ]
  },
  {
   "cell_type": "code",
   "execution_count": 6,
   "id": "f260ca31",
   "metadata": {},
   "outputs": [
    {
     "name": "stdout",
     "output_type": "stream",
     "text": [
      "0 0 \n",
      "\n",
      "b\n",
      "0 1 \n",
      "\n",
      "\n",
      "Max > b\n",
      "1 1 \n",
      "\n",
      "bab\n",
      "1 2 \n",
      "\n",
      "\n",
      "Max > bab\n",
      "2 2 \n",
      "\n",
      "aba\n",
      "2 3 \n",
      "\n",
      "\n",
      "Max > bab\n",
      "3 3 \n",
      "\n",
      "a\n",
      "3 4 \n",
      "\n",
      "\n",
      "Max > bab\n",
      "4 4 \n",
      "\n",
      "d\n",
      "4 5 \n",
      "\n",
      "\n",
      "Max > bab\n"
     ]
    },
    {
     "data": {
      "text/plain": [
       "'bab'"
      ]
     },
     "execution_count": 6,
     "metadata": {},
     "output_type": "execute_result"
    }
   ],
   "source": [
    "def long_palindrome_substring(s):\n",
    "    def check_palindrome(left,right):\n",
    "        print(left,right,\"\\n\")\n",
    "        while left >= 0 and right < len(s) and s[left]==s[right]:\n",
    "            left -= 1\n",
    "            right += 1\n",
    "        print(s[left+1:right])\n",
    "            \n",
    "        return s[left+1:right]\n",
    "    \n",
    "    max_pal = \"\"\n",
    "    n = len(s)\n",
    "    \n",
    "    for i in range(n):\n",
    "        \n",
    "        odd = check_palindrome(i,i)\n",
    "        \n",
    "        even = check_palindrome(i,i+1)\n",
    "        \n",
    "        if len(odd)>len(max_pal):\n",
    "            max_pal = odd\n",
    "            \n",
    "        if len(even)>len(max_pal):\n",
    "            max_pal = even\n",
    "            \n",
    "        print(\"Max >\",max_pal)\n",
    "            \n",
    "    return max_pal\n",
    "\n",
    "\n",
    "long_palindrome_substring(\"babad\")"
   ]
  },
  {
   "cell_type": "markdown",
   "id": "df7d78d1",
   "metadata": {},
   "source": [
    "# 2) Sum of Beauty of all Substrings"
   ]
  },
  {
   "cell_type": "markdown",
   "id": "49e2c636",
   "metadata": {},
   "source": [
    "The beauty of a string is the difference in frequencies between the most frequent and least frequent characters.\n",
    "\n",
    "For example, the beauty of \"abaacc\" is 3 - 1 = 2.\n",
    "Given a string s, return the sum of beauty of all of its substrings.\n",
    "\n",
    " \n",
    "\n",
    "Example 1:\n",
    "\n",
    "Input: s = \"aabcb\"\n",
    "Output: 5\n",
    "Explanation: The substrings with non-zero beauty are [\"aab\",\"aabc\",\"aabcb\",\"abcb\",\"bcb\"], each with beauty equal to 1.\n",
    "Example 2:\n",
    "\n",
    "Input: s = \"aabcbaa\"\n",
    "Output: 17\n",
    " \n",
    "\n",
    "Constraints:\n",
    "\n",
    "1 <= s.length <= 500\n",
    "s consists of only lowercase English letters."
   ]
  },
  {
   "cell_type": "markdown",
   "id": "b4dd55fb",
   "metadata": {},
   "source": [
    "### Brute force approach"
   ]
  },
  {
   "cell_type": "code",
   "execution_count": 17,
   "id": "0dbbbb3f",
   "metadata": {},
   "outputs": [
    {
     "data": {
      "text/plain": [
       "5"
      ]
     },
     "execution_count": 17,
     "metadata": {},
     "output_type": "execute_result"
    }
   ],
   "source": [
    "def Sum_subStrings_Beauty(s):\n",
    "    def calculate_beauty(s):\n",
    "        d = {}\n",
    "        \n",
    "        for i in s:\n",
    "            if i not in d:\n",
    "                d[i] = 1\n",
    "            else:\n",
    "                d[i]+=1\n",
    "                \n",
    "        max_count = 0\n",
    "        min_count = float('inf')\n",
    "        \n",
    "        for item,val in d.items():\n",
    "            if val>max_count:\n",
    "                max_count = val\n",
    "                \n",
    "            if val<min_count:\n",
    "                min_count=val\n",
    "                \n",
    "#         print(max_count-min_count)      \n",
    "        return max_count-min_count\n",
    "    \n",
    "    total = 0\n",
    "    n = len(s)\n",
    "    for i in range(n):\n",
    "        for j in range(i+1,n+1):\n",
    "            sub = s[i:j]\n",
    "            total += calculate_beauty(sub)\n",
    "    \n",
    "        \n",
    "    return total\n",
    "\n",
    "Sum_subStrings_Beauty(\"aabcb\")"
   ]
  },
  {
   "cell_type": "markdown",
   "id": "0b6ce312",
   "metadata": {},
   "source": [
    "### optimal approach"
   ]
  },
  {
   "cell_type": "code",
   "execution_count": 29,
   "id": "739c3e2b",
   "metadata": {},
   "outputs": [
    {
     "data": {
      "text/plain": [
       "21"
      ]
     },
     "execution_count": 29,
     "metadata": {},
     "output_type": "execute_result"
    }
   ],
   "source": [
    "def Sum_subStrings_Beauty(s):\n",
    "    n = len(s)\n",
    "    total = 0\n",
    "    \n",
    "    for i in range(n):\n",
    "        freq = [0]*26  # frequency array for 26 letters\n",
    "        for j in range(i,n):\n",
    "            idx = ord(s[j]) - ord(\"a\")\n",
    "#             print(\"index: \",idx)\n",
    "            freq[idx] += 1\n",
    "            \n",
    "            max_count = max(freq)\n",
    "            min_count = min(f for f in freq if f>0)\n",
    "            \n",
    "            \n",
    "#             print(\"\\nmax_c\",max_count)\n",
    "#             print(\"min_c\",min_count)\n",
    "            \n",
    "            total += max_count - min_count\n",
    "            \n",
    "    return total\n",
    "\n",
    "Sum_subStrings_Beauty(\"aabcb\")"
   ]
  },
  {
   "cell_type": "markdown",
   "id": "5f702c04",
   "metadata": {},
   "source": [
    "# 3) Reverse Words in a String"
   ]
  },
  {
   "cell_type": "markdown",
   "id": "7606829c",
   "metadata": {},
   "source": [
    "Given an input string s, reverse the order of the words.\n",
    "\n",
    "A word is defined as a sequence of non-space characters. The words in s will be separated by at least one space.\n",
    "\n",
    "Return a string of the words in reverse order concatenated by a single space.\n",
    "\n",
    "Note that s may contain leading or trailing spaces or multiple spaces between two words. The returned string should only have a single space separating the words. Do not include any extra spaces.\n",
    "\n",
    " \n",
    "\n",
    "Example 1:\n",
    "\n",
    "Input: s = \"the sky is blue\"\n",
    "Output: \"blue is sky the\"\n",
    "Example 2:\n",
    "\n",
    "Input: s = \"  hello world  \"\n",
    "Output: \"world hello\"\n",
    "Explanation: Your reversed string should not contain leading or trailing spaces.\n",
    "Example 3:\n",
    "\n",
    "Input: s = \"a good   example\"\n",
    "Output: \"example good a\"\n",
    "Explanation: You need to reduce multiple spaces between two words to a single space in the reversed string.\n",
    " \n",
    "\n",
    "Constraints:\n",
    "\n",
    "1 <= s.length <= 104\n",
    "s contains English letters (upper-case and lower-case), digits, and spaces ' '.\n",
    "There is at least one word in s.\n",
    " \n",
    "\n",
    "Follow-up: If the string data type is mutable in your language, can you solve it in-place with O(1) extra space?"
   ]
  },
  {
   "cell_type": "code",
   "execution_count": 2,
   "id": "3598890b",
   "metadata": {},
   "outputs": [],
   "source": [
    "class Solution(object):\n",
    "    def reverseWords(self, s):\n",
    "        \"\"\"\n",
    "        :type s: str\n",
    "        :rtype: str\n",
    "        \"\"\"\n",
    "\n",
    "        lst = s.split()\n",
    "\n",
    "        lst = lst[::-1]\n",
    "\n",
    "        res = \"\"\n",
    "        n=len(lst)\n",
    "        for i in range(n):\n",
    "            if i != n-1:\n",
    "                res = res + lst[i] + \" \"\n",
    "            else:\n",
    "                res += lst[i]\n",
    "        return res\n",
    "        "
   ]
  },
  {
   "cell_type": "code",
   "execution_count": 3,
   "id": "571d4d7b",
   "metadata": {},
   "outputs": [
    {
     "data": {
      "text/plain": [
       "'prasad is this everyone, hello'"
      ]
     },
     "execution_count": 3,
     "metadata": {},
     "output_type": "execute_result"
    }
   ],
   "source": [
    "obj = Solution()\n",
    "obj.reverseWords(\"hello everyone, this is prasad\")"
   ]
  },
  {
   "cell_type": "markdown",
   "id": "288054f0",
   "metadata": {},
   "source": [
    "# 4) Minimum Add to make parantheses Valid "
   ]
  },
  {
   "cell_type": "markdown",
   "id": "9df04b3d",
   "metadata": {},
   "source": [
    "A parentheses string is valid if and only if:\n",
    "\n",
    "It is the empty string,\n",
    "It can be written as AB (A concatenated with B), where A and B are valid strings, or\n",
    "It can be written as (A), where A is a valid string.\n",
    "You are given a parentheses string s. In one move, you can insert a parenthesis at any position of the string.\n",
    "\n",
    "For example, if s = \"()))\", you can insert an opening parenthesis to be \"(()))\" or a closing parenthesis to be \"())))\".\n",
    "Return the minimum number of moves required to make s valid.\n",
    "\n",
    " \n",
    "\n",
    "Example 1:\n",
    "\n",
    "Input: s = \"())\"\n",
    "Output: 1\n",
    "Example 2:\n",
    "\n",
    "Input: s = \"(((\"\n",
    "Output: 3\n",
    " \n",
    "\n",
    "Constraints:\n",
    "\n",
    "1 <= s.length <= 1000\n",
    "s[i] is either '(' or ')'."
   ]
  },
  {
   "cell_type": "code",
   "execution_count": 8,
   "id": "341df2d2",
   "metadata": {},
   "outputs": [
    {
     "data": {
      "text/plain": [
       "1"
      ]
     },
     "execution_count": 8,
     "metadata": {},
     "output_type": "execute_result"
    }
   ],
   "source": [
    "def find_minAddToMakeValid(s):\n",
    "    d = {\"(\":0,\")\":0}\n",
    "    needed_open = 0\n",
    "    \n",
    "    for ch in s:\n",
    "        if ch == \"(\":\n",
    "            d[\"(\"] += 1\n",
    "            \n",
    "        else:\n",
    "            if d[\"(\"] > 0:\n",
    "                d[\"(\"] -= 1\n",
    "            else:\n",
    "                needed_open += 1\n",
    "                \n",
    "    return needed_open + d[\"(\"]\n",
    "\n",
    "find_minAddToMakeValid(\"()(()))\")"
   ]
  },
  {
   "cell_type": "markdown",
   "id": "73eb5e2f",
   "metadata": {},
   "source": [
    "### another approach"
   ]
  },
  {
   "cell_type": "code",
   "execution_count": 10,
   "id": "a76d7777",
   "metadata": {},
   "outputs": [
    {
     "data": {
      "text/plain": [
       "1"
      ]
     },
     "execution_count": 10,
     "metadata": {},
     "output_type": "execute_result"
    }
   ],
   "source": [
    "def find(s):\n",
    "    needed_open = 0\n",
    "    balance = 0\n",
    "    \n",
    "    for i in s:\n",
    "        if i == \"(\":\n",
    "            balance +=1\n",
    "        else:\n",
    "            if balance > 0:\n",
    "                balance -= 1\n",
    "                \n",
    "            else:\n",
    "                needed_open+= 1\n",
    "                \n",
    "    return needed_open+balance\n",
    "\n",
    "find(\"())\")"
   ]
  },
  {
   "cell_type": "markdown",
   "id": "9a803746",
   "metadata": {},
   "source": [
    "# 5) Count and Say"
   ]
  },
  {
   "cell_type": "markdown",
   "id": "9007e094",
   "metadata": {},
   "source": [
    "The count-and-say sequence is a sequence of digit strings defined by the recursive formula:\n",
    "\n",
    "countAndSay(1) = \"1\"\n",
    "countAndSay(n) is the run-length encoding of countAndSay(n - 1).\n",
    "Run-length encoding (RLE) is a string compression method that works by replacing consecutive identical characters (repeated 2 or more times) with the concatenation of the character and the number marking the count of the characters (length of the run). For example, to compress the string \"3322251\" we replace \"33\" with \"23\", replace \"222\" with \"32\", replace \"5\" with \"15\" and replace \"1\" with \"11\". Thus the compressed string becomes \"23321511\".\n",
    "\n",
    "Given a positive integer n, return the nth element of the count-and-say sequence.\n",
    "\n",
    " \n",
    "\n",
    "Example 1:\n",
    "\n",
    "Input: n = 4\n",
    "\n",
    "Output: \"1211\"\n",
    "\n",
    "Explanation:\n",
    "\n",
    "countAndSay(1) = \"1\"\n",
    "countAndSay(2) = RLE of \"1\" = \"11\"\n",
    "countAndSay(3) = RLE of \"11\" = \"21\"\n",
    "countAndSay(4) = RLE of \"21\" = \"1211\"\n",
    "Example 2:\n",
    "\n",
    "Input: n = 1\n",
    "\n",
    "Output: \"1\"\n",
    "\n",
    "Explanation:\n",
    "\n",
    "This is the base case.\n",
    "\n",
    " \n",
    "\n",
    "Constraints:\n",
    "\n",
    "1 <= n <= 30\n",
    " \n",
    "\n",
    "Follow up: Could you solve it iteratively?"
   ]
  },
  {
   "cell_type": "code",
   "execution_count": null,
   "id": "3261f446",
   "metadata": {},
   "outputs": [],
   "source": []
  }
 ],
 "metadata": {
  "kernelspec": {
   "display_name": "Python 3 (ipykernel)",
   "language": "python",
   "name": "python3"
  },
  "language_info": {
   "codemirror_mode": {
    "name": "ipython",
    "version": 3
   },
   "file_extension": ".py",
   "mimetype": "text/x-python",
   "name": "python",
   "nbconvert_exporter": "python",
   "pygments_lexer": "ipython3",
   "version": "3.11.5"
  }
 },
 "nbformat": 4,
 "nbformat_minor": 5
}
