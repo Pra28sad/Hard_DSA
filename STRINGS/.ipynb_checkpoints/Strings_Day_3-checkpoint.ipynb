{
 "cells": [
  {
   "cell_type": "markdown",
   "id": "7390081d",
   "metadata": {},
   "source": [
    "# 1) Longest Palindromic SubString"
   ]
  },
  {
   "cell_type": "markdown",
   "id": "308e32e0",
   "metadata": {},
   "source": [
    "Given a string s, return the longest palindromic substring in s.\n",
    "\n",
    " \n",
    "\n",
    "Example 1:\n",
    "\n",
    "Input: s = \"babad\"\n",
    "Output: \"bab\"\n",
    "Explanation: \"aba\" is also a valid answer.\n",
    "Example 2:\n",
    "\n",
    "Input: s = \"cbbd\"\n",
    "Output: \"bb\"\n",
    " \n",
    "\n",
    "Constraints:\n",
    "\n",
    "1 <= s.length <= 1000\n",
    "s consist of only digits and English letters."
   ]
  },
  {
   "cell_type": "code",
   "execution_count": 6,
   "id": "f260ca31",
   "metadata": {},
   "outputs": [
    {
     "name": "stdout",
     "output_type": "stream",
     "text": [
      "0 0 \n",
      "\n",
      "b\n",
      "0 1 \n",
      "\n",
      "\n",
      "Max > b\n",
      "1 1 \n",
      "\n",
      "bab\n",
      "1 2 \n",
      "\n",
      "\n",
      "Max > bab\n",
      "2 2 \n",
      "\n",
      "aba\n",
      "2 3 \n",
      "\n",
      "\n",
      "Max > bab\n",
      "3 3 \n",
      "\n",
      "a\n",
      "3 4 \n",
      "\n",
      "\n",
      "Max > bab\n",
      "4 4 \n",
      "\n",
      "d\n",
      "4 5 \n",
      "\n",
      "\n",
      "Max > bab\n"
     ]
    },
    {
     "data": {
      "text/plain": [
       "'bab'"
      ]
     },
     "execution_count": 6,
     "metadata": {},
     "output_type": "execute_result"
    }
   ],
   "source": [
    "def long_palindrome_substring(s):\n",
    "    def check_palindrome(left,right):\n",
    "        print(left,right,\"\\n\")\n",
    "        while left >= 0 and right < len(s) and s[left]==s[right]:\n",
    "            left -= 1\n",
    "            right += 1\n",
    "        print(s[left+1:right])\n",
    "            \n",
    "        return s[left+1:right]\n",
    "    \n",
    "    max_pal = \"\"\n",
    "    n = len(s)\n",
    "    \n",
    "    for i in range(n):\n",
    "        \n",
    "        odd = check_palindrome(i,i)\n",
    "        \n",
    "        even = check_palindrome(i,i+1)\n",
    "        \n",
    "        if len(odd)>len(max_pal):\n",
    "            max_pal = odd\n",
    "            \n",
    "        if len(even)>len(max_pal):\n",
    "            max_pal = even\n",
    "            \n",
    "        print(\"Max >\",max_pal)\n",
    "            \n",
    "    return max_pal\n",
    "\n",
    "\n",
    "long_palindrome_substring(\"babad\")"
   ]
  },
  {
   "cell_type": "markdown",
   "id": "df7d78d1",
   "metadata": {},
   "source": [
    "# 2) Sum of Beauty of all Substrings"
   ]
  },
  {
   "cell_type": "markdown",
   "id": "49e2c636",
   "metadata": {},
   "source": [
    "The beauty of a string is the difference in frequencies between the most frequent and least frequent characters.\n",
    "\n",
    "For example, the beauty of \"abaacc\" is 3 - 1 = 2.\n",
    "Given a string s, return the sum of beauty of all of its substrings.\n",
    "\n",
    " \n",
    "\n",
    "Example 1:\n",
    "\n",
    "Input: s = \"aabcb\"\n",
    "Output: 5\n",
    "Explanation: The substrings with non-zero beauty are [\"aab\",\"aabc\",\"aabcb\",\"abcb\",\"bcb\"], each with beauty equal to 1.\n",
    "Example 2:\n",
    "\n",
    "Input: s = \"aabcbaa\"\n",
    "Output: 17\n",
    " \n",
    "\n",
    "Constraints:\n",
    "\n",
    "1 <= s.length <= 500\n",
    "s consists of only lowercase English letters."
   ]
  },
  {
   "cell_type": "markdown",
   "id": "b4dd55fb",
   "metadata": {},
   "source": [
    "### Brute force approach"
   ]
  },
  {
   "cell_type": "code",
   "execution_count": 17,
   "id": "0dbbbb3f",
   "metadata": {},
   "outputs": [
    {
     "data": {
      "text/plain": [
       "5"
      ]
     },
     "execution_count": 17,
     "metadata": {},
     "output_type": "execute_result"
    }
   ],
   "source": [
    "def Sum_subStrings_Beauty(s):\n",
    "    def calculate_beauty(s):\n",
    "        d = {}\n",
    "        \n",
    "        for i in s:\n",
    "            if i not in d:\n",
    "                d[i] = 1\n",
    "            else:\n",
    "                d[i]+=1\n",
    "                \n",
    "        max_count = 0\n",
    "        min_count = float('inf')\n",
    "        \n",
    "        for item,val in d.items():\n",
    "            if val>max_count:\n",
    "                max_count = val\n",
    "                \n",
    "            if val<min_count:\n",
    "                min_count=val\n",
    "                \n",
    "#         print(max_count-min_count)      \n",
    "        return max_count-min_count\n",
    "    \n",
    "    total = 0\n",
    "    n = len(s)\n",
    "    for i in range(n):\n",
    "        for j in range(i+1,n+1):\n",
    "            sub = s[i:j]\n",
    "            total += calculate_beauty(sub)\n",
    "    \n",
    "        \n",
    "    return total\n",
    "\n",
    "Sum_subStrings_Beauty(\"aabcb\")"
   ]
  },
  {
   "cell_type": "markdown",
   "id": "0b6ce312",
   "metadata": {},
   "source": [
    "### optimal approach"
   ]
  },
  {
   "cell_type": "code",
   "execution_count": 29,
   "id": "739c3e2b",
   "metadata": {},
   "outputs": [
    {
     "data": {
      "text/plain": [
       "21"
      ]
     },
     "execution_count": 29,
     "metadata": {},
     "output_type": "execute_result"
    }
   ],
   "source": [
    "def Sum_subStrings_Beauty(s):\n",
    "    n = len(s)\n",
    "    total = 0\n",
    "    \n",
    "    for i in range(n):\n",
    "        freq = [0]*26  # frequency array for 26 letters\n",
    "        for j in range(i,n):\n",
    "            idx = ord(s[j]) - ord(\"a\")\n",
    "#             print(\"index: \",idx)\n",
    "            freq[idx] += 1\n",
    "            \n",
    "            max_count = max(freq)\n",
    "            min_count = min(f for f in freq if f>0)\n",
    "            \n",
    "            \n",
    "#             print(\"\\nmax_c\",max_count)\n",
    "#             print(\"min_c\",min_count)\n",
    "            \n",
    "            total += max_count - min_count\n",
    "            \n",
    "    return total\n",
    "\n",
    "Sum_subStrings_Beauty(\"aabcb\")"
   ]
  },
  {
   "cell_type": "code",
   "execution_count": null,
   "id": "b86b71ac",
   "metadata": {},
   "outputs": [],
   "source": []
  },
  {
   "cell_type": "code",
   "execution_count": null,
   "id": "9fb133df",
   "metadata": {},
   "outputs": [],
   "source": []
  }
 ],
 "metadata": {
  "kernelspec": {
   "display_name": "Python 3 (ipykernel)",
   "language": "python",
   "name": "python3"
  },
  "language_info": {
   "codemirror_mode": {
    "name": "ipython",
    "version": 3
   },
   "file_extension": ".py",
   "mimetype": "text/x-python",
   "name": "python",
   "nbconvert_exporter": "python",
   "pygments_lexer": "ipython3",
   "version": "3.11.5"
  }
 },
 "nbformat": 4,
 "nbformat_minor": 5
}
