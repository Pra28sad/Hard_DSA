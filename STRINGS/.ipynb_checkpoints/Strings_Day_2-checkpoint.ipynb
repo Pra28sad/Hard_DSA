{
 "cells": [
  {
   "cell_type": "markdown",
   "id": "ee57b4c6",
   "metadata": {},
   "source": [
    "# 1) Check if two Strings are anagrams of each other"
   ]
  },
  {
   "cell_type": "markdown",
   "id": "12582357",
   "metadata": {},
   "source": [
    "Problem Statement: Given two strings, check if two strings are anagrams of each other or not.\n",
    "\n",
    "Examples:\n",
    "\n",
    "Example 1:\n",
    "Input: CAT, ACT\n",
    "Output: true\n",
    "Explanation: Since the count of every letter of both strings are equal.\n",
    "\n",
    "Example 2:\n",
    "Input: RULES, LESRT \n",
    "Output: false\n",
    "Explanation: Since the count of U and T  is not equal in both strings."
   ]
  },
  {
   "cell_type": "code",
   "execution_count": 4,
   "id": "acdb50a3",
   "metadata": {},
   "outputs": [
    {
     "data": {
      "text/plain": [
       "True"
      ]
     },
     "execution_count": 4,
     "metadata": {},
     "output_type": "execute_result"
    }
   ],
   "source": [
    "def check_anagrams(str1, str2):\n",
    "    if len(str1)!=len(str2):\n",
    "        return False\n",
    "    \n",
    "    d = {}\n",
    "    for i in range(len(str1)):\n",
    "        if str1[i] in d:\n",
    "            d[str1[i]] += 1\n",
    "        else:\n",
    "            d[str1[i]] = 1\n",
    "            \n",
    "    for ch in str2:\n",
    "        if ch in d:\n",
    "            d[ch] -= 1\n",
    "            \n",
    "        else:\n",
    "            d[ch] = 1\n",
    "            \n",
    "    for k,v in d.items():\n",
    "        if v != 0:\n",
    "            return False\n",
    "        \n",
    "    return True\n",
    "        \n",
    "check_anagrams(\"AADMM\",\"MADAM\")\n",
    "        "
   ]
  },
  {
   "cell_type": "markdown",
   "id": "807cc9a8",
   "metadata": {},
   "source": [
    "# 2) Sort Characters by frequency"
   ]
  },
  {
   "cell_type": "markdown",
   "id": "d22e5b00",
   "metadata": {},
   "source": [
    "Problem Statement: You are given a string s. Return the array of unique characters, sorted by highest to lowest occurring characters.\n",
    "If two or more characters have same frequency then arrange them in alphabetic order.\n",
    "Examples\n",
    "                \n",
    "Example 1:\n",
    "\n",
    "Input: s = \"tree\"\n",
    "\n",
    "Output: ['e', 'r', 't']\n",
    "\n",
    "Explanation:\n",
    "e → 2\n",
    "r → 1\n",
    "t → 1\n",
    "\n",
    "Since 'r' and 't' have the same frequency, they are sorted alphabetically → 'r' comes before 't'.\n",
    "\n",
    "Example 2:\n",
    "\n",
    "Input: s = \"raaaajj\"\n",
    "\n",
    "Output: ['a', 'j', 'r']\n",
    "\n",
    "Explanation:\n",
    "a → 4\n",
    "j → 2\n",
    "r → 1\n",
    "\n",
    "Characters are sorted by decreasing frequency. In case of ties, alphabetically.\n",
    "            "
   ]
  },
  {
   "cell_type": "code",
   "execution_count": 15,
   "id": "c859f9ce",
   "metadata": {},
   "outputs": [
    {
     "name": "stdout",
     "output_type": "stream",
     "text": [
      "-1 b\n",
      "-1 r\n",
      "-4 a\n",
      "-2 j\n"
     ]
    },
    {
     "data": {
      "text/plain": [
       "['a', 'j', 'b', 'r']"
      ]
     },
     "execution_count": 15,
     "metadata": {},
     "output_type": "execute_result"
    }
   ],
   "source": [
    "def Sort_char_freq(s):\n",
    "    d = {}\n",
    "    \n",
    "    for ch in s:\n",
    "        if ch not in d:\n",
    "            d[ch] = 1\n",
    "        else:\n",
    "            d[ch] += 1\n",
    " \n",
    "    def sort_key(ch):\n",
    "        print(-d[ch],ch)\n",
    "        return (-d[ch],ch)\n",
    "           \n",
    "    sorted_chars = sorted(d.keys(),key=sort_key)\n",
    "    return sorted_chars\n",
    "\n",
    "Sort_char_freq(\"braaaajj\")\n",
    "    "
   ]
  },
  {
   "cell_type": "code",
   "execution_count": 16,
   "id": "2aa51518",
   "metadata": {},
   "outputs": [
    {
     "name": "stdout",
     "output_type": "stream",
     "text": [
      "{'b': 1, 'r': 1, 'a': 4, 'j': 2}\n",
      "-1 b\n",
      "-1 r\n",
      "-4 a\n",
      "-2 j\n"
     ]
    },
    {
     "data": {
      "text/plain": [
       "['a', 'j', 'b', 'r']"
      ]
     },
     "execution_count": 16,
     "metadata": {},
     "output_type": "execute_result"
    }
   ],
   "source": [
    "def Sort_char_freq(s):\n",
    "    d = {}\n",
    "    \n",
    "    for ch in s:\n",
    "        if ch not in d:\n",
    "            d[ch] = 1\n",
    "        else:\n",
    "            d[ch] += 1\n",
    "            \n",
    "    print(d)\n",
    " \n",
    "    def sort_key(ch):\n",
    "        print(-d[ch],ch)\n",
    "        return (-d[ch],ch)\n",
    "           \n",
    "    sorted_chars = sorted(d.keys(),key=sort_key)\n",
    "    \n",
    "    return sorted_chars\n",
    "\n",
    "Sort_char_freq(\"braaaajj\")\n",
    "    "
   ]
  },
  {
   "cell_type": "markdown",
   "id": "acb70c2b",
   "metadata": {},
   "source": [
    "### Another version"
   ]
  },
  {
   "cell_type": "code",
   "execution_count": 19,
   "id": "f0619332",
   "metadata": {},
   "outputs": [
    {
     "name": "stdout",
     "output_type": "stream",
     "text": [
      "[('r', 2), ('a', 3), ('j', 1)]\n",
      "[('a', 3), ('r', 2), ('j', 1)]\n",
      "a 3\n",
      "r 2\n",
      "j 1\n"
     ]
    },
    {
     "data": {
      "text/plain": [
       "'aaarrj'"
      ]
     },
     "execution_count": 19,
     "metadata": {},
     "output_type": "execute_result"
    }
   ],
   "source": [
    "def feq_sort_str(s):\n",
    "    char_count = {}\n",
    "    \n",
    "    for ch in s:\n",
    "        if ch in char_count:\n",
    "            char_count[ch]+=1\n",
    "        else:\n",
    "            char_count[ch] = 1\n",
    "            \n",
    "    ## step 2 >> creating a list of characters sorted by freq\n",
    "    ## we will store tuples (character, freq)\n",
    "    char_freq_list = []\n",
    "    for ch, freq in char_count.items():\n",
    "        char_freq_list.append((ch,freq))\n",
    "        \n",
    "    print(char_freq_list)\n",
    "        \n",
    "    ## sort the list by freq descending\n",
    "    ## this sorts the tuples by the second element(frequency)\n",
    "    char_freq_list.sort(key=lambda x:x[1], reverse = True)\n",
    "    print(char_freq_list)\n",
    "    \n",
    "    ## step 4: Build the res string\n",
    "    res = \"\"\n",
    "    for ch,freq in char_freq_list:\n",
    "        print(ch,freq)\n",
    "        res += ch * freq\n",
    "        \n",
    "    return res\n",
    "\n",
    "feq_sort_str(\"raaajr\")"
   ]
  },
  {
   "cell_type": "markdown",
   "id": "e3d5caa0",
   "metadata": {},
   "source": [
    "# 3) Maximum Nesting Depth of the Parentheses"
   ]
  },
  {
   "cell_type": "markdown",
   "id": "169f7507",
   "metadata": {},
   "source": [
    "Given a valid parentheses string s, return the nesting depth of s. The nesting depth is the maximum number of nested parentheses.\n",
    "\n",
    " \n",
    "\n",
    "Example 1:\n",
    "\n",
    "Input: s = \"(1+(2*3)+((8)/4))+1\"\n",
    "\n",
    "Output: 3\n",
    "\n",
    "Explanation:\n",
    "\n",
    "Digit 8 is inside of 3 nested parentheses in the string.\n",
    "\n",
    "Example 2:\n",
    "\n",
    "Input: s = \"(1)+((2))+(((3)))\"\n",
    "\n",
    "Output: 3\n",
    "\n",
    "Explanation:\n",
    "\n",
    "Digit 3 is inside of 3 nested parentheses in the string.\n",
    "\n",
    "Example 3:\n",
    "\n",
    "Input: s = \"()(())((()()))\"\n",
    "\n",
    "Output: 3\n",
    "\n",
    " \n",
    "\n",
    "Constraints:\n",
    "\n",
    "1 <= s.length <= 100\n",
    "s consists of digits 0-9 and characters '+', '-', '*', '/', '(', and ')'.\n",
    "It is guaranteed that parentheses expression s is a VPS."
   ]
  },
  {
   "cell_type": "code",
   "execution_count": 24,
   "id": "6a6fbf09",
   "metadata": {},
   "outputs": [
    {
     "name": "stdout",
     "output_type": "stream",
     "text": [
      "3\n",
      "3\n",
      "3\n"
     ]
    }
   ],
   "source": [
    "def nesting_depth_parenthesis(s):\n",
    "    current_depth = 0\n",
    "    max_depth = 0\n",
    "\n",
    "    for ch in s:\n",
    "        if ch == '(':\n",
    "            current_depth += 1\n",
    "            if current_depth > max_depth:\n",
    "                max_depth = current_depth\n",
    "        elif ch == ')':\n",
    "            current_depth -= 1\n",
    "\n",
    "    return max_depth\n",
    "\n",
    "\n",
    "print(nesting_depth_parenthesis(\"(1+(2*3)+((8)/4))+1\"))  # 3\n",
    "print(nesting_depth_parenthesis(\"(1)+((2))+(((3)))\"))    # 3\n",
    "print(nesting_depth_parenthesis(\"()(())((()()))\"))       # 3\n"
   ]
  },
  {
   "cell_type": "markdown",
   "id": "594b1a64",
   "metadata": {},
   "source": [
    "# 4) Roman to Integer"
   ]
  },
  {
   "cell_type": "markdown",
   "id": "89394c83",
   "metadata": {},
   "source": [
    "Roman numerals are represented by seven different symbols: I, V, X, L, C, D and M.\n",
    "\n",
    "Symbol       Value\n",
    "I             1\n",
    "V             5\n",
    "X             10\n",
    "L             50\n",
    "C             100\n",
    "D             500\n",
    "M             1000\n",
    "For example, 2 is written as II in Roman numeral, just two ones added together. 12 is written as XII, which is simply X + II. The number 27 is written as XXVII, which is XX + V + II.\n",
    "\n",
    "Roman numerals are usually written largest to smallest from left to right. However, the numeral for four is not IIII. Instead, the number four is written as IV. Because the one is before the five we subtract it making four. The same principle applies to the number nine, which is written as IX. There are six instances where subtraction is used:\n",
    "\n",
    "I can be placed before V (5) and X (10) to make 4 and 9. \n",
    "X can be placed before L (50) and C (100) to make 40 and 90. \n",
    "C can be placed before D (500) and M (1000) to make 400 and 900.\n",
    "Given a roman numeral, convert it to an integer.\n",
    "\n",
    " \n",
    "\n",
    "Example 1:\n",
    "\n",
    "Input: s = \"III\"\n",
    "Output: 3\n",
    "Explanation: III = 3.\n",
    "Example 2:\n",
    "\n",
    "Input: s = \"LVIII\"\n",
    "Output: 58\n",
    "Explanation: L = 50, V= 5, III = 3.\n",
    "Example 3:\n",
    "\n",
    "Input: s = \"MCMXCIV\"\n",
    "Output: 1994\n",
    "Explanation: M = 1000, CM = 900, XC = 90 and IV = 4.\n",
    " \n",
    "\n",
    "Constraints:\n",
    "\n",
    "1 <= s.length <= 15\n",
    "s contains only the characters ('I', 'V', 'X', 'L', 'C', 'D', 'M').\n",
    "It is guaranteed that s is a valid roman numeral in the range [1, 3999]."
   ]
  },
  {
   "cell_type": "code",
   "execution_count": 28,
   "id": "8608a725",
   "metadata": {},
   "outputs": [
    {
     "data": {
      "text/plain": [
       "1994"
      ]
     },
     "execution_count": 28,
     "metadata": {},
     "output_type": "execute_result"
    }
   ],
   "source": [
    "def roman_to_INT(s):\n",
    "    d = {\n",
    "        \"I\":1,\n",
    "        \"V\":5,\n",
    "        \"X\":10,\n",
    "        \"L\":50,\n",
    "        \"C\":100,\n",
    "        \"D\":500,\n",
    "        \"M\":1000\n",
    "    }\n",
    "    \n",
    "    res = 0\n",
    "    i = 0\n",
    "    \n",
    "    while i<len(s):\n",
    "        \n",
    "        # Check if this is a subtractive case\n",
    "        if i+1 < len(s) and d[s[i]] < d[s[i+1]]:\n",
    "            res += d[s[i+1]] - d[s[i]]\n",
    "            i+=2 # skip next  character\n",
    "            \n",
    "        \n",
    "        else:\n",
    "            res += d[s[i]]\n",
    "            i+=1\n",
    "\n",
    "    \n",
    "    return res\n",
    "\n",
    "roman_to_INT(\"MCMXCIV\")"
   ]
  },
  {
   "cell_type": "markdown",
   "id": "7958cc03",
   "metadata": {},
   "source": [
    "# 5) String to Integer (atoi) "
   ]
  },
  {
   "cell_type": "markdown",
   "id": "463b3361",
   "metadata": {},
   "source": [
    "Implement the myAtoi(string s) function, which converts a string to a 32-bit signed integer.\n",
    "\n",
    "The algorithm for myAtoi(string s) is as follows:\n",
    "\n",
    "Whitespace: Ignore any leading whitespace (\" \").\n",
    "Signedness: Determine the sign by checking if the next character is '-' or '+', assuming positivity if neither present.\n",
    "Conversion: Read the integer by skipping leading zeros until a non-digit character is encountered or the end of the string is reached. If no digits were read, then the result is 0.\n",
    "Rounding: If the integer is out of the 32-bit signed integer range [-231, 231 - 1], then round the integer to remain in the range. Specifically, integers less than -231 should be rounded to -231, and integers greater than 231 - 1 should be rounded to 231 - 1.\n",
    "Return the integer as the final result.\n",
    "\n",
    " \n",
    "\n",
    "Example 1:\n",
    "\n",
    "Input: s = \"42\"\n",
    "\n",
    "Output: 42\n",
    "\n",
    "Explanation:\n",
    "\n",
    "The underlined characters are what is read in and the caret is the current reader position.\n",
    "Step 1: \"42\" (no characters read because there is no leading whitespace)\n",
    "         ^\n",
    "Step 2: \"42\" (no characters read because there is neither a '-' nor '+')\n",
    "         ^\n",
    "Step 3: \"42\" (\"42\" is read in)\n",
    "           ^\n",
    "Example 2:\n",
    "\n",
    "Input: s = \" -042\"\n",
    "\n",
    "Output: -42\n",
    "\n",
    "Explanation:\n",
    "\n",
    "Step 1: \"   -042\" (leading whitespace is read and ignored)\n",
    "            ^\n",
    "Step 2: \"   -042\" ('-' is read, so the result should be negative)\n",
    "             ^\n",
    "Step 3: \"   -042\" (\"042\" is read in, leading zeros ignored in the result)\n",
    "               ^\n",
    "Example 3:\n",
    "\n",
    "Input: s = \"1337c0d3\"\n",
    "\n",
    "Output: 1337\n",
    "\n",
    "Explanation:\n",
    "\n",
    "Step 1: \"1337c0d3\" (no characters read because there is no leading whitespace)\n",
    "         ^\n",
    "Step 2: \"1337c0d3\" (no characters read because there is neither a '-' nor '+')\n",
    "         ^\n",
    "Step 3: \"1337c0d3\" (\"1337\" is read in; reading stops because the next character is a non-digit)\n",
    "             ^\n",
    "Example 4:\n",
    "\n",
    "Input: s = \"0-1\"\n",
    "\n",
    "Output: 0\n",
    "\n",
    "Explanation:\n",
    "\n",
    "Step 1: \"0-1\" (no characters read because there is no leading whitespace)\n",
    "         ^\n",
    "Step 2: \"0-1\" (no characters read because there is neither a '-' nor '+')\n",
    "         ^\n",
    "Step 3: \"0-1\" (\"0\" is read in; reading stops because the next character is a non-digit)\n",
    "          ^\n",
    "Example 5:\n",
    "\n",
    "Input: s = \"words and 987\"\n",
    "\n",
    "Output: 0\n",
    "\n",
    "Explanation:\n",
    "\n",
    "Reading stops at the first non-digit character 'w'.\n",
    "\n",
    " \n",
    "\n",
    "Constraints:\n",
    "\n",
    "0 <= s.length <= 200\n",
    "s consists of English letters (lower-case and upper-case), digits (0-9), ' ', '+', '-', and '.'."
   ]
  },
  {
   "cell_type": "code",
   "execution_count": 9,
   "id": "332375a7",
   "metadata": {},
   "outputs": [
    {
     "data": {
      "text/plain": [
       "''"
      ]
     },
     "execution_count": 9,
     "metadata": {},
     "output_type": "execute_result"
    }
   ],
   "source": [
    "def myAtoi(s):\n",
    "    res = \"\"\n",
    "    dig = \"\"\n",
    "    for i in s:\n",
    "        if i == \" \":\n",
    "            pass\n",
    "        elif i == \"-\":\n",
    "            dig += i\n",
    "        elif i == \"+\":\n",
    "            dig += i\n",
    "        \n",
    "        elif i == \"0\":\n",
    "            break\n",
    "            \n",
    "        elif type(i) ==int :\n",
    "            res += i\n",
    "               \n",
    "        else:\n",
    "            break\n",
    "            \n",
    "    if dig == \"-\":\n",
    "        return -(int(res))\n",
    "    else:\n",
    "        return res\n",
    "    \n",
    "myAtoi(\"  1337\")"
   ]
  },
  {
   "cell_type": "code",
   "execution_count": 17,
   "id": "2d0e14bf",
   "metadata": {},
   "outputs": [
    {
     "data": {
      "text/plain": [
       "-1337"
      ]
     },
     "execution_count": 17,
     "metadata": {},
     "output_type": "execute_result"
    }
   ],
   "source": [
    "def my_atoi(s):\n",
    "    INT_MAX = 2 ** 31 - 1\n",
    "    INT_MIN = -2**31\n",
    "    \n",
    "    i = 0   ## pointer\n",
    "    sign = 1 ## default Positive\n",
    "    res = 0\n",
    "    \n",
    "    while i < len(s) and s[i] == \" \":\n",
    "        i+=1\n",
    "        \n",
    "        \n",
    "    if i == len(s):\n",
    "        return 0\n",
    "        \n",
    "    # 2. Handle sign\n",
    "    if i < len(s) and (s[i] == \"-\" or s[i] == \"+\"):\n",
    "        sign = -1 if s[i] == \"-\" else 1\n",
    "        i += 1\n",
    "        \n",
    "        \n",
    "    while i<len(s) and s[i].isdigit():\n",
    "        digit = int(s[i])\n",
    "        \n",
    "        # 4. Handle overflow before it happens\n",
    "        if res > (INT_MAX - digit) // 10:\n",
    "            return INT_MAX if sign == 1 else INT_MIN\n",
    "        \n",
    "        res = res*10 + digit\n",
    "        i+=1\n",
    "        \n",
    "    return sign * res\n",
    "\n",
    "my_atoi(\" -1337c098\")"
   ]
  },
  {
   "cell_type": "code",
   "execution_count": null,
   "id": "02c56761",
   "metadata": {},
   "outputs": [],
   "source": [
    "s = \"91283472332\"\n"
   ]
  },
  {
   "cell_type": "code",
   "execution_count": 19,
   "id": "334845e7",
   "metadata": {},
   "outputs": [
    {
     "data": {
      "text/plain": [
       "214748364"
      ]
     },
     "execution_count": 19,
     "metadata": {},
     "output_type": "execute_result"
    }
   ],
   "source": [
    "2147483644//10"
   ]
  },
  {
   "cell_type": "code",
   "execution_count": null,
   "id": "729be1b1",
   "metadata": {},
   "outputs": [],
   "source": []
  }
 ],
 "metadata": {
  "kernelspec": {
   "display_name": "Python 3 (ipykernel)",
   "language": "python",
   "name": "python3"
  },
  "language_info": {
   "codemirror_mode": {
    "name": "ipython",
    "version": 3
   },
   "file_extension": ".py",
   "mimetype": "text/x-python",
   "name": "python",
   "nbconvert_exporter": "python",
   "pygments_lexer": "ipython3",
   "version": "3.11.5"
  }
 },
 "nbformat": 4,
 "nbformat_minor": 5
}
