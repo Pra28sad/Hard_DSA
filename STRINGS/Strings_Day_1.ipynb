{
 "cells": [
  {
   "cell_type": "markdown",
   "id": "853ea08a",
   "metadata": {},
   "source": [
    "# 1) Remove Outermost Parentheses"
   ]
  },
  {
   "cell_type": "markdown",
   "id": "0def357e",
   "metadata": {},
   "source": [
    "A valid parentheses string is either empty \"\", \"(\" + A + \")\", or A + B, where A and B are valid parentheses strings, and + represents string concatenation.\n",
    "\n",
    "For example, \"\", \"()\", \"(())()\", and \"(()(()))\" are all valid parentheses strings.\n",
    "A valid parentheses string s is primitive if it is nonempty, and there does not exist a way to split it into s = A + B, with A and B nonempty valid parentheses strings.\n",
    "\n",
    "Given a valid parentheses string s, consider its primitive decomposition: s = P1 + P2 + ... + Pk, where Pi are primitive valid parentheses strings.\n",
    "\n",
    "Return s after removing the outermost parentheses of every primitive string in the primitive decomposition of s.\n",
    "\n",
    " \n",
    "\n",
    "Example 1:\n",
    "\n",
    "Input: s = \"(()())(())\"\n",
    "Output: \"()()()\"\n",
    "Explanation: \n",
    "The input string is \"(()())(())\", with primitive decomposition \"(()())\" + \"(())\".\n",
    "After removing outer parentheses of each part, this is \"()()\" + \"()\" = \"()()()\".\n",
    "Example 2:\n",
    "\n",
    "Input: s = \"(()())(())(()(()))\"\n",
    "Output: \"()()()()(())\"\n",
    "Explanation: \n",
    "The input string is \"(()())(())(()(()))\", with primitive decomposition \"(()())\" + \"(())\" + \"(()(()))\".\n",
    "After removing outer parentheses of each part, this is \"()()\" + \"()\" + \"()(())\" = \"()()()()(())\".\n",
    "Example 3:\n",
    "\n",
    "Input: s = \"()()\"\n",
    "Output: \"\"\n",
    "Explanation: \n",
    "The input string is \"()()\", with primitive decomposition \"()\" + \"()\".\n",
    "After removing outer parentheses of each part, this is \"\" + \"\" = \"\".\n",
    " |"
   ]
  },
  {
   "cell_type": "code",
   "execution_count": 4,
   "id": "d18d947c",
   "metadata": {},
   "outputs": [
    {
     "data": {
      "text/plain": [
       "'()()()'"
      ]
     },
     "execution_count": 4,
     "metadata": {},
     "output_type": "execute_result"
    }
   ],
   "source": [
    "def removeOuterParentheses(s):\n",
    "    res = \"\"\n",
    "    depth = 0\n",
    "    for ch in s:\n",
    "        if ch == \"(\":\n",
    "            if depth>0:\n",
    "                res += \"(\"\n",
    "            depth += 1\n",
    "        else:\n",
    "            depth -= 1\n",
    "            if depth >0:\n",
    "                res+=\")\"\n",
    "                \n",
    "    return res\n",
    "\n",
    "s = \"(()())())(()(())\"\n",
    "removeOuterParentheses(s)\n"
   ]
  },
  {
   "cell_type": "markdown",
   "id": "5075b036",
   "metadata": {},
   "source": [
    "# 2) Reverse Words in a String"
   ]
  },
  {
   "cell_type": "markdown",
   "id": "8ccb1587",
   "metadata": {},
   "source": [
    "Problem Statement: Given a string s, reverse the words of the string.\n",
    "\n",
    "Examples:\n",
    "\n",
    "Example 1:\n",
    "Input: s=”this is an amazing program”\n",
    "Output: “program amazing an is this”\n",
    "\n",
    "Example 2:\n",
    "Input: s=”This is decent”\n",
    "Output: “decent is This”"
   ]
  },
  {
   "cell_type": "code",
   "execution_count": 8,
   "id": "527da4e3",
   "metadata": {},
   "outputs": [
    {
     "data": {
      "text/plain": [
       "'programm amazing an is This'"
      ]
     },
     "execution_count": 8,
     "metadata": {},
     "output_type": "execute_result"
    }
   ],
   "source": [
    "def reverse(string):\n",
    "    lst = string.split()\n",
    "    res = \"\"\n",
    "    for i in range(len(lst)-1, -1, -1):\n",
    "        res += lst[i]\n",
    "        if i > 0:   # only add space if not last word\n",
    "            res += \" \"\n",
    "    return res\n",
    "reverse(\"This is an amazing programm\")"
   ]
  },
  {
   "cell_type": "markdown",
   "id": "a286eb82",
   "metadata": {},
   "source": [
    "# 3) Largest Odd number in string"
   ]
  },
  {
   "cell_type": "markdown",
   "id": "e752bf99",
   "metadata": {},
   "source": [
    "You are given a string num, representing a large integer. Return the largest-valued odd integer (as a string) that is a non-empty substring of num, or an empty string \"\" if no odd integer exists.\n",
    "\n",
    "A substring is a contiguous sequence of characters within a string.\n",
    "\n",
    " \n",
    "\n",
    "Example 1:\n",
    "\n",
    "Input: num = \"52\"\n",
    "Output: \"5\"\n",
    "Explanation: The only non-empty substrings are \"5\", \"2\", and \"52\". \"5\" is the only odd number.\n",
    "Example 2:\n",
    "\n",
    "Input: num = \"4206\"\n",
    "Output: \"\"\n",
    "Explanation: There are no odd numbers in \"4206\".\n",
    "Example 3:\n",
    "\n",
    "Input: num = \"35427\"\n",
    "Output: \"35427\"\n",
    "Explanation: \"35427\" is already an odd number.\n",
    " "
   ]
  },
  {
   "cell_type": "code",
   "execution_count": 13,
   "id": "deff384e",
   "metadata": {},
   "outputs": [
    {
     "data": {
      "text/plain": [
       "'35427'"
      ]
     },
     "execution_count": 13,
     "metadata": {},
     "output_type": "execute_result"
    }
   ],
   "source": [
    "def large_odd_num(string):\n",
    "    st = \"\"\n",
    "    if int(string)%2 != 0:\n",
    "        return string\n",
    "    else:\n",
    "        for digit in string:\n",
    "            if int(digit) % 2 != 0:\n",
    "                st += digit\n",
    "            elif int(digit) == 0:\n",
    "                st += \"0\"\n",
    "            else:\n",
    "                pass\n",
    "    return st\n",
    "\n",
    "large_odd_num(\"35427\")"
   ]
  },
  {
   "cell_type": "markdown",
   "id": "fd2511f5",
   "metadata": {},
   "source": [
    "#### Best Solution O(n) and O(1) "
   ]
  },
  {
   "cell_type": "code",
   "execution_count": 14,
   "id": "6eeff5a0",
   "metadata": {},
   "outputs": [],
   "source": [
    "class Solution:\n",
    "    def largestOddNumber(self, num: str) -> str:\n",
    "\n",
    "        \n",
    "        # Scan from right to left to find the last odd digit\n",
    "        for i in range(len(num) - 1, -1, -1):\n",
    "            if int(num[i]) % 2 == 1:  # odd digit found\n",
    "                return num[:i+1]      # return prefix ending here\n",
    "        return \"\"  # no odd digit\n"
   ]
  },
  {
   "cell_type": "code",
   "execution_count": null,
   "id": "41fb322a",
   "metadata": {},
   "outputs": [],
   "source": []
  }
 ],
 "metadata": {
  "kernelspec": {
   "display_name": "Python 3 (ipykernel)",
   "language": "python",
   "name": "python3"
  },
  "language_info": {
   "codemirror_mode": {
    "name": "ipython",
    "version": 3
   },
   "file_extension": ".py",
   "mimetype": "text/x-python",
   "name": "python",
   "nbconvert_exporter": "python",
   "pygments_lexer": "ipython3",
   "version": "3.11.5"
  }
 },
 "nbformat": 4,
 "nbformat_minor": 5
}
