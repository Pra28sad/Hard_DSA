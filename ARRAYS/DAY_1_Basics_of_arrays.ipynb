{
 "cells": [
  {
   "cell_type": "markdown",
   "id": "cbc7d6d8",
   "metadata": {},
   "source": [
    "# 1) Largest Element in an array"
   ]
  },
  {
   "cell_type": "markdown",
   "id": "f6bda26d",
   "metadata": {},
   "source": [
    "###  brute force approach"
   ]
  },
  {
   "cell_type": "code",
   "execution_count": 3,
   "id": "f45aa6f7",
   "metadata": {},
   "outputs": [
    {
     "data": {
      "text/plain": [
       "9"
      ]
     },
     "execution_count": 3,
     "metadata": {},
     "output_type": "execute_result"
    }
   ],
   "source": [
    "def find_max(arr):\n",
    "    Max = arr[0]\n",
    "    for i in range(len(arr)):\n",
    "        if arr[i]>Max:\n",
    "            Max = arr[i]\n",
    "            \n",
    "    return Max\n",
    "\n",
    "find_max([2,1,6,5,3,9])"
   ]
  },
  {
   "cell_type": "markdown",
   "id": "af87419e",
   "metadata": {},
   "source": [
    "### recursive approach"
   ]
  },
  {
   "cell_type": "code",
   "execution_count": 6,
   "id": "554931ed",
   "metadata": {},
   "outputs": [
    {
     "data": {
      "text/plain": [
       "41"
      ]
     },
     "execution_count": 6,
     "metadata": {},
     "output_type": "execute_result"
    }
   ],
   "source": [
    "def rec_find_max(arr,ind,maximum):\n",
    "    if ind >= len(arr):\n",
    "        return maximum\n",
    "    if maximum<arr[ind] :\n",
    "        return rec_find_max(arr,ind+1,arr[ind])\n",
    "    else:\n",
    "        return rec_find_max(arr,ind+1,maximum)\n",
    "        \n",
    "rec_find_max([2,34,1,41,5,6],0,2)"
   ]
  },
  {
   "cell_type": "code",
   "execution_count": 7,
   "id": "717711c3",
   "metadata": {},
   "outputs": [
    {
     "name": "stdout",
     "output_type": "stream",
     "text": [
      "Largest element is: 44\n"
     ]
    }
   ],
   "source": [
    "def find_max_recursive(arr, n):\n",
    "    # Base case: if only one element, return it\n",
    "    if n == 1:\n",
    "        return arr[0]\n",
    "    \n",
    "    # Recursive case: find the max in the first n-1 elements\n",
    "    return max(arr[n-1], find_max_recursive(arr, n-1))\n",
    "\n",
    "\n",
    "# Example usage\n",
    "arr = [3, 9, 1, 44, 12, 7, 21]\n",
    "n = len(arr)\n",
    "print(\"Largest element is:\", find_max_recursive(arr, n))\n"
   ]
  },
  {
   "cell_type": "markdown",
   "id": "4d13b397",
   "metadata": {},
   "source": [
    "# 2) Check if an Array is Sorted\n",
    "\n"
   ]
  },
  {
   "cell_type": "markdown",
   "id": "39fcbfc1",
   "metadata": {},
   "source": [
    "### brute force approach"
   ]
  },
  {
   "cell_type": "code",
   "execution_count": 2,
   "id": "bedc0f4b",
   "metadata": {},
   "outputs": [
    {
     "name": "stdout",
     "output_type": "stream",
     "text": [
      "False\n"
     ]
    }
   ],
   "source": [
    "def isSorted(arr, n):\n",
    "    for i in range(n):\n",
    "        for j in range(i + 1, n):\n",
    "            if arr[j] < arr[i]:\n",
    "                return False\n",
    "\n",
    "    return True\n",
    "\n",
    "if __name__ == \"__main__\":\n",
    "    arr = [1, 2, 3, 4, 5,1]\n",
    "    n = len(arr)\n",
    "    ans = isSorted(arr, n)\n",
    "    if ans:\n",
    "        print(\"True\")\n",
    "    else:\n",
    "        print(\"False\")\n"
   ]
  },
  {
   "cell_type": "markdown",
   "id": "8b7b2d9d",
   "metadata": {},
   "source": [
    "### optimal approach\n"
   ]
  },
  {
   "cell_type": "code",
   "execution_count": 3,
   "id": "887ac42b",
   "metadata": {},
   "outputs": [
    {
     "name": "stdout",
     "output_type": "stream",
     "text": [
      "True\n"
     ]
    }
   ],
   "source": [
    "def isSorted(arr, n):\n",
    "    for i in range(1, n):\n",
    "        if arr[i] < arr[i - 1]:\n",
    "            return False\n",
    "    return True\n",
    "\n",
    "if __name__ == \"__main__\":\n",
    "    arr = [1, 2, 3, 4, 5]\n",
    "    n = 5\n",
    "    print(\"True\" if isSorted(arr, n) else \"False\")"
   ]
  },
  {
   "cell_type": "markdown",
   "id": "d706260c",
   "metadata": {},
   "source": [
    "# 3) Find Second Smallest and Second Largest Element in an array"
   ]
  },
  {
   "cell_type": "markdown",
   "id": "293f37ec",
   "metadata": {},
   "source": [
    "### brute force approach ( only works if there is no duplicates)"
   ]
  },
  {
   "cell_type": "code",
   "execution_count": 5,
   "id": "285fbf60",
   "metadata": {},
   "outputs": [
    {
     "name": "stdout",
     "output_type": "stream",
     "text": [
      "second smallest :  3\n",
      "seconf largest:  6\n"
     ]
    }
   ],
   "source": [
    "def getElements(arr,n):\n",
    "    if n ==0 or n==1:\n",
    "        print(-1,-1)\n",
    "    arr.sort()\n",
    "    small = arr[1]\n",
    "    large = arr[n-2]\n",
    "    \n",
    "    print(\"second smallest : \",small)\n",
    "    print(\"seconf largest: \",large)\n",
    "    \n",
    "if __name__==\"__main__\":\n",
    "    arr=[1,3,4,5,6,7]\n",
    "    n = len(arr)\n",
    "    getElements(arr,n)"
   ]
  },
  {
   "cell_type": "markdown",
   "id": "a91f6f01",
   "metadata": {},
   "source": [
    "### better approach"
   ]
  },
  {
   "cell_type": "code",
   "execution_count": 6,
   "id": "8401b0e2",
   "metadata": {},
   "outputs": [
    {
     "name": "stdout",
     "output_type": "stream",
     "text": [
      "Second smallest :  3\n",
      "Second largest :  6\n"
     ]
    }
   ],
   "source": [
    "def getElements(arr,n):\n",
    "    if n==0 or n==1:\n",
    "        print(-1,-1)\n",
    "    \n",
    "    small = float('inf')\n",
    "    second_small = float('inf')\n",
    "    \n",
    "    large = float('-inf')\n",
    "    second_large = float(\"-inf\")\n",
    "    \n",
    "    for i in range(n):\n",
    "        small = min(small, arr[i])\n",
    "        large = max(large, arr[i])\n",
    "        \n",
    "    for i in range(n):\n",
    "        if arr[i]<second_small and arr[i] != small:\n",
    "            second_small = arr[i]\n",
    "            \n",
    "        if arr[i]>second_large and arr[i]!=large:\n",
    "            second_large = arr[i]\n",
    "            \n",
    "    print(\"Second smallest : \",second_small)\n",
    "    print(\"Second largest : \",second_large)\n",
    "    \n",
    "if __name__==\"__main__\":\n",
    "    arr=[1,3,4,5,6,7]\n",
    "    n = len(arr)\n",
    "    getElements(arr,n)"
   ]
  },
  {
   "cell_type": "markdown",
   "id": "9802603d",
   "metadata": {},
   "source": [
    "### optimal approach (best solution)"
   ]
  },
  {
   "cell_type": "code",
   "execution_count": 9,
   "id": "802e05b5",
   "metadata": {},
   "outputs": [
    {
     "name": "stdout",
     "output_type": "stream",
     "text": [
      "Second smallest:  3\n",
      "Second Largest:  6\n"
     ]
    }
   ],
   "source": [
    "def second_smallest(arr,n):\n",
    "    if n<2:\n",
    "        return -1\n",
    "    small = float(\"inf\")\n",
    "    second_small = float(\"inf\")\n",
    "    \n",
    "    for i in range(n):\n",
    "        if arr[i]<small:\n",
    "            second_small = small\n",
    "            small = arr[i]\n",
    "            \n",
    "        elif arr[i]<second_small and arr[i] != small:\n",
    "            second_small = arr[i]\n",
    "            \n",
    "    return second_small\n",
    "\n",
    "def second_largest(arr,n):\n",
    "    if n<2:\n",
    "        return -1\n",
    "    \n",
    "    second_largest = float(\"-inf\")\n",
    "    largest = float(\"-inf\")\n",
    "    \n",
    "    for i in range(n):\n",
    "        if arr[i]>largest:\n",
    "            second_largest = largest\n",
    "            largest = arr[i]\n",
    "            \n",
    "        elif arr[i] > second_largest and arr[i] != largest:\n",
    "            second_largest = arr[i]\n",
    "            \n",
    "    return second_largest\n",
    "\n",
    "if __name__==\"__main__\":\n",
    "    arr=[1,3,4,5,6,7]\n",
    "    n = len(arr)\n",
    "    small, large = second_smallest(arr,n), second_largest(arr,n)\n",
    "    \n",
    "    print(\"Second smallest: \", small)\n",
    "    print(\"Second Largest: \", large)"
   ]
  },
  {
   "cell_type": "markdown",
   "id": "fac58d53",
   "metadata": {},
   "source": [
    "# 4) Linear Search"
   ]
  },
  {
   "cell_type": "code",
   "execution_count": 15,
   "id": "286ffb9a",
   "metadata": {},
   "outputs": [
    {
     "name": "stdout",
     "output_type": "stream",
     "text": [
      "the position is : 5\n"
     ]
    }
   ],
   "source": [
    "def linearSearch(arr,key):\n",
    "    for i in range(len(arr)):\n",
    "        if arr[i] == key:\n",
    "            return i\n",
    "    return -1\n",
    "\n",
    "if __name__==\"__main__\":\n",
    "    res = linearSearch([1,4,5,7,2,8],8)\n",
    "    print(\"the position is :\",res)"
   ]
  },
  {
   "cell_type": "markdown",
   "id": "4a753543",
   "metadata": {},
   "source": [
    "# 5) Left Rotate the Array by one"
   ]
  },
  {
   "cell_type": "code",
   "execution_count": 17,
   "id": "c747288a",
   "metadata": {},
   "outputs": [
    {
     "name": "stdout",
     "output_type": "stream",
     "text": [
      "2 3 4 5 6 1 "
     ]
    }
   ],
   "source": [
    "def solve(arr,n):\n",
    "    temp = arr[0]\n",
    "    for i in range(n-1):\n",
    "        arr[i] = arr[i+1]\n",
    "    arr[n-1] = temp\n",
    "    \n",
    "    for i in range(n):\n",
    "        print(arr[i],end=\" \")\n",
    "        \n",
    "n = 5\n",
    "arr = [1,2,3,4,5,6]\n",
    "solve(arr,6)"
   ]
  },
  {
   "cell_type": "markdown",
   "id": "a37cb886",
   "metadata": {},
   "source": [
    "### K rotations"
   ]
  },
  {
   "cell_type": "code",
   "execution_count": 20,
   "id": "228d9140",
   "metadata": {},
   "outputs": [
    {
     "name": "stdout",
     "output_type": "stream",
     "text": [
      "1 2 3 4 5 6 "
     ]
    }
   ],
   "source": [
    "def solve(arr,n,k):\n",
    "    \n",
    "    for j in range(k):\n",
    "        temp = arr[0]\n",
    "        for i in range(n-1):\n",
    "            arr[i] = arr[i+1]\n",
    "        arr[n-1] = temp\n",
    "    \n",
    "    for i in range(n):\n",
    "        print(arr[i],end=\" \")\n",
    "        \n",
    "n = 5\n",
    "arr = [1,2,3,4,5,6]\n",
    "solve(arr,6,6)"
   ]
  },
  {
   "cell_type": "code",
   "execution_count": null,
   "id": "404785c0",
   "metadata": {},
   "outputs": [],
   "source": []
  },
  {
   "cell_type": "code",
   "execution_count": null,
   "id": "ad025b7e",
   "metadata": {},
   "outputs": [],
   "source": []
  }
 ],
 "metadata": {
  "kernelspec": {
   "display_name": "Python 3 (ipykernel)",
   "language": "python",
   "name": "python3"
  },
  "language_info": {
   "codemirror_mode": {
    "name": "ipython",
    "version": 3
   },
   "file_extension": ".py",
   "mimetype": "text/x-python",
   "name": "python",
   "nbconvert_exporter": "python",
   "pygments_lexer": "ipython3",
   "version": "3.11.5"
  }
 },
 "nbformat": 4,
 "nbformat_minor": 5
}
