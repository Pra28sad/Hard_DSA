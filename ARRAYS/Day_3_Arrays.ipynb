{
 "cells": [
  {
   "cell_type": "markdown",
   "id": "81f732fc",
   "metadata": {},
   "source": [
    "# 1) Search in a 2 D matrix"
   ]
  },
  {
   "cell_type": "markdown",
   "id": "89c0b19a",
   "metadata": {},
   "source": [
    "### brute force approach"
   ]
  },
  {
   "cell_type": "code",
   "execution_count": 3,
   "id": "cd705530",
   "metadata": {},
   "outputs": [
    {
     "data": {
      "text/plain": [
       "(1, 3)"
      ]
     },
     "execution_count": 3,
     "metadata": {},
     "output_type": "execute_result"
    }
   ],
   "source": [
    "def find_2D(mat,target):\n",
    "    for row in range(len(mat)):\n",
    "        for col in range(len(mat[row])):\n",
    "            if mat[row][col] == target:\n",
    "                return (row,col)\n",
    "    return -1\n",
    "\n",
    "find_2D([[1,2,3,4],[5,6,7,8],[9,10,11,12]],8)"
   ]
  },
  {
   "cell_type": "markdown",
   "id": "727066ed",
   "metadata": {},
   "source": [
    "### better approach ( binary search) "
   ]
  },
  {
   "cell_type": "code",
   "execution_count": 4,
   "id": "53432f7d",
   "metadata": {},
   "outputs": [
    {
     "name": "stdout",
     "output_type": "stream",
     "text": [
      "true\n"
     ]
    }
   ],
   "source": [
    "def binarySearch(nums,target):\n",
    "    n = len(nums)\n",
    "    low, high = 0,n-1\n",
    "    \n",
    "    while low<=high:\n",
    "        mid = (low+high)//2\n",
    "        \n",
    "        if nums[mid] == target:\n",
    "            return True\n",
    "        \n",
    "        elif target > nums[mid]:\n",
    "            low = mid + 1\n",
    "            \n",
    "        else:\n",
    "            high = mid - 1\n",
    "            \n",
    "            \n",
    "def searchMatrix(matrix, target):\n",
    "    n = len(matrix)\n",
    "    m = len(matrix[0])\n",
    "    \n",
    "    for i in range(n):\n",
    "        if matrix[i][0]<=target<=matrix[i][m-1]:\n",
    "            return binarySearch(matrix[i],target)\n",
    "        \n",
    "    return False\n",
    "\n",
    "matrix = [[1, 2, 3, 4], [5, 6, 7, 8], [9, 10, 11, 12]]\n",
    "result = searchMatrix(matrix, 8)\n",
    "print(\"true\" if result else \"false\")"
   ]
  },
  {
   "cell_type": "markdown",
   "id": "a450da27",
   "metadata": {},
   "source": [
    "### optimal way (flattening the array)"
   ]
  },
  {
   "cell_type": "code",
   "execution_count": 5,
   "id": "93fcf16e",
   "metadata": {},
   "outputs": [
    {
     "name": "stdout",
     "output_type": "stream",
     "text": [
      "true\n"
     ]
    }
   ],
   "source": [
    "def SearchMatrix(matrix,target):\n",
    "    n = len(matrix)\n",
    "    m = len(matrix[0])\n",
    "    \n",
    "    low = 0\n",
    "    high = n*m - 1\n",
    "    \n",
    "    while low <= high:\n",
    "        mid = (low+high)//2\n",
    "        row = mid//m  ## for row\n",
    "        col = mid%m   ## for col\n",
    "        if matrix[row][col] == target:\n",
    "            return True\n",
    "        elif matrix[row][col] < target:\n",
    "            low = mid + 1\n",
    "            \n",
    "        else:\n",
    "            high = mid - 1\n",
    "            \n",
    "    return False\n",
    "\n",
    "matrix = [[1, 2, 3, 4], [5, 6, 7, 8], [9, 10, 11, 12]]\n",
    "result = SearchMatrix(matrix, 8)\n",
    "print(\"true\" if result else \"false\")"
   ]
  },
  {
   "cell_type": "markdown",
   "id": "7c14ffa9",
   "metadata": {},
   "source": [
    "# 2) Leaders in an Array  "
   ]
  },
  {
   "cell_type": "markdown",
   "id": "653470ee",
   "metadata": {},
   "source": [
    "## (greater than all of the elements on its right side in the array)"
   ]
  },
  {
   "cell_type": "markdown",
   "id": "6561a476",
   "metadata": {},
   "source": [
    "Example 1:\n",
    "Input:\n",
    " arr = [4, 7, 1, 0]\n",
    "Output:\n",
    " 7 1 0\n",
    "Explanation:\n",
    " Rightmost element is always a leader. 7 and 1 are greater than the elements in their right side.\n",
    "\n",
    "Example 2:\n",
    "Input:\n",
    " arr = [10, 22, 12, 3, 0, 6]\n",
    "Output:\n",
    " 22 12 6\n",
    "Explanation:\n",
    " 6 is a leader. In addition to that, 12 is greater than all the elements in its right side (3, 0, 6), also 22 is greater than 12, 3, 0, 6."
   ]
  },
  {
   "cell_type": "code",
   "execution_count": 18,
   "id": "07674856",
   "metadata": {},
   "outputs": [
    {
     "name": "stdout",
     "output_type": "stream",
     "text": [
      "22 12 6 \n",
      "7 1 0 "
     ]
    }
   ],
   "source": [
    "def Leaders(arr):\n",
    "    \n",
    "    for i in range(len(arr)):\n",
    "        flag = 1\n",
    "        for j in range(i,len(arr)):\n",
    "            if arr[i]<arr[j]:\n",
    "                flag = 0\n",
    "                break\n",
    "                \n",
    "        if flag==1:\n",
    "            print(arr[i],end=\" \")\n",
    "            \n",
    "       \n",
    "                \n",
    "Leaders([22, 12, 3, 0, 6])\n",
    "print()\n",
    "Leaders([4,7,1,0])"
   ]
  },
  {
   "cell_type": "markdown",
   "id": "2ca9f7f5",
   "metadata": {},
   "source": [
    "### optimal way"
   ]
  },
  {
   "attachments": {
    "image.png": {
     "image/png": "[encoded data removed]"
    }
   },
   "cell_type": "markdown",
   "id": "99afa12a",
   "metadata": {},
   "source": [
    "![image.png](attachment:image.png)"
   ]
  },
  {
   "cell_type": "code",
   "execution_count": 19,
   "id": "1df6cd06",
   "metadata": {},
   "outputs": [
    {
     "name": "stdout",
     "output_type": "stream",
     "text": [
      "22 12 6 \n"
     ]
    }
   ],
   "source": [
    "def printLeaders(arr,n):\n",
    "    ans= []\n",
    "    max_elem = arr[n-1]\n",
    "    ans.append(arr[n-1])\n",
    "    \n",
    "    for i in range(n-2, -1,-1):\n",
    "        if arr[i]>max_elem:\n",
    "            \n",
    "            ans.append(arr[i])\n",
    "            max_elem=arr[i]\n",
    "            \n",
    "    return ans\n",
    "\n",
    "if __name__ == '__main__':\n",
    "    # Array Initialization\n",
    "    n = 6\n",
    "    arr = [10, 22, 12, 3, 0, 6]\n",
    "\n",
    "    ans = printLeaders(arr, n)\n",
    "\n",
    "    for i in range(len(ans)-1, -1, -1):\n",
    "        print(ans[i], end=\" \")\n",
    "\n",
    "    print()\n"
   ]
  },
  {
   "cell_type": "code",
   "execution_count": null,
   "id": "0ab17067",
   "metadata": {},
   "outputs": [],
   "source": []
  }
 ],
 "metadata": {
  "kernelspec": {
   "display_name": "Python 3 (ipykernel)",
   "language": "python",
   "name": "python3"
  },
  "language_info": {
   "codemirror_mode": {
    "name": "ipython",
    "version": 3
   },
   "file_extension": ".py",
   "mimetype": "text/x-python",
   "name": "python",
   "nbconvert_exporter": "python",
   "pygments_lexer": "ipython3",
   "version": "3.11.5"
  }
 },
 "nbformat": 4,
 "nbformat_minor": 5
}
