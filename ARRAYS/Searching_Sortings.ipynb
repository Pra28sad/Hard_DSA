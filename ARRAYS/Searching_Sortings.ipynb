{
 "cells": [
  {
   "cell_type": "markdown",
   "id": "4d4896c9",
   "metadata": {},
   "source": [
    "# Searching Techniques"
   ]
  },
  {
   "cell_type": "markdown",
   "id": "03275e4f",
   "metadata": {},
   "source": [
    "### Linear Search"
   ]
  },
  {
   "cell_type": "code",
   "execution_count": 1,
   "id": "1a41b81e",
   "metadata": {},
   "outputs": [
    {
     "data": {
      "text/plain": [
       "2"
      ]
     },
     "execution_count": 1,
     "metadata": {},
     "output_type": "execute_result"
    }
   ],
   "source": [
    "def linear_search(arr,key):\n",
    "    for i in range(len(arr)):\n",
    "        if arr[i] == key:\n",
    "            return i\n",
    "        \n",
    "    return -1\n",
    "\n",
    "linear_search([4,5,2,1,6],2)"
   ]
  },
  {
   "cell_type": "markdown",
   "id": "bbfbe615",
   "metadata": {},
   "source": [
    "### Binary Search"
   ]
  },
  {
   "cell_type": "code",
   "execution_count": 5,
   "id": "d4a5b8f9",
   "metadata": {},
   "outputs": [
    {
     "data": {
      "text/plain": [
       "1"
      ]
     },
     "execution_count": 5,
     "metadata": {},
     "output_type": "execute_result"
    }
   ],
   "source": [
    "def binary_search(arr,key):\n",
    "    left = 0\n",
    "    right = len(arr)-1\n",
    "    \n",
    "    while left<=right:\n",
    "        mid = (left+right)//2\n",
    "        \n",
    "        if arr[mid] == key:\n",
    "            return mid\n",
    "        \n",
    "        elif arr[mid] > key:\n",
    "            right = mid-1\n",
    "            \n",
    "        else:\n",
    "            left = mid + 1\n",
    "            \n",
    "    return -1\n",
    "\n",
    "binary_search([2,4,6,7,9],4)"
   ]
  },
  {
   "cell_type": "markdown",
   "id": "de4f5fbc",
   "metadata": {},
   "source": [
    "# Sortings"
   ]
  },
  {
   "cell_type": "markdown",
   "id": "eb2adbdf",
   "metadata": {},
   "source": [
    "### Bubble Sort"
   ]
  },
  {
   "cell_type": "code",
   "execution_count": 7,
   "id": "ecae99e6",
   "metadata": {},
   "outputs": [
    {
     "data": {
      "text/plain": [
       "[1, 2, 3, 4, 5, 6, 9]"
      ]
     },
     "execution_count": 7,
     "metadata": {},
     "output_type": "execute_result"
    }
   ],
   "source": [
    "## every time it will return the greater number and put it in last place\n",
    "def bubble_sort(arr):\n",
    "    n = len(arr)\n",
    "    \n",
    "    for i in range(n):\n",
    "        for j in range(0,n-i-1):\n",
    "            if arr[j] > arr[j+1]:\n",
    "                arr[j],arr[j+1] = arr[j+1],arr[j]\n",
    "    return arr\n",
    "\n",
    "bubble_sort([2,5,6,1,3,4,9])"
   ]
  },
  {
   "cell_type": "markdown",
   "id": "df2b2bac",
   "metadata": {},
   "source": [
    "### Selection Sort"
   ]
  },
  {
   "cell_type": "code",
   "execution_count": 8,
   "id": "fac03288",
   "metadata": {},
   "outputs": [
    {
     "data": {
      "text/plain": [
       "[1, 2, 3, 4, 5, 6, 9]"
      ]
     },
     "execution_count": 8,
     "metadata": {},
     "output_type": "execute_result"
    }
   ],
   "source": [
    "## every time it will find the min element index and place it in the right place\n",
    "def selection_sort(arr):\n",
    "    n = len(arr)\n",
    "    for i in range(n):\n",
    "        min_idx = i\n",
    "        for j in range(i+1,n):\n",
    "            if arr[j]<arr[min_idx]:\n",
    "                min_idx = j\n",
    "                \n",
    "        arr[i],arr[min_idx] = arr[min_idx],arr[i]\n",
    "        \n",
    "    return arr\n",
    "\n",
    "\n",
    "selection_sort([2,5,6,1,3,4,9])"
   ]
  },
  {
   "cell_type": "markdown",
   "id": "0d8cdd91",
   "metadata": {},
   "source": [
    "### Insertion Sort"
   ]
  },
  {
   "cell_type": "code",
   "execution_count": 9,
   "id": "8a6c0851",
   "metadata": {},
   "outputs": [
    {
     "data": {
      "text/plain": [
       "[1, 2, 3, 4, 5, 6, 9]"
      ]
     },
     "execution_count": 9,
     "metadata": {},
     "output_type": "execute_result"
    }
   ],
   "source": [
    "## this algorithm ..divides every iteratiion into two arrays >> sorted and un sorted array\n",
    "## For each element (called key) it shifts larger elements to the right until it finds the correct place and inserts key. The code sorts arr in place and returns it.\n",
    "\n",
    "def insertion_sort(arr):\n",
    "    n = len(arr)\n",
    "    \n",
    "    for i in range(1,len(arr)):\n",
    "        key = arr[i]\n",
    "        j = i-1\n",
    "        while j>=0 and key<arr[j]:\n",
    "            arr[j+1] = arr[j]\n",
    "            j -= 1\n",
    "            \n",
    "        arr[j+1] = key\n",
    "        \n",
    "    return arr\n",
    "\n",
    "insertion_sort([2,5,6,1,3,4,9])"
   ]
  },
  {
   "cell_type": "markdown",
   "id": "e2c28561",
   "metadata": {},
   "source": [
    "### Merge Sort"
   ]
  },
  {
   "cell_type": "code",
   "execution_count": 10,
   "id": "6e33b501",
   "metadata": {},
   "outputs": [
    {
     "data": {
      "text/plain": [
       "[1, 2, 3, 4, 5, 6, 9]"
      ]
     },
     "execution_count": 10,
     "metadata": {},
     "output_type": "execute_result"
    }
   ],
   "source": [
    "def merge_sort(arr):\n",
    "    if len(arr)>1:\n",
    "        mid = len(arr)//2\n",
    "        left = arr[:mid]\n",
    "        right = arr[mid:]\n",
    "        \n",
    "        merge_sort(left)\n",
    "        merge_sort(right)\n",
    "        \n",
    "        i, j, k = 0, 0, 0\n",
    "        \n",
    "        while i<len(left) and j <len(right):\n",
    "            if left[i] < right[j]:\n",
    "                arr[k] = left [i]\n",
    "                i+=1\n",
    "            else:\n",
    "                arr[k] = right[j]\n",
    "                j+=1\n",
    "                \n",
    "            k+= 1\n",
    "            \n",
    "        while i<len(left):\n",
    "            arr[k] = left[i]\n",
    "            i+=1\n",
    "            k+=1\n",
    "            \n",
    "        while j<len(right):\n",
    "            arr[k] = right[j]\n",
    "            k+=1\n",
    "            j+=1\n",
    "            \n",
    "        return arr\n",
    "    \n",
    "merge_sort([2,5,6,1,3,4,9])"
   ]
  },
  {
   "cell_type": "markdown",
   "id": "83aa828e",
   "metadata": {},
   "source": [
    "###  Quick sort"
   ]
  },
  {
   "cell_type": "code",
   "execution_count": 11,
   "id": "1b9832f6",
   "metadata": {},
   "outputs": [
    {
     "data": {
      "text/plain": [
       "[1, 2, 3, 4, 5, 6, 9]"
      ]
     },
     "execution_count": 11,
     "metadata": {},
     "output_type": "execute_result"
    }
   ],
   "source": [
    "def quick_sort(arr):\n",
    "    if len(arr)<=1:\n",
    "        return arr\n",
    "    \n",
    "    else:\n",
    "        pivot = arr[len(arr)//2]\n",
    "        left = [x for x in arr if x<pivot]\n",
    "        middle = [x for x in arr if x == pivot]\n",
    "        right = [x for x in arr if x>pivot]\n",
    "        \n",
    "        return quick_sort(left) + middle + quick_sort(right)\n",
    "    \n",
    "quick_sort([2,5,6,1,3,4,9])"
   ]
  },
  {
   "cell_type": "code",
   "execution_count": null,
   "id": "a45f48b7",
   "metadata": {},
   "outputs": [],
   "source": []
  },
  {
   "cell_type": "code",
   "execution_count": null,
   "id": "c342790b",
   "metadata": {},
   "outputs": [],
   "source": []
  },
  {
   "cell_type": "code",
   "execution_count": null,
   "id": "d196a6fe",
   "metadata": {},
   "outputs": [],
   "source": []
  }
 ],
 "metadata": {
  "kernelspec": {
   "display_name": "Python 3 (ipykernel)",
   "language": "python",
   "name": "python3"
  },
  "language_info": {
   "codemirror_mode": {
    "name": "ipython",
    "version": 3
   },
   "file_extension": ".py",
   "mimetype": "text/x-python",
   "name": "python",
   "nbconvert_exporter": "python",
   "pygments_lexer": "ipython3",
   "version": "3.11.5"
  }
 },
 "nbformat": 4,
 "nbformat_minor": 5
}
