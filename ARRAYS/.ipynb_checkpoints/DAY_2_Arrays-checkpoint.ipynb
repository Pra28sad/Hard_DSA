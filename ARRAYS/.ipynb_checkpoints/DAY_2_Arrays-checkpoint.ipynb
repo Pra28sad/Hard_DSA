{
 "cells": [
  {
   "cell_type": "markdown",
   "id": "2b3c5b7c",
   "metadata": {},
   "source": [
    "# 1) Maximum Consecutive Ones"
   ]
  },
  {
   "cell_type": "code",
   "execution_count": 3,
   "id": "07cc4455",
   "metadata": {},
   "outputs": [
    {
     "data": {
      "text/plain": [
       "2"
      ]
     },
     "execution_count": 3,
     "metadata": {},
     "output_type": "execute_result"
    }
   ],
   "source": [
    "def max_consecutive_ones(arr):\n",
    "    n = len(arr)\n",
    "    lst = []\n",
    "    \n",
    "    s = 0\n",
    "    for i in range(len(arr)):\n",
    "    \n",
    "        if arr[i] == 1:\n",
    "            s+=1\n",
    "        else:\n",
    "            lst.append(s)\n",
    "            s=0\n",
    "    lst.append(s)\n",
    "    return max(lst)\n",
    "\n",
    "max_consecutive_ones([1, 0, 1, 1, 0, 1])"
   ]
  },
  {
   "cell_type": "code",
   "execution_count": 5,
   "id": "a0f0dc2c",
   "metadata": {},
   "outputs": [
    {
     "data": {
      "text/plain": [
       "3"
      ]
     },
     "execution_count": 5,
     "metadata": {},
     "output_type": "execute_result"
    }
   ],
   "source": [
    "def max_consecutive_ones_(arr):\n",
    "    n = len(arr)\n",
    "    count = 0\n",
    "    max_count = 0\n",
    "    \n",
    "    for i in range(n):\n",
    "        if arr[i] == 1:\n",
    "            count += 1\n",
    "        else:\n",
    "            if count > max_count :\n",
    "                max_count = count\n",
    "                count = 0\n",
    "    if count > max_count :\n",
    "        max_count = count\n",
    "        count = 0\n",
    "\n",
    "    \n",
    "    return max_count\n",
    "\n",
    "max_consecutive_ones_([1, 1, 0, 1, 1, 1])"
   ]
  },
  {
   "cell_type": "code",
   "execution_count": 6,
   "id": "87bd61a8",
   "metadata": {},
   "outputs": [],
   "source": [
    "class Solution(object):\n",
    "    def findMaxConsecutiveOnes(self, nums):\n",
    "        \"\"\"\n",
    "        :type nums: List[int]\n",
    "        :rtype: int\n",
    "        \"\"\"\n",
    "        maxi = result = 0\n",
    "        \n",
    "        for num in nums:\n",
    "            if num == 1:\n",
    "                result += 1\n",
    "                maxi = max(maxi, result)\n",
    "            else:\n",
    "                result = 0\n",
    "        return maxi"
   ]
  },
  {
   "cell_type": "markdown",
   "id": "1451a82d",
   "metadata": {},
   "source": [
    "# 2) Move all Zeros to the end of the array"
   ]
  },
  {
   "cell_type": "markdown",
   "id": "48efb286",
   "metadata": {},
   "source": [
    "### bruteforce approach"
   ]
  },
  {
   "cell_type": "code",
   "execution_count": 16,
   "id": "97a7a44a",
   "metadata": {},
   "outputs": [
    {
     "name": "stdout",
     "output_type": "stream",
     "text": [
      "1 2 3 2 4 5 1 0 0 0 \n"
     ]
    }
   ],
   "source": [
    "def moveZeros(n,a):\n",
    "    temp = []\n",
    "    for i in range(n):\n",
    "        if a[i] != 0:\n",
    "            temp.append(a[i])\n",
    "            \n",
    "    nz = len(temp)\n",
    "    for i in range(nz):\n",
    "        a[i] = temp[i]\n",
    "    \n",
    "    for i in range(nz,n):\n",
    "        a[i] = 0\n",
    "    return a\n",
    "\n",
    "arr = [1, 0, 2, 3, 2, 0, 0, 4, 5, 1]\n",
    "n = 10\n",
    "ans = moveZeros(n, arr)\n",
    "for it in ans:\n",
    "    print(it, end=\" \")\n",
    "print()\n"
   ]
  },
  {
   "cell_type": "code",
   "execution_count": 20,
   "id": "cf5238a3",
   "metadata": {},
   "outputs": [
    {
     "name": "stdout",
     "output_type": "stream",
     "text": [
      "[1, 2, 3, 2, 4, 5, 1, 0, 0, 0]\n"
     ]
    }
   ],
   "source": [
    "def moveZeros(arr):\n",
    "    n = len(arr)\n",
    "    first = 0\n",
    "    last = 1\n",
    "\n",
    "    while first < n and last < n:\n",
    "        if arr[first] == 0:\n",
    "            # find next non-zero\n",
    "            while last < n and arr[last] == 0:\n",
    "                last += 1\n",
    "            if last < n:  # if found, swap\n",
    "                arr[first], arr[last] = arr[last], arr[first]\n",
    "        first += 1\n",
    "        last += 1\n",
    "\n",
    "    return arr\n",
    "\n",
    "# Test\n",
    "arr = [1, 0, 2, 3, 2, 0, 0, 4, 5, 1]\n",
    "print(moveZeros(arr))\n"
   ]
  },
  {
   "cell_type": "markdown",
   "id": "f46d4892",
   "metadata": {},
   "source": [
    "### optimal approach (2 Pointer approach)"
   ]
  },
  {
   "cell_type": "code",
   "execution_count": null,
   "id": "d9846d06",
   "metadata": {},
   "outputs": [],
   "source": []
  },
  {
   "cell_type": "code",
   "execution_count": 19,
   "id": "4d8dde51",
   "metadata": {},
   "outputs": [
    {
     "name": "stdout",
     "output_type": "stream",
     "text": [
      "[1, 2, 3, 2, 4, 5, 1, 0, 0, 0]\n"
     ]
    }
   ],
   "source": [
    "def moveZeros(arr):\n",
    "    insert_pos = 0\n",
    "    for i in range(len(arr)):\n",
    "        if arr[i] != 0:\n",
    "            arr[insert_pos] = arr[i]\n",
    "            insert_pos += 1\n",
    "    while insert_pos < len(arr):\n",
    "        arr[insert_pos] = 0\n",
    "        insert_pos += 1\n",
    "    return arr\n",
    "\n",
    "# Test\n",
    "arr = [1, 0, 2, 3, 2, 0, 0, 4, 5, 1]\n",
    "print(moveZeros(arr))\n"
   ]
  },
  {
   "cell_type": "markdown",
   "id": "fddad27c",
   "metadata": {},
   "source": [
    "# 3) Rotate array by K elements (left or right)"
   ]
  },
  {
   "cell_type": "code",
   "execution_count": 22,
   "id": "57975137",
   "metadata": {},
   "outputs": [
    {
     "name": "stdout",
     "output_type": "stream",
     "text": [
      "[3, 4, 5, 6, 7, 1, 2]\n",
      "[6, 7, 1, 2, 3, 4, 5]\n"
     ]
    }
   ],
   "source": [
    "def rotateArrayByK_elements(arr, k, order):\n",
    "    n = len(arr)\n",
    "    k = k % n   # handle cases where k > n\n",
    "\n",
    "    if order == \"left\":\n",
    "        temp = arr[:k]              # first k elements\n",
    "        for i in range(n - k):      # shift the rest forward\n",
    "            arr[i] = arr[i + k]\n",
    "        arr[n - k:] = temp          # put temp at the end\n",
    "        return arr\n",
    "    \n",
    "    else:  # right\n",
    "        temp = arr[n - k:]          # last k elements\n",
    "        for i in range(n - 1, k - 1, -1):  # shift elements backward\n",
    "            arr[i] = arr[i - k]\n",
    "        arr[:k] = temp              # put temp at the start\n",
    "        return arr\n",
    "\n",
    "# Test\n",
    "print(rotateArrayByK_elements([1,2,3,4,5,6,7], 2, \"left\"))   # [3, 4, 5, 6, 7, 1, 2]\n",
    "print(rotateArrayByK_elements([1,2,3,4,5,6,7], 2, \"right\"))  # [6, 7, 1, 2, 3, 4, 5]\n"
   ]
  },
  {
   "cell_type": "code",
   "execution_count": 23,
   "id": "8cd66062",
   "metadata": {},
   "outputs": [
    {
     "name": "stdout",
     "output_type": "stream",
     "text": [
      "[3, 4, 5, 6, 7, 1, 2]\n",
      "[6, 7, 1, 2, 3, 4, 5]\n"
     ]
    }
   ],
   "source": [
    "def rotateArrayByK_elements(arr, k, order):\n",
    "    n = len(arr)\n",
    "    k = k % n  # handle cases where k > n\n",
    "    \n",
    "    if order == \"left\":\n",
    "        return arr[k:] + arr[:k]\n",
    "    else:  # right rotation\n",
    "        return arr[-k:] + arr[:-k]\n",
    "\n",
    "# Test\n",
    "print(rotateArrayByK_elements([1,2,3,4,5,6,7], 2, \"left\"))   # [3, 4, 5, 6, 7, 1, 2]\n",
    "print(rotateArrayByK_elements([1,2,3,4,5,6,7], 2, \"right\"))  # [6, 7, 1, 2, 3, 4, 5]\n"
   ]
  },
  {
   "cell_type": "markdown",
   "id": "441ac02b",
   "metadata": {},
   "source": [
    "# 4) Remove Duplicates in-place from Sorted Array"
   ]
  },
  {
   "cell_type": "markdown",
   "id": "1ac862f8",
   "metadata": {},
   "source": [
    "###  using in built function"
   ]
  },
  {
   "cell_type": "code",
   "execution_count": 40,
   "id": "23376bef",
   "metadata": {},
   "outputs": [
    {
     "name": "stdout",
     "output_type": "stream",
     "text": [
      "[1, 2, 3, 4, 5, 6]\n"
     ]
    }
   ],
   "source": [
    "def remove_elements(arr):\n",
    "    i = 0\n",
    "    while i < len(arr) - 1:\n",
    "        if arr[i] == arr[i + 1]:\n",
    "            arr.pop(i)\n",
    "        else:\n",
    "            i += 1\n",
    "    return arr\n",
    "\n",
    "print(remove_elements([1,2,2,3,4,4,5,6,6,6]))\n"
   ]
  },
  {
   "cell_type": "markdown",
   "id": "b6571f13",
   "metadata": {},
   "source": [
    "### using set"
   ]
  },
  {
   "cell_type": "code",
   "execution_count": 39,
   "id": "f7a7e319",
   "metadata": {},
   "outputs": [
    {
     "name": "stdout",
     "output_type": "stream",
     "text": [
      "1 2 3 4 5 6 "
     ]
    }
   ],
   "source": [
    "def remove_elements(arr):\n",
    "    st = set()\n",
    "    for i in range(len(arr)):\n",
    "        st.add(arr[i])\n",
    "    k = len(st)\n",
    "    j = 0\n",
    "    for x in st:\n",
    "        arr[j] = x\n",
    "        j += 1\n",
    "    return k\n",
    "arr =[1,2,2,3,4,4,5,6,6,6]\n",
    "k = (remove_elements(arr))\n",
    "for i in range(k):\n",
    "        print(arr[i], end=\" \")\n"
   ]
  },
  {
   "cell_type": "markdown",
   "id": "9e90d091",
   "metadata": {},
   "source": [
    "### using 2 pointer approach"
   ]
  },
  {
   "cell_type": "code",
   "execution_count": 43,
   "id": "a1e6f9a8",
   "metadata": {},
   "outputs": [
    {
     "name": "stdout",
     "output_type": "stream",
     "text": [
      "[1, 2, 3, 4, 5, 6]\n"
     ]
    }
   ],
   "source": [
    "def two_remove_duplicates(arr):\n",
    "    if not arr:\n",
    "        return []\n",
    "    \n",
    "    slow = 0\n",
    "    for fast in range(1,len(arr)):\n",
    "        if arr[fast] != arr[slow]:\n",
    "            slow += 1\n",
    "            arr[slow] = arr[fast]\n",
    "    \n",
    "    return arr[:slow+1]\n",
    "\n",
    "print(two_remove_duplicates([1,2,2,3,4,4,5,6,6,6]))"
   ]
  },
  {
   "cell_type": "markdown",
   "id": "9f9dea78",
   "metadata": {},
   "source": [
    "# 5) Find the missing number in an array"
   ]
  },
  {
   "cell_type": "code",
   "execution_count": 50,
   "id": "2572bb7b",
   "metadata": {},
   "outputs": [
    {
     "data": {
      "text/plain": [
       "'None'"
      ]
     },
     "execution_count": 50,
     "metadata": {},
     "output_type": "execute_result"
    }
   ],
   "source": [
    "def find_missingNumber(arr):\n",
    "    first = 0\n",
    "    \n",
    "    for second in range(1,len(arr)):\n",
    "        if arr[first] + 1 != arr[second]:\n",
    "            return arr[first]+1\n",
    "        \n",
    "        first+=1\n",
    "        \n",
    "    return \"None\"\n",
    "\n",
    "find_missingNumber([1,2,3,4,5])"
   ]
  },
  {
   "cell_type": "markdown",
   "id": "ee2be481",
   "metadata": {},
   "source": [
    "# 6) Find the number that appears once, and the other numbers twice"
   ]
  },
  {
   "cell_type": "code",
   "execution_count": 54,
   "id": "56dbd3c9",
   "metadata": {},
   "outputs": [
    {
     "data": {
      "text/plain": [
       "4"
      ]
     },
     "execution_count": 54,
     "metadata": {},
     "output_type": "execute_result"
    }
   ],
   "source": [
    "def find_num(arr):\n",
    "    d = {}\n",
    "    for i in range(len(arr)):\n",
    "        if arr[i] not in d:\n",
    "            d[arr[i]] = 1\n",
    "        else:\n",
    "            d[arr[i]] += 1\n",
    "            \n",
    "    for key,val in d.items():\n",
    "        if d[key] ==1:\n",
    "            return key\n",
    "        \n",
    "find_num([4,1,2,1,2])   ## and also there another approach using XOR"
   ]
  },
  {
   "cell_type": "markdown",
   "id": "a276cf66",
   "metadata": {},
   "source": [
    "# 7) Union of Two Sorted Arrays"
   ]
  },
  {
   "cell_type": "code",
   "execution_count": 56,
   "id": "d9f2b208",
   "metadata": {},
   "outputs": [
    {
     "data": {
      "text/plain": [
       "[1, 2, 3, 4, 5, 6, 7, 8, 9, 10, 11, 12]"
      ]
     },
     "execution_count": 56,
     "metadata": {},
     "output_type": "execute_result"
    }
   ],
   "source": [
    "def union_arrays(arr1,arr2):\n",
    "    s = set()\n",
    "    union = []\n",
    "    \n",
    "    for num in arr1:\n",
    "        s.add(num)\n",
    "        \n",
    "    for num in arr2:\n",
    "        s.add(num)\n",
    "        \n",
    "    for num in s:\n",
    "        union.append(num)\n",
    "        \n",
    "    return union\n",
    "\n",
    "arr1 = [1, 2, 3, 4, 5, 6, 7, 8, 9, 10]\n",
    "arr2 = [2, 3, 4, 4, 5, 11, 12]\n",
    "\n",
    "union = union_arrays(arr1, arr2)\n",
    "union"
   ]
  },
  {
   "cell_type": "markdown",
   "id": "dbe6b423",
   "metadata": {},
   "source": [
    "# 8) Two Sum : Check if a pair with given sum exists in Array"
   ]
  },
  {
   "cell_type": "code",
   "execution_count": 64,
   "id": "3eb89f59",
   "metadata": {},
   "outputs": [
    {
     "data": {
      "text/plain": [
       "'Yes'"
      ]
     },
     "execution_count": 64,
     "metadata": {},
     "output_type": "execute_result"
    }
   ],
   "source": [
    "def two_sum(arr,target):\n",
    "    arr.sort()\n",
    "    first = 0\n",
    "    last = len(arr)-1\n",
    "    \n",
    "    while first < last:\n",
    "        s = arr[first]+arr[last]\n",
    "        if s == target:\n",
    "            return \"Yes\"\n",
    "        elif s<target:\n",
    "            first += 1\n",
    "        else:\n",
    "            last -= 1\n",
    "                \n",
    "    return \"No\"\n",
    "\n",
    "res = two_sum([2,6,5,8,11],14)\n",
    "two_sum([2,6,5,8,11],8)"
   ]
  },
  {
   "cell_type": "code",
   "execution_count": 73,
   "id": "cb150c6a",
   "metadata": {},
   "outputs": [
    {
     "name": "stdout",
     "output_type": "stream",
     "text": [
      "[1, 3]\n"
     ]
    }
   ],
   "source": [
    "class Solution:\n",
    "    def twoSum(self,nums,target):\n",
    "        prevMap = {} \n",
    "        for i, n in enumerate(nums):\n",
    "            diff = target - n\n",
    "            if diff in prevMap:\n",
    "                return [prevMap[diff], i]\n",
    "            prevMap[n] = i\n",
    "            \n",
    "obj = Solution()\n",
    "print(obj.twoSum([2,6,5,8,11], 14))  # [1, 3]\n"
   ]
  },
  {
   "cell_type": "code",
   "execution_count": null,
   "id": "226ebbc3",
   "metadata": {},
   "outputs": [],
   "source": []
  }
 ],
 "metadata": {
  "kernelspec": {
   "display_name": "Python 3 (ipykernel)",
   "language": "python",
   "name": "python3"
  },
  "language_info": {
   "codemirror_mode": {
    "name": "ipython",
    "version": 3
   },
   "file_extension": ".py",
   "mimetype": "text/x-python",
   "name": "python",
   "nbconvert_exporter": "python",
   "pygments_lexer": "ipython3",
   "version": "3.11.5"
  }
 },
 "nbformat": 4,
 "nbformat_minor": 5
}
