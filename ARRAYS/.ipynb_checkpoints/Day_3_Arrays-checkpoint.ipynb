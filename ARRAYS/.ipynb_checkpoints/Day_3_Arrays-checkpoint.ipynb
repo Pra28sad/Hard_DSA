{
 "cells": [
  {
   "cell_type": "markdown",
   "id": "81f732fc",
   "metadata": {},
   "source": [
    "# 1) Search in a 2 D matrix"
   ]
  },
  {
   "cell_type": "markdown",
   "id": "89c0b19a",
   "metadata": {},
   "source": [
    "### brute force approach"
   ]
  },
  {
   "cell_type": "code",
   "execution_count": 3,
   "id": "cd705530",
   "metadata": {},
   "outputs": [
    {
     "data": {
      "text/plain": [
       "(1, 3)"
      ]
     },
     "execution_count": 3,
     "metadata": {},
     "output_type": "execute_result"
    }
   ],
   "source": [
    "def find_2D(mat,target):\n",
    "    for row in range(len(mat)):\n",
    "        for col in range(len(mat[row])):\n",
    "            if mat[row][col] == target:\n",
    "                return (row,col)\n",
    "    return -1\n",
    "\n",
    "find_2D([[1,2,3,4],[5,6,7,8],[9,10,11,12]],8)"
   ]
  },
  {
   "cell_type": "markdown",
   "id": "727066ed",
   "metadata": {},
   "source": [
    "### better approach ( binary search) "
   ]
  },
  {
   "cell_type": "code",
   "execution_count": 4,
   "id": "53432f7d",
   "metadata": {},
   "outputs": [
    {
     "name": "stdout",
     "output_type": "stream",
     "text": [
      "true\n"
     ]
    }
   ],
   "source": [
    "def binarySearch(nums,target):\n",
    "    n = len(nums)\n",
    "    low, high = 0,n-1\n",
    "    \n",
    "    while low<=high:\n",
    "        mid = (low+high)//2\n",
    "        \n",
    "        if nums[mid] == target:\n",
    "            return True\n",
    "        \n",
    "        elif target > nums[mid]:\n",
    "            low = mid + 1\n",
    "            \n",
    "        else:\n",
    "            high = mid - 1\n",
    "            \n",
    "            \n",
    "def searchMatrix(matrix, target):\n",
    "    n = len(matrix)\n",
    "    m = len(matrix[0])\n",
    "    \n",
    "    for i in range(n):\n",
    "        if matrix[i][0]<=target<=matrix[i][m-1]:\n",
    "            return binarySearch(matrix[i],target)\n",
    "        \n",
    "    return False\n",
    "\n",
    "matrix = [[1, 2, 3, 4], [5, 6, 7, 8], [9, 10, 11, 12]]\n",
    "result = searchMatrix(matrix, 8)\n",
    "print(\"true\" if result else \"false\")"
   ]
  },
  {
   "cell_type": "markdown",
   "id": "a450da27",
   "metadata": {},
   "source": [
    "### optimal way (flattening the array)"
   ]
  },
  {
   "cell_type": "code",
   "execution_count": 4,
   "id": "93fcf16e",
   "metadata": {},
   "outputs": [
    {
     "name": "stdout",
     "output_type": "stream",
     "text": [
      "false\n"
     ]
    }
   ],
   "source": [
    "def SearchMatrix(matrix,target):\n",
    "    n = len(matrix)\n",
    "    m = len(matrix[0])\n",
    "    \n",
    "    low = 0\n",
    "    high = n*m - 1\n",
    "    \n",
    "    while low <= high:\n",
    "        mid = (low+high)//2\n",
    "        row = mid//m  ## for row  \n",
    "        col = mid%m   ## for col  \n",
    "        if matrix[row][col] == target:\n",
    "            return True\n",
    "        elif matrix[row][col] < target:\n",
    "            low = mid + 1\n",
    "            \n",
    "        else:\n",
    "            high = mid - 1\n",
    "            \n",
    "    return False\n",
    "\n",
    "matrix = [[1, 2, 3, 4], [5, 6, 7, 8], [9, 10, 11, 12]]\n",
    "result = SearchMatrix(matrix, 0)\n",
    "print(\"true\" if result else \"false\")"
   ]
  },
  {
   "cell_type": "markdown",
   "id": "7c14ffa9",
   "metadata": {},
   "source": [
    "# 2) Leaders in an Array  "
   ]
  },
  {
   "cell_type": "markdown",
   "id": "653470ee",
   "metadata": {},
   "source": [
    "## (greater than all of the elements on its right side in the array)"
   ]
  },
  {
   "cell_type": "markdown",
   "id": "6561a476",
   "metadata": {},
   "source": [
    "Example 1:\n",
    "Input:\n",
    " arr = [4, 7, 1, 0]\n",
    "Output:\n",
    " 7 1 0\n",
    "Explanation:\n",
    " Rightmost element is always a leader. 7 and 1 are greater than the elements in their right side.\n",
    "\n",
    "Example 2:\n",
    "Input:\n",
    " arr = [10, 22, 12, 3, 0, 6]\n",
    "Output:\n",
    " 22 12 6\n",
    "Explanation:\n",
    " 6 is a leader. In addition to that, 12 is greater than all the elements in its right side (3, 0, 6), also 22 is greater than 12, 3, 0, 6."
   ]
  },
  {
   "cell_type": "code",
   "execution_count": 18,
   "id": "07674856",
   "metadata": {},
   "outputs": [
    {
     "name": "stdout",
     "output_type": "stream",
     "text": [
      "22 12 6 \n",
      "7 1 0 "
     ]
    }
   ],
   "source": [
    "def Leaders(arr):\n",
    "    \n",
    "    for i in range(len(arr)):\n",
    "        flag = 1\n",
    "        for j in range(i,len(arr)):\n",
    "            if arr[i]<arr[j]:\n",
    "                flag = 0\n",
    "                break\n",
    "                \n",
    "        if flag==1:\n",
    "            print(arr[i],end=\" \")\n",
    "            \n",
    "       \n",
    "                \n",
    "Leaders([22, 12, 3, 0, 6])\n",
    "print()\n",
    "Leaders([4,7,1,0])"
   ]
  },
  {
   "cell_type": "markdown",
   "id": "2ca9f7f5",
   "metadata": {},
   "source": [
    "### optimal way"
   ]
  },
  {
   "attachments": {
    "image.png": {
     "image/png": "[encoded data removed]"
    }
   },
   "cell_type": "markdown",
   "id": "99afa12a",
   "metadata": {},
   "source": [
    "![image.png](attachment:image.png)"
   ]
  },
  {
   "cell_type": "code",
   "execution_count": 11,
   "id": "1df6cd06",
   "metadata": {},
   "outputs": [
    {
     "name": "stdout",
     "output_type": "stream",
     "text": [
      "22 12 6 \n"
     ]
    }
   ],
   "source": [
    "def printLeaders(arr,n):\n",
    "    ans= []\n",
    "    max_elem = arr[n-1]\n",
    "    ans.append(arr[n-1])\n",
    "    \n",
    "    for i in range(n-2, -1,-1):\n",
    "        if arr[i]>max_elem:\n",
    "            \n",
    "            ans.append(arr[i])\n",
    "\n",
    "            max_elem=arr[i]\n",
    "            \n",
    "    return ans\n",
    "\n",
    "if __name__ == '__main__':\n",
    "    # Array Initialization\n",
    "    n = 6\n",
    "    arr = [10, 22, 12, 3, 0, 6]\n",
    "\n",
    "    ans = printLeaders(arr, n)\n",
    "\n",
    "    for i in range(len(ans)-1, -1, -1):\n",
    "        print(ans[i], end=\" \")\n",
    "\n",
    "    print()\n"
   ]
  },
  {
   "cell_type": "markdown",
   "id": "5402995e",
   "metadata": {},
   "source": [
    "# 3) Spiral Traversal of Matrix"
   ]
  },
  {
   "cell_type": "markdown",
   "id": "5f071fde",
   "metadata": {},
   "source": [
    "Problem Statement: Given a Matrix, print the given matrix in spiral order.\n",
    "\n",
    "Examples:\n",
    "\n",
    "Example 1:\n",
    "Input: Matrix[][] = { { 1, 2, 3, 4 },\n",
    "\t\t      { 5, 6, 7, 8 },\n",
    "\t\t      { 9, 10, 11, 12 },\n",
    "\t              { 13, 14, 15, 16 } }\n",
    "\n",
    "Outhput: 1, 2, 3, 4, 8, 12, 16, 15, 14, 13, 9, 5, 6, 7, 11, 10.\n",
    "Explanation: The output of matrix in spiral form.\n",
    "\n",
    "Example 2:\n",
    "Input: Matrix[][] = { { 1, 2, 3 },\n",
    "\t              { 4, 5, 6 },\n",
    "\t\t      { 7, 8, 9 } }\n",
    "\t\t\t    \n",
    "Output: 1, 2, 3, 6, 9, 8, 7, 4, 5.\n",
    "Explanation: The output of matrix in spiral form.\n"
   ]
  },
  {
   "attachments": {
    "image.png": {
     "image/png": "[encoded data removed]"
    }
   },
   "cell_type": "markdown",
   "id": "b543fb1e",
   "metadata": {},
   "source": [
    "![image.png](attachment:image.png)"
   ]
  },
  {
   "attachments": {
    "image.png": {
     "image/png": "[encoded data removed]"
    }
   },
   "cell_type": "markdown",
   "id": "7937c9c1",
   "metadata": {},
   "source": [
    "![image.png](attachment:image.png)"
   ]
  },
  {
   "cell_type": "code",
   "execution_count": 12,
   "id": "4b8e5ada",
   "metadata": {},
   "outputs": [
    {
     "name": "stdout",
     "output_type": "stream",
     "text": [
      "[1, 2, 3, 4, 8, 12, 16, 15, 14, 13, 9, 5, 6, 7, 11, 10]\n"
     ]
    }
   ],
   "source": [
    "def printSpiral(mat):\n",
    "    ans = [] # Define ans array to store the result.\n",
    "    \n",
    "    n=len(mat) # no of rows\n",
    "    m=len(mat[0]) # no of cols\n",
    "    \n",
    "    # initiallize the pointers reqd for traversal\n",
    "    top = 0\n",
    "    left = 0\n",
    "    bottom = n-1\n",
    "    right = m-1\n",
    "    \n",
    "    # loop until all elements are not traversed.\n",
    "    while (top<=bottom and left<=right):\n",
    "        \n",
    "        #for moving left to right\n",
    "        for i in range(left,right+1):\n",
    "            ans.append(mat[top][i])\n",
    "        top+=1\n",
    "        \n",
    "        #for moving top to bottom\n",
    "        for i in range(top,bottom+1):\n",
    "            ans.append(mat[i][right])\n",
    "        right -= 1\n",
    "        \n",
    "        #for moving right to left\n",
    "        if (top<=bottom):\n",
    "            for i in range(right,left-1,-1):\n",
    "                ans.append(mat[bottom][i])\n",
    "            bottom -= 1\n",
    "            \n",
    "        #for moving bottom to top\n",
    "        if left<=right:\n",
    "            for i in range(bottom,top-1,-1):\n",
    "                ans.append(mat[i][left])\n",
    "            left+=1\n",
    "            \n",
    "    return ans\n",
    "\n",
    "    \n",
    "#Matrix initialization.\n",
    "mat = [[1, 2, 3, 4],\n",
    "       [5, 6, 7, 8],\n",
    "       [9, 10, 11, 12],\n",
    "       [13, 14, 15, 16]]\n",
    "                     \n",
    "ans = printSpiral(mat)\n",
    "\n",
    "print(ans)"
   ]
  },
  {
   "cell_type": "markdown",
   "id": "456e7851",
   "metadata": {},
   "source": [
    "# 4) Rotate Image by 90 degree"
   ]
  },
  {
   "cell_type": "markdown",
   "id": "8f70287e",
   "metadata": {},
   "source": [
    "Problem Statement: Given a matrix, your task is to rotate the matrix 90 degrees clockwise.\n",
    "\n",
    "Note: Rotate matrix 90 degrees anticlockwise\n",
    "\n",
    "Examples\n",
    "Example 1:\n",
    "\n",
    "Input: [[1,2,3],[4,5,6],[7,8,9]]\n",
    "\n",
    "Output: [[7,4,1],[8,5,2],[9,6,3]]\n",
    "\n",
    "Explanation: Rotate the matrix simply by 90 degree clockwise and return the matrix.\n",
    "\n",
    "Example 2:\n",
    "\n",
    "Input: [[5,1,9,11],[2,4,8,10],[13,3,6,7],[15,14,12,16]]\n",
    "\n",
    "Output:[[15,13,2,5],[14,3,4,1],[12,6,8,9],[16,7,10,11]]\n",
    "\n",
    "Explanation: Rotate the matrix simply by 90 degree clockwise and return the matrix"
   ]
  },
  {
   "cell_type": "markdown",
   "id": "3cd3e119",
   "metadata": {},
   "source": [
    "### brute force approach"
   ]
  },
  {
   "cell_type": "code",
   "execution_count": 14,
   "id": "4779a96c",
   "metadata": {},
   "outputs": [
    {
     "name": "stdout",
     "output_type": "stream",
     "text": [
      "rotated image\n",
      "7 4 1 \n",
      "8 5 2 \n",
      "9 6 3 \n"
     ]
    }
   ],
   "source": [
    "def rotateImage(matrix):\n",
    "    n = len(matrix)\n",
    "    rotated = [[0 for _ in range(n)] for _ in range(n)]\n",
    "    for i in range(n):\n",
    "        for j in range(n):\n",
    "            rotated[j][n-i-1] = matrix[i][j]\n",
    "    return rotated\n",
    "\n",
    "if __name__==\"__main__\":\n",
    "    arr = [[1,2,3],[4,5,6],[7,8,9]]\n",
    "    rotated = rotateImage(arr)\n",
    "    print(\"rotated image\")\n",
    "    for i in range(len(rotated)):\n",
    "        for j in range(len(rotated[0])):\n",
    "            print(rotated[i][j],end=\" \")\n",
    "        print()"
   ]
  },
  {
   "cell_type": "markdown",
   "id": "2e8e611c",
   "metadata": {},
   "source": [
    "### optimal approach"
   ]
  },
  {
   "cell_type": "code",
   "execution_count": 16,
   "id": "0879cec4",
   "metadata": {},
   "outputs": [
    {
     "name": "stdout",
     "output_type": "stream",
     "text": [
      "[[1, 4, 7], [2, 5, 8], [3, 6, 9]]\n",
      "rotated image\n",
      "7 4 1 \n",
      "8 5 2 \n",
      "9 6 3 \n"
     ]
    }
   ],
   "source": [
    "def rotate(matrix):\n",
    "    n = len(matrix)\n",
    "    for i in range(n):\n",
    "        for j in range(i):\n",
    "            matrix[i][j], matrix[j][i] = matrix[j][i],matrix[i][j]\n",
    "    print(matrix)\n",
    "    for i in range(n):\n",
    "        matrix[i].reverse()\n",
    "    return matrix\n",
    "        \n",
    "if __name__==\"__main__\":\n",
    "    arr = [[1,2,3],[4,5,6],[7,8,9]]\n",
    "    rotated = rotate(arr)\n",
    "    print(\"rotated image\")\n",
    "    for i in range(len(rotated)):\n",
    "        for j in range(len(rotated[0])):\n",
    "            print(rotated[i][j],end=\" \")\n",
    "        print()"
   ]
  },
  {
   "cell_type": "markdown",
   "id": "d91779d7",
   "metadata": {},
   "source": [
    "# 5) Stock Buy And Sell"
   ]
  },
  {
   "cell_type": "markdown",
   "id": "6356b1e7",
   "metadata": {},
   "source": [
    "Problem Statement: You are given an array of prices where prices[i] is the price of a given stock on an ith day.\n",
    "\n",
    "You want to maximize your profit by choosing a single day to buy one stock and choosing a different day in the future to sell that stock. Return the maximum profit you can achieve from this transaction. If you cannot achieve any profit, return 0.\n",
    "\n",
    "Examples\n",
    "Example 1:\n",
    "\n",
    "Input: prices = [7,1,5,3,6,4]\n",
    "Output: 5\n",
    "Explanation: Buy on day 2 (price = 1) and \n",
    "sell on day 5 (price = 6), profit = 6-1 = 5.\n",
    "\n",
    "Note: That buying on day 2 and selling on day 1 \n",
    "is not allowed because you must buy before \n",
    "you sell.\n",
    "\n",
    "Example 2:\n",
    "\n",
    "Input: prices = [7,6,4,3,1]\n",
    "Output: 0\n",
    "Explanation: In this case, no transactions are \n",
    "done and the max profit = 0."
   ]
  },
  {
   "cell_type": "markdown",
   "id": "12469990",
   "metadata": {},
   "source": [
    "### brute force approach"
   ]
  },
  {
   "cell_type": "code",
   "execution_count": 2,
   "id": "fcc0297d",
   "metadata": {},
   "outputs": [
    {
     "data": {
      "text/plain": [
       "0"
      ]
     },
     "execution_count": 2,
     "metadata": {},
     "output_type": "execute_result"
    }
   ],
   "source": [
    "def Stock_buy(arr):\n",
    "    maxi = 0\n",
    "    for i in range(len(arr)):\n",
    "        for j in range(i,len(arr)):\n",
    "            if maxi < arr[j] - arr[i]:\n",
    "                maxi = arr[j] - arr[i]\n",
    "    return maxi\n",
    "\n",
    "Stock_buy([7,6,4,3,1])\n",
    "\n",
    "\n",
    "\n"
   ]
  },
  {
   "cell_type": "markdown",
   "id": "f245324b",
   "metadata": {},
   "source": [
    "### optimal approach"
   ]
  },
  {
   "cell_type": "code",
   "execution_count": 3,
   "id": "d82e0621",
   "metadata": {},
   "outputs": [
    {
     "data": {
      "text/plain": [
       "5"
      ]
     },
     "execution_count": 3,
     "metadata": {},
     "output_type": "execute_result"
    }
   ],
   "source": [
    "def maxProfit(arr):\n",
    "    maxPro = 0\n",
    "    minPrice = float('inf')\n",
    "    n=len(arr)\n",
    "    \n",
    "    for i in range(n):\n",
    "        minPrice = min(minPrice,arr[i])\n",
    "        maxPro = max(maxPro,arr[i]-minPrice)\n",
    "            \n",
    "    return maxPro\n",
    "\n",
    "\n",
    "maxProfit([7,1,5,3,6,4])"
   ]
  },
  {
   "cell_type": "markdown",
   "id": "4d940de1",
   "metadata": {},
   "source": [
    "# 6) Rearrange elements by Sign"
   ]
  },
  {
   "cell_type": "markdown",
   "id": "af887c5b",
   "metadata": {},
   "source": [
    "Variety-1\n",
    "\n",
    "Problem Statement:\n",
    "\n",
    "There’s an array ‘A’ of size ‘N’ with an equal number of positive and negative elements. Without altering the relative order of positive and negative elements, you must return an array of alternately positive and negative values.\n",
    "\n",
    "Note: Start the array with positive elements.\n",
    "\n",
    "Examples: \n",
    "\n",
    "Example 1:\n",
    "\n",
    "Input:\n",
    "arr[] = {1,2,-4,-5}, N = 4\n",
    "Output:\n",
    "1 -4 2 -5\n",
    "\n",
    "Explanation: \n",
    "\n",
    "Positive elements = 1,2\n",
    "Negative elements = -4,-5\n",
    "To maintain relative ordering, 1 must occur before 2, and -4 must occur before -5.\n",
    "\n",
    "Example 2:\n",
    "Input:\n",
    "arr[] = {1,2,-3,-1,-2,-3}, N = 6\n",
    "Output:\n",
    "1 -3 2 -1 3 -2\n",
    "Explanation: \n",
    "\n",
    "Positive elements = 1,2,3\n",
    "Negative elements = -3,-1,-2\n",
    "To maintain relative ordering, 1 must occur before 2, and 2 must occur before 3.\n",
    "Also, -3 should come before -1, and -1 should come before -2."
   ]
  },
  {
   "cell_type": "markdown",
   "id": "5a282c2c",
   "metadata": {},
   "source": [
    "### brute force method"
   ]
  },
  {
   "cell_type": "code",
   "execution_count": 3,
   "id": "2ed8550d",
   "metadata": {},
   "outputs": [
    {
     "data": {
      "text/plain": [
       "[1, -3, 2, -1, -2, -3]"
      ]
     },
     "execution_count": 3,
     "metadata": {},
     "output_type": "execute_result"
    }
   ],
   "source": [
    "def rearrange(arr):\n",
    "    pos = []\n",
    "    neg = []\n",
    "    \n",
    "    # Separate positives and negatives\n",
    "    for num in arr:\n",
    "        if num >= 0:\n",
    "            pos.append(num)\n",
    "        else:\n",
    "            neg.append(num)\n",
    "    \n",
    "    # Merge alternately\n",
    "    i, j, k = 0, 0, 0\n",
    "    while i < len(pos) and j < len(neg):\n",
    "        arr[k] = pos[i]   # place positive first\n",
    "        k += 1\n",
    "        arr[k] = neg[j]   # then negative\n",
    "        k += 1\n",
    "        i += 1\n",
    "        j += 1\n",
    "        \n",
    "    return arr\n",
    "rearrange([1,2,-3,-1,-2,-3])"
   ]
  },
  {
   "cell_type": "markdown",
   "id": "6f74f551",
   "metadata": {},
   "source": [
    "# 7) Find the duplicate in an array of N+1 integers"
   ]
  },
  {
   "cell_type": "markdown",
   "id": "6b5d40bf",
   "metadata": {},
   "source": [
    "Problem Statement: Given an array of N + 1 size, where each element is between 1 and N. Assuming there is only one duplicate number, your task is to find the duplicate number.\n",
    "\n",
    "Examples:\n",
    "\n",
    "Example 1: \n",
    "\n",
    "Input: arr=[1,3,4,2,2]\n",
    "\n",
    "Output: 2\n",
    "\n",
    "Explanation: Since 2 is the duplicate number the answer will be 2.\n",
    "\n",
    "Example 2:\n",
    "\n",
    "Input: [3,1,3,4,2]\n",
    "\n",
    "Output:3\n",
    "\n",
    "Explanation: Since 3 is the duplicate number the answer will be 3."
   ]
  },
  {
   "cell_type": "code",
   "execution_count": 4,
   "id": "44576ff3",
   "metadata": {},
   "outputs": [
    {
     "data": {
      "text/plain": [
       "3"
      ]
     },
     "execution_count": 4,
     "metadata": {},
     "output_type": "execute_result"
    }
   ],
   "source": [
    "def duplicates(arr):\n",
    "    dct = {}\n",
    "    \n",
    "    for i in arr:\n",
    "        if i not in dct:\n",
    "            dct[i] = 1\n",
    "        else:\n",
    "            dct[i]+=1\n",
    "    for k,v in dct.items():\n",
    "        if v >1:\n",
    "            return k\n",
    "duplicates([3,1,3,4,2])"
   ]
  },
  {
   "cell_type": "code",
   "execution_count": null,
   "id": "95e5b79a",
   "metadata": {},
   "outputs": [],
   "source": []
  }
 ],
 "metadata": {
  "kernelspec": {
   "display_name": "Python 3 (ipykernel)",
   "language": "python",
   "name": "python3"
  },
  "language_info": {
   "codemirror_mode": {
    "name": "ipython",
    "version": 3
   },
   "file_extension": ".py",
   "mimetype": "text/x-python",
   "name": "python",
   "nbconvert_exporter": "python",
   "pygments_lexer": "ipython3",
   "version": "3.11.5"
  }
 },
 "nbformat": 4,
 "nbformat_minor": 5
}
