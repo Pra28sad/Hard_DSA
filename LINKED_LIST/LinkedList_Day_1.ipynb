{
 "cells": [
  {
   "cell_type": "markdown",
   "id": "37cb23c6",
   "metadata": {},
   "source": [
    "# What is a Linked List?\n"
   ]
  },
  {
   "cell_type": "markdown",
   "id": "90019f59",
   "metadata": {},
   "source": [
    "It is a linear data structure that can be visualized as a chain with different nodes connected, where each node represents a different element. The difference between arrays and linked lists is that, unlike arrays, the elements are not stored at a contiguous location.\n",
    "\n",
    "Since for any element to be added in an array, we need the exact next memory location to be empty, and it is impossible to guarantee that it is possible. Hence adding elements to an array is not possible after the initial assignment of size.|"
   ]
  },
  {
   "cell_type": "code",
   "execution_count": 1,
   "id": "ead1a2c2",
   "metadata": {},
   "outputs": [],
   "source": [
    "## creating linkedlist"
   ]
  },
  {
   "cell_type": "code",
   "execution_count": 2,
   "id": "8f30bbfb",
   "metadata": {},
   "outputs": [],
   "source": [
    "class Node:\n",
    "    def __init__(self,data,Next=None):\n",
    "        self.data= data\n",
    "        self.next= Next\n",
    "        \n",
    "    def setNext(self,Next):\n",
    "        self.next = Next\n",
    "    \n",
    "    def getNext(self):\n",
    "        return self.next\n",
    "    \n",
    "    def getData(self):\n",
    "        return self.data\n",
    "    \n",
    "    def setData(self):\n",
    "        self.data = data\n",
    "        \n",
    "head = Node(1)\n",
    "node2 = Node(5)\n",
    "node3 = Node(7)\n",
    "node4 = Node(8)\n",
    "\n",
    "head.setNext(node2)\n",
    "node2.setNext(node3)\n",
    "node3.setNext(node4)\n",
    "\n",
    "\n",
    "\n",
    "\n"
   ]
  },
  {
   "cell_type": "markdown",
   "id": "24f8615b",
   "metadata": {},
   "source": [
    "# types of linked lists\n",
    "\n"
   ]
  },
  {
   "cell_type": "markdown",
   "id": "72b898cd",
   "metadata": {},
   "source": [
    "--> Single Linked Lists : \n",
    "                        \n",
    "                        In a singly linked list, each node points to the next node in the sequence. Traversal is straightforward but limited to moving in one direction, from the head to the tail.\n",
    "                        \n",
    "--> Doubly Linked Lists: \n",
    "                        \n",
    "                        In this each node points to both the next node and the previous node, thus allowing it for bidirectional connectivity.\n",
    "                        \n",
    "--> Circular Linked Lists:\n",
    "\n",
    "                          In a circular linked list, the last node points back to the head node, forming a closed loop.\n",
    "                           "
   ]
  },
  {
   "cell_type": "markdown",
   "id": "ac518d64",
   "metadata": {},
   "source": [
    "# 2) Find the length of the linkedlist [learn traversal]"
   ]
  },
  {
   "cell_type": "code",
   "execution_count": 4,
   "id": "8c5e4c7e",
   "metadata": {},
   "outputs": [
    {
     "name": "stdout",
     "output_type": "stream",
     "text": [
      "1 ->5 ->7 ->"
     ]
    },
    {
     "data": {
      "text/plain": [
       "3"
      ]
     },
     "execution_count": 4,
     "metadata": {},
     "output_type": "execute_result"
    }
   ],
   "source": [
    "def traverse(head):\n",
    "    temp = head\n",
    "    length = 0\n",
    "    while temp.getNext() != None:\n",
    "        print(temp.getData(),end=\" ->\")\n",
    "        length += 1\n",
    "        temp = temp.getNext()\n",
    "    return length\n",
    "        \n",
    "traverse(head)"
   ]
  },
  {
   "cell_type": "markdown",
   "id": "4f1e042f",
   "metadata": {},
   "source": [
    "# 3) Search an element in a linked list"
   ]
  },
  {
   "cell_type": "code",
   "execution_count": 6,
   "id": "ae743881",
   "metadata": {},
   "outputs": [
    {
     "data": {
      "text/plain": [
       "False"
      ]
     },
     "execution_count": 6,
     "metadata": {},
     "output_type": "execute_result"
    }
   ],
   "source": [
    "def find_element(head,key):\n",
    "    temp = head\n",
    "    \n",
    "    while temp.getNext() != None:\n",
    "        if temp.getData() == key:\n",
    "            return True\n",
    "        \n",
    "        temp = temp.getNext()\n",
    "        \n",
    "    return False\n",
    "\n",
    "find_element(head,6)"
   ]
  },
  {
   "cell_type": "code",
   "execution_count": null,
   "id": "f6a1491f",
   "metadata": {},
   "outputs": [],
   "source": []
  }
 ],
 "metadata": {
  "kernelspec": {
   "display_name": "Python 3 (ipykernel)",
   "language": "python",
   "name": "python3"
  },
  "language_info": {
   "codemirror_mode": {
    "name": "ipython",
    "version": 3
   },
   "file_extension": ".py",
   "mimetype": "text/x-python",
   "name": "python",
   "nbconvert_exporter": "python",
   "pygments_lexer": "ipython3",
   "version": "3.11.5"
  }
 },
 "nbformat": 4,
 "nbformat_minor": 5
}
