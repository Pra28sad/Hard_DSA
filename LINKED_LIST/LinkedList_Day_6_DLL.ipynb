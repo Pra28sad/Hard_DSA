{
 "cells": [
  {
   "cell_type": "markdown",
   "id": "fb126882",
   "metadata": {},
   "source": [
    "# 1) Delete all occurances of a key in Double linked list"
   ]
  },
  {
   "cell_type": "markdown",
   "id": "741c8fc7",
   "metadata": {},
   "source": [
    "Given the head of a doubly linked list and an integer target. Delete all nodes in the linked list with the value target and return the head of the modified linked list.\n",
    "\n",
    "\n",
    "Examples:\n",
    "Input: head -> 1 <-> 2 <-> 3 <-> 1 <-> 4, target = 1\n",
    "\n",
    "Output: head -> 2 <-> 3 <-> 4\n",
    "\n",
    "Explanation: All nodes with the value 1 were removed.\n",
    "\n",
    "Input: head -> 2 <-> 3 <-> -1 <-> 4 <-> 2, target = 2\n",
    "\n",
    "Output: head -> 3 <-> -1 <-> 4\n",
    "\n",
    "Explanation: All nodes with the value 2 were removed.\n",
    "\n",
    "Note that the value of head is changed.\n",
    "\n",
    "Input: head -> 7 <-> 7 <-> 7 <-> 7, target = 7"
   ]
  },
  {
   "cell_type": "code",
   "execution_count": 2,
   "id": "023b1c87",
   "metadata": {},
   "outputs": [
    {
     "name": "stdout",
     "output_type": "stream",
     "text": [
      "Starting list:\n",
      "1 <-> 2 <-> 3 <-> 1 <-> 4\n",
      "Target to delete: 1\n",
      "\n",
      "Deleting head node with value 1\n",
      "Keeping node with value 2\n",
      "Keeping node with value 3\n",
      "Deleting node with value 1\n",
      "Keeping node with value 4\n",
      "\n",
      "Final list:\n",
      "2 <-> 3 <-> 4\n"
     ]
    }
   ],
   "source": [
    "class Node:\n",
    "    def __init__(self, data, prev=None, next=None):\n",
    "        self.data = data\n",
    "        self.prev = prev\n",
    "        self.next = next\n",
    "\n",
    "def print_DLL(head):\n",
    "    \"\"\"Helper function to print the doubly linked list.\"\"\"\n",
    "    res = []\n",
    "    temp = head\n",
    "    while temp:\n",
    "        res.append(str(temp.data))\n",
    "        temp = temp.next\n",
    "    print(\" <-> \".join(res))\n",
    "\n",
    "def deleteNodes_DLL(head, target):\n",
    "    temp = head\n",
    "    print(\"Starting list:\")\n",
    "    print_DLL(head)\n",
    "    print(f\"Target to delete: {target}\\n\")\n",
    "\n",
    "    # Step 1: Delete target nodes from the head\n",
    "    while temp and temp.data == target:\n",
    "        print(f\"Deleting head node with value {temp.data}\")\n",
    "        temp = temp.next\n",
    "        if temp:\n",
    "            temp.prev = None\n",
    "    head = temp  # Update head\n",
    "\n",
    "    # Step 2: Traverse and delete target nodes in the rest of the list\n",
    "    while temp:\n",
    "        if temp.data == target:\n",
    "            print(f\"Deleting node with value {temp.data}\")\n",
    "            if temp.prev:\n",
    "                temp.prev.next = temp.next\n",
    "            if temp.next:\n",
    "                temp.next.prev = temp.prev\n",
    "        else:\n",
    "            print(f\"Keeping node with value {temp.data}\")\n",
    "        temp = temp.next\n",
    "\n",
    "    print(\"\\nFinal list:\")\n",
    "    print_DLL(head)\n",
    "    return head\n",
    "\n",
    "\n",
    "# 🧠 Example: Build a test DLL manually\n",
    "n1 = Node(1)\n",
    "n2 = Node(2)\n",
    "n3 = Node(3)\n",
    "n4 = Node(1)\n",
    "n5 = Node(4)\n",
    "\n",
    "# Connect nodes\n",
    "n1.next = n2\n",
    "n2.prev = n1\n",
    "n2.next = n3\n",
    "n3.prev = n2\n",
    "n3.next = n4\n",
    "n4.prev = n3\n",
    "n4.next = n5\n",
    "n5.prev = n4\n",
    "\n",
    "# Head = n1\n",
    "head = n1\n",
    "target = 1\n",
    "\n",
    "# Run deletion simulation\n",
    "head = deleteNodes_DLL(head, target)\n"
   ]
  },
  {
   "cell_type": "markdown",
   "id": "e61b506d",
   "metadata": {},
   "source": [
    "# 2) Find all Pairs with given Sum in DLL"
   ]
  },
  {
   "cell_type": "code",
   "execution_count": null,
   "id": "52f5babe",
   "metadata": {},
   "outputs": [],
   "source": []
  }
 ],
 "metadata": {
  "kernelspec": {
   "display_name": "Python 3 (ipykernel)",
   "language": "python",
   "name": "python3"
  },
  "language_info": {
   "codemirror_mode": {
    "name": "ipython",
    "version": 3
   },
   "file_extension": ".py",
   "mimetype": "text/x-python",
   "name": "python",
   "nbconvert_exporter": "python",
   "pygments_lexer": "ipython3",
   "version": "3.11.5"
  }
 },
 "nbformat": 4,
 "nbformat_minor": 5
}
