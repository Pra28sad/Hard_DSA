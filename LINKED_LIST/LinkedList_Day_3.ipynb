{
 "cells": [
  {
   "cell_type": "code",
   "execution_count": 3,
   "id": "8fd4c3ce",
   "metadata": {},
   "outputs": [],
   "source": [
    "class Node:\n",
    "    def __init__(self,data=None,Next=None):\n",
    "        self.data=data\n",
    "        self.next=Next\n",
    "        \n",
    "    def setData(self,data):\n",
    "        self.data = data\n",
    "        \n",
    "    def getData(self):\n",
    "        return self.data\n",
    "    \n",
    "    def setNext(self,Next):\n",
    "        self.next = Next\n",
    "        \n",
    "    def getNext(self):\n",
    "        return self.next\n",
    "    \n",
    "## creating nodes\n",
    "head = Node(1)\n",
    "node2=Node(2)\n",
    "node3 = Node(3)\n",
    "node4=Node(4)\n",
    "node5=Node(5)\n",
    "\n",
    "## set up of address\n",
    "head.setNext(node2)\n",
    "node2.setNext(node3)\n",
    "node3.setNext(node4)\n",
    "node4.setNext(node5)"
   ]
  },
  {
   "cell_type": "code",
   "execution_count": 4,
   "id": "05d7eae9",
   "metadata": {},
   "outputs": [
    {
     "name": "stdout",
     "output_type": "stream",
     "text": [
      "1--> 2--> 3--> 4--> 5--> None\n"
     ]
    }
   ],
   "source": [
    "\n",
    "## to traverse of a linked list\n",
    "\n",
    "def traverse(head):\n",
    "    temp=head\n",
    "    while temp!=None:\n",
    "        print(f\"{temp.getData()}-->\",end=\" \")\n",
    "        temp=temp.getNext()\n",
    "    if temp==None:\n",
    "        print(f\"None\")\n",
    "        \n",
    "traverse(head)"
   ]
  },
  {
   "cell_type": "code",
   "execution_count": 5,
   "id": "5dfab41e",
   "metadata": {},
   "outputs": [
    {
     "name": "stdout",
     "output_type": "stream",
     "text": [
      "1 -->2 -->3 -->4 -->5-->None\n"
     ]
    }
   ],
   "source": [
    "\n",
    "## traversing by using recursion\n",
    "def recTraverse(data):\n",
    "    if data.getNext() == None:\n",
    "        print(f\"{data.getData()}-->None\")\n",
    "        \n",
    "    else:\n",
    "        print(f\"{data.getData()}\",end=\" -->\")\n",
    "        recTraverse(data.getNext())\n",
    "        \n",
    "recTraverse(head)"
   ]
  },
  {
   "cell_type": "code",
   "execution_count": 6,
   "id": "f6d821a5",
   "metadata": {},
   "outputs": [
    {
     "name": "stdout",
     "output_type": "stream",
     "text": [
      "Length of a linked list is : 5\n"
     ]
    }
   ],
   "source": [
    "def find_length(head):\n",
    "    temp = head\n",
    "    c = 0\n",
    "    while temp != None:\n",
    "        c += 1\n",
    "        temp = temp.getNext()\n",
    "        \n",
    "    return c\n",
    "\n",
    "print(f\"Length of a linked list is : {find_length(head)}\")\n"
   ]
  },
  {
   "cell_type": "code",
   "execution_count": 11,
   "id": "40392136",
   "metadata": {},
   "outputs": [
    {
     "data": {
      "text/plain": [
       "5"
      ]
     },
     "execution_count": 11,
     "metadata": {},
     "output_type": "execute_result"
    }
   ],
   "source": [
    "## find Length using recursion \n",
    "\n",
    "def rec_find_length(head,c):\n",
    "    if head == None:\n",
    "        return c\n",
    "    \n",
    "    return rec_find_length(head.getNext(),c+1)\n",
    "\n",
    "rec_find_length(head,0)"
   ]
  },
  {
   "cell_type": "code",
   "execution_count": 12,
   "id": "8e59ecde",
   "metadata": {},
   "outputs": [],
   "source": [
    "## insertion at beginning and end and particular location\n",
    "\n",
    "def insert(head,data,k):\n",
    "    if k>find_length(head) and k<0:\n",
    "        print(\"Invalid location\")\n",
    "        \n",
    "    newData = Node(data)\n",
    "    \n",
    "    if k==0:\n",
    "        newData.setNext(head)\n",
    "        head = newData\n",
    "        \n",
    "    else:\n",
    "        prev = head\n",
    "        i=0\n",
    "        \n",
    "        while i<k-1:\n",
    "            prev = prev.getNext()\n",
    "            i+=1\n",
    "            \n",
    "        newData.setNext(prev.getNext())\n",
    "        prev.setNext(newData)\n",
    "        \n",
    "    return head\n",
    "\n"
   ]
  },
  {
   "cell_type": "code",
   "execution_count": 13,
   "id": "18061895",
   "metadata": {},
   "outputs": [
    {
     "data": {
      "text/plain": [
       "<__main__.Node at 0x139c4947cd0>"
      ]
     },
     "execution_count": 13,
     "metadata": {},
     "output_type": "execute_result"
    }
   ],
   "source": [
    "insert(head,8,2)"
   ]
  },
  {
   "cell_type": "code",
   "execution_count": 14,
   "id": "6799ad4e",
   "metadata": {},
   "outputs": [
    {
     "data": {
      "text/plain": [
       "<__main__.Node at 0x139c4947cd0>"
      ]
     },
     "execution_count": 14,
     "metadata": {},
     "output_type": "execute_result"
    }
   ],
   "source": [
    "head"
   ]
  },
  {
   "cell_type": "code",
   "execution_count": 15,
   "id": "77ea2421",
   "metadata": {},
   "outputs": [
    {
     "name": "stdout",
     "output_type": "stream",
     "text": [
      "1--> 2--> 8--> 3--> 4--> 5--> None\n"
     ]
    }
   ],
   "source": [
    "traverse(head)"
   ]
  },
  {
   "cell_type": "code",
   "execution_count": null,
   "id": "786d0c17",
   "metadata": {},
   "outputs": [],
   "source": []
  }
 ],
 "metadata": {
  "kernelspec": {
   "display_name": "Python 3 (ipykernel)",
   "language": "python",
   "name": "python3"
  },
  "language_info": {
   "codemirror_mode": {
    "name": "ipython",
    "version": 3
   },
   "file_extension": ".py",
   "mimetype": "text/x-python",
   "name": "python",
   "nbconvert_exporter": "python",
   "pygments_lexer": "ipython3",
   "version": "3.11.5"
  }
 },
 "nbformat": 4,
 "nbformat_minor": 5
}
