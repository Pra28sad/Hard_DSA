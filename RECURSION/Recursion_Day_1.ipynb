{
 "cells": [
  {
   "cell_type": "markdown",
   "id": "2648c395",
   "metadata": {},
   "source": [
    "# 1) Recursive Implementation of atoi()"
   ]
  },
  {
   "cell_type": "markdown",
   "id": "4c798bc2",
   "metadata": {},
   "source": [
    "Problem Statement: Implement the function myAtoi(s) which converts the given string s to a 32-bit signed integer (similar to the C/C++ atoi function).\n",
    "\n",
    "Steps to Implement: \n",
    "\n",
    "1. First, ignore any leading whitespace characters ' ' until the first non-whitespace character is found.\n",
    "\n",
    "2. Check the next character to determine the sign. If it’s a '-', the number should be negative. If it’s a '+', the number should be positive. If neither is found, assume the number is positive.\n",
    "\n",
    "3. Read the digits and convert them into a number. Stop reading once a non-digit character is encountered or the end of the string is reached. Leading zeros should be ignored during conversion.\n",
    "\n",
    "4. The result should be clamped within the 32-bit signed integer range: [-2147483648, 2147483647]. If the computed number is outside this range, return -2147483648 if the number is less than -2147483648, or return 2147483647 if the number is greater than 2147483647.\n",
    "\n",
    "5. Finally, return the computed number after applying all the above steps.\n",
    "\n",
    "Examples\n",
    "Example 1:\n",
    "Input: s = \" -12345\"  \n",
    "Output: -12345  \n",
    "Explanation:  \n",
    "Ignore leading whitespaces.  \n",
    "The sign '-' is encountered, indicating the number is negative.  \n",
    "Digits 12345 are read and converted to -12345.\n",
    "\n",
    "Example 2:\n",
    "Input: s = \"4193 with words\"  \n",
    "Output: 4193  \n",
    "Explanation:  \n",
    "Read the digits 4193 and stop when encountering the first non-digit character (w)."
   ]
  },
  {
   "cell_type": "code",
   "execution_count": 1,
   "id": "405ada57",
   "metadata": {},
   "outputs": [
    {
     "data": {
      "text/plain": [
       "0"
      ]
     },
     "execution_count": 1,
     "metadata": {},
     "output_type": "execute_result"
    }
   ],
   "source": [
    "# def recursive_atoi(string,i,num):\n",
    "#     if not string[i].isdigit():\n",
    "#         if string[0]==\"+\":\n",
    "#             if num > -2147483648 and num < 2147483647:\n",
    "#                 return num\n",
    "#             elif num>2147483647:\n",
    "#                 return 2147483647\n",
    "#             else:\n",
    "#                 return -2147483648\n",
    "                \n",
    "#         else:\n",
    "#             if num > -2147483648 and num < 2147483647:\n",
    "#                 return -num\n",
    "#             else:\n",
    "#                 return -2147483648\n",
    "            \n",
    "#     if string[i]==\" \":\n",
    "#         return recursive_atoi(string,i+1,num)\n",
    "#     elif string[i] == \"+\":\n",
    "#         return recursive_atoi(string,i+1,num)\n",
    "#     elif string[i]==\"-\":\n",
    "#         return recursive_atoi(string,i+1,num)\n",
    "        \n",
    "#     else:\n",
    "#         num =num * 10\n",
    "#         return recursive_atoi(string,i+1,num)\n",
    "    \n",
    "    \n",
    "# recursive_atoi(\"-41934\",0,0)  "
   ]
  },
  {
   "cell_type": "code",
   "execution_count": 2,
   "id": "7b92da1e",
   "metadata": {},
   "outputs": [
    {
     "name": "stdout",
     "output_type": "stream",
     "text": [
      "-12345\n",
      "4193\n",
      "987\n",
      "-2147483648\n",
      "0\n"
     ]
    }
   ],
   "source": [
    "INT_MAX = 2**31 - 1\n",
    "INT_MIN = -2 ** 31\n",
    "\n",
    "def myAtoi(s):\n",
    "    s = s.lstrip() ## remove leading whitespaces\n",
    "    \n",
    "    if not s:\n",
    "        return 0\n",
    "    \n",
    "    sign = 1\n",
    "    i = 0\n",
    "    \n",
    "    if s[0] == \"-\":\n",
    "        sign = -1\n",
    "        i = 1\n",
    "    elif s[0] == \"+\":\n",
    "        i = 1\n",
    "        \n",
    "    def recursive_parse(s,i,num):\n",
    "        if i>= len(s) or not s[i].isdigit():\n",
    "            \n",
    "            ## clamp the number\n",
    "            num = num * sign \n",
    "            \n",
    "            if num < INT_MIN:\n",
    "                return INT_MIN\n",
    "            \n",
    "            elif num > INT_MAX:\n",
    "                return INT_MAX\n",
    "            \n",
    "            else:\n",
    "                return num\n",
    "            \n",
    "        ## add current digit\n",
    "        num = num * 10 + int(s[i])\n",
    "        return recursive_parse(s,i+1,num)\n",
    "    \n",
    "    return recursive_parse(s,i,0)\n",
    "\n",
    "\n",
    "print(myAtoi(\" -12345\"))        # Output: -12345\n",
    "print(myAtoi(\"4193 with words\")) # Output: 4193\n",
    "print(myAtoi(\"+987\"))           # Output: 987\n",
    "print(myAtoi(\"   -91283472332\")) # Output: -2147483648 (clamped)\n",
    "print(myAtoi(\"words 123\"))       # Output: 0\n"
   ]
  },
  {
   "cell_type": "markdown",
   "id": "2cc46a46",
   "metadata": {},
   "source": [
    "# 2) Implement Pow(x,n) | X raised to the power N"
   ]
  },
  {
   "cell_type": "markdown",
   "id": "f3eaeea4",
   "metadata": {},
   "source": [
    "Problem Statement: Given a double x and integer n, calculate x raised to power n. Basically Implement pow(x, n).\n",
    "\n",
    "Examples:\n",
    "\n",
    "Example 1:\n",
    "\n",
    "Input: x = 2.00000, n = 10\n",
    "\n",
    "Output: 1024.00000\n",
    "\n",
    "Explanation: You need to calculate 2.00000 raised to 10 which gives ans 1024.00000\n",
    "\n",
    "Example 2:\n",
    "\n",
    "Input: x = 2.10000, n = 3\n",
    "\n",
    "Output: 9.26100\n",
    "\n",
    "Explanation: You need to calculate 2.10000 raised to 3 which gives ans 9.26100"
   ]
  },
  {
   "cell_type": "markdown",
   "id": "373dba3e",
   "metadata": {},
   "source": [
    "### Brute Force approach\n"
   ]
  },
  {
   "cell_type": "code",
   "execution_count": 5,
   "id": "60b6ea03",
   "metadata": {},
   "outputs": [
    {
     "data": {
      "text/plain": [
       "1024.0"
      ]
     },
     "execution_count": 5,
     "metadata": {},
     "output_type": "execute_result"
    }
   ],
   "source": [
    "def myPow(x,n):\n",
    "    ans = 1.0\n",
    "    for i in range(n):\n",
    "        ans = ans *x\n",
    "        \n",
    "    return ans\n",
    "\n",
    "myPow(2,10)"
   ]
  },
  {
   "cell_type": "markdown",
   "id": "58b43d61",
   "metadata": {},
   "source": [
    "### Optimal approach"
   ]
  },
  {
   "cell_type": "code",
   "execution_count": 10,
   "id": "6452b1e3",
   "metadata": {},
   "outputs": [
    {
     "data": {
      "text/plain": [
       "1024"
      ]
     },
     "execution_count": 10,
     "metadata": {},
     "output_type": "execute_result"
    }
   ],
   "source": [
    "class Solution(object):\n",
    "    def myPow(self, x, n):\n",
    "        \"\"\"\n",
    "        :type x: float\n",
    "        :type n: int\n",
    "        :rtype: float\n",
    "        \"\"\"\n",
    "        if n == 0:\n",
    "            return 1\n",
    "\n",
    "        if n<1:\n",
    "            return 1 / self.myPow(x,-n)\n",
    "\n",
    "        div = self.myPow(x,n//2)\n",
    "        if n%2 == 0:\n",
    "            return div * div\n",
    "\n",
    "        else:\n",
    "            return x*div*div\n",
    "\n",
    "obj = Solution()\n",
    "obj.myPow(2,10)"
   ]
  },
  {
   "cell_type": "code",
   "execution_count": 4,
   "id": "b2b01427",
   "metadata": {},
   "outputs": [
    {
     "data": {
      "text/plain": [
       "1024.0"
      ]
     },
     "execution_count": 4,
     "metadata": {},
     "output_type": "execute_result"
    }
   ],
   "source": [
    "def Pow(x,n,i):\n",
    "    if n<=1:\n",
    "        return x\n",
    "    return Pow(x*i,n-1,i)\n",
    "\n",
    "Pow(2.00,10,2)"
   ]
  },
  {
   "cell_type": "markdown",
   "id": "e0e897d9",
   "metadata": {},
   "source": [
    "# 3) Count  Good Numbers"
   ]
  },
  {
   "cell_type": "markdown",
   "id": "29128086",
   "metadata": {},
   "source": [
    "Problem Statement: A digit string is considered good if the digits at even indices (0-based) are even digits (0, 2, 4, 6, 8) and the digits at odd indices are prime digits (2, 3, 5, 7).\n",
    "\n",
    "Given an integer n, return the total number of good digit strings of length n. As the result may be large, return it modulo 109 + 7.\n",
    "\n",
    "A digit string is a string consisting only of the digits '0' through '9'. It may contain leading zeros.\n",
    "\n",
    "Examples\n",
    "Example 1:\n",
    "Input: n = 1\n",
    "Output: 5\n",
    "Explanation: Only one index (0) → must be even.\n",
    "Valid strings: \"0\", \"2\", \"4\", \"6\", \"8\"\n",
    "\n",
    "Example 2:\n",
    "Input: n = 2\n",
    "Output: 20\n",
    "Explanation: Index 0: 5 options (even digits)\n",
    "Index 1: 4 options (prime digits)\n",
    "Total: 5 * 4 = 20"
   ]
  },
  {
   "cell_type": "code",
   "execution_count": 1,
   "id": "24bc9bec",
   "metadata": {},
   "outputs": [
    {
     "data": {
      "text/plain": [
       "1024"
      ]
     },
     "execution_count": 1,
     "metadata": {},
     "output_type": "execute_result"
    }
   ],
   "source": [
    "class Solution(object):\n",
    "    def myPow(self, x, n):\n",
    "        \"\"\"\n",
    "        :type x: float\n",
    "        :type n: int\n",
    "        :rtype: float\n",
    "        \"\"\"\n",
    "        if n == 0:\n",
    "            return 1\n",
    "\n",
    "        if n<1:\n",
    "            return 1 / self.myPow(x,-n)\n",
    "\n",
    "        div = self.myPow(x,n//2)\n",
    "        if n%2 == 0:\n",
    "            return div * div\n",
    "\n",
    "        else:\n",
    "            return x*div*div\n",
    "\n",
    "obj = Solution()\n",
    "obj.myPow(2,10)"
   ]
  },
  {
   "cell_type": "code",
   "execution_count": 2,
   "id": "a3f6124f",
   "metadata": {},
   "outputs": [],
   "source": [
    "## temporary code"
   ]
  },
  {
   "cell_type": "code",
   "execution_count": null,
   "id": "366a9da6",
   "metadata": {},
   "outputs": [],
   "source": []
  }
 ],
 "metadata": {
  "kernelspec": {
   "display_name": "Python 3 (ipykernel)",
   "language": "python",
   "name": "python3"
  },
  "language_info": {
   "codemirror_mode": {
    "name": "ipython",
    "version": 3
   },
   "file_extension": ".py",
   "mimetype": "text/x-python",
   "name": "python",
   "nbconvert_exporter": "python",
   "pygments_lexer": "ipython3",
   "version": "3.11.5"
  }
 },
 "nbformat": 4,
 "nbformat_minor": 5
}
