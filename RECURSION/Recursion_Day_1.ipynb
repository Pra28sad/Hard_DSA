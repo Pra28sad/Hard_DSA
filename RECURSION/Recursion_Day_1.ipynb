{
 "cells": [
  {
   "cell_type": "markdown",
   "id": "2648c395",
   "metadata": {},
   "source": [
    "# 1) Recursive Implementation of atoi()"
   ]
  },
  {
   "cell_type": "markdown",
   "id": "4c798bc2",
   "metadata": {},
   "source": [
    "Problem Statement: Implement the function myAtoi(s) which converts the given string s to a 32-bit signed integer (similar to the C/C++ atoi function).\n",
    "\n",
    "Steps to Implement: \n",
    "\n",
    "1. First, ignore any leading whitespace characters ' ' until the first non-whitespace character is found.\n",
    "\n",
    "2. Check the next character to determine the sign. If it’s a '-', the number should be negative. If it’s a '+', the number should be positive. If neither is found, assume the number is positive.\n",
    "\n",
    "3. Read the digits and convert them into a number. Stop reading once a non-digit character is encountered or the end of the string is reached. Leading zeros should be ignored during conversion.\n",
    "\n",
    "4. The result should be clamped within the 32-bit signed integer range: [-2147483648, 2147483647]. If the computed number is outside this range, return -2147483648 if the number is less than -2147483648, or return 2147483647 if the number is greater than 2147483647.\n",
    "\n",
    "5. Finally, return the computed number after applying all the above steps.\n",
    "\n",
    "Examples\n",
    "Example 1:\n",
    "Input: s = \" -12345\"  \n",
    "Output: -12345  \n",
    "Explanation:  \n",
    "Ignore leading whitespaces.  \n",
    "The sign '-' is encountered, indicating the number is negative.  \n",
    "Digits 12345 are read and converted to -12345.\n",
    "\n",
    "Example 2:\n",
    "Input: s = \"4193 with words\"  \n",
    "Output: 4193  \n",
    "Explanation:  \n",
    "Read the digits 4193 and stop when encountering the first non-digit character (w)."
   ]
  },
  {
   "cell_type": "code",
   "execution_count": 1,
   "id": "405ada57",
   "metadata": {},
   "outputs": [
    {
     "data": {
      "text/plain": [
       "0"
      ]
     },
     "execution_count": 1,
     "metadata": {},
     "output_type": "execute_result"
    }
   ],
   "source": [
    "# def recursive_atoi(string,i,num):\n",
    "#     if not string[i].isdigit():\n",
    "#         if string[0]==\"+\":\n",
    "#             if num > -2147483648 and num < 2147483647:\n",
    "#                 return num\n",
    "#             elif num>2147483647:\n",
    "#                 return 2147483647\n",
    "#             else:\n",
    "#                 return -2147483648\n",
    "                \n",
    "#         else:\n",
    "#             if num > -2147483648 and num < 2147483647:\n",
    "#                 return -num\n",
    "#             else:\n",
    "#                 return -2147483648\n",
    "            \n",
    "#     if string[i]==\" \":\n",
    "#         return recursive_atoi(string,i+1,num)\n",
    "#     elif string[i] == \"+\":\n",
    "#         return recursive_atoi(string,i+1,num)\n",
    "#     elif string[i]==\"-\":\n",
    "#         return recursive_atoi(string,i+1,num)\n",
    "        \n",
    "#     else:\n",
    "#         num =num * 10\n",
    "#         return recursive_atoi(string,i+1,num)\n",
    "    \n",
    "    \n",
    "# recursive_atoi(\"-41934\",0,0)  "
   ]
  },
  {
   "cell_type": "code",
   "execution_count": 2,
   "id": "7b92da1e",
   "metadata": {},
   "outputs": [
    {
     "name": "stdout",
     "output_type": "stream",
     "text": [
      "-12345\n",
      "4193\n",
      "987\n",
      "-2147483648\n",
      "0\n"
     ]
    }
   ],
   "source": [
    "INT_MAX = 2**31 - 1\n",
    "INT_MIN = -2 ** 31\n",
    "\n",
    "def myAtoi(s):\n",
    "    s = s.lstrip() ## remove leading whitespaces\n",
    "    \n",
    "    if not s:\n",
    "        return 0\n",
    "    \n",
    "    sign = 1\n",
    "    i = 0\n",
    "    \n",
    "    if s[0] == \"-\":\n",
    "        sign = -1\n",
    "        i = 1\n",
    "    elif s[0] == \"+\":\n",
    "        i = 1\n",
    "        \n",
    "    def recursive_parse(s,i,num):\n",
    "        if i>= len(s) or not s[i].isdigit():\n",
    "            \n",
    "            ## clamp the number\n",
    "            num = num * sign \n",
    "            \n",
    "            if num < INT_MIN:\n",
    "                return INT_MIN\n",
    "            \n",
    "            elif num > INT_MAX:\n",
    "                return INT_MAX\n",
    "            \n",
    "            else:\n",
    "                return num\n",
    "            \n",
    "        ## add current digit\n",
    "        num = num * 10 + int(s[i])\n",
    "        return recursive_parse(s,i+1,num)\n",
    "    \n",
    "    return recursive_parse(s,i,0)\n",
    "\n",
    "\n",
    "print(myAtoi(\" -12345\"))        # Output: -12345\n",
    "print(myAtoi(\"4193 with words\")) # Output: 4193\n",
    "print(myAtoi(\"+987\"))           # Output: 987\n",
    "print(myAtoi(\"   -91283472332\")) # Output: -2147483648 (clamped)\n",
    "print(myAtoi(\"words 123\"))       # Output: 0\n"
   ]
  },
  {
   "cell_type": "code",
   "execution_count": null,
   "id": "37c9c768",
   "metadata": {},
   "outputs": [],
   "source": []
  }
 ],
 "metadata": {
  "kernelspec": {
   "display_name": "Python 3 (ipykernel)",
   "language": "python",
   "name": "python3"
  },
  "language_info": {
   "codemirror_mode": {
    "name": "ipython",
    "version": 3
   },
   "file_extension": ".py",
   "mimetype": "text/x-python",
   "name": "python",
   "nbconvert_exporter": "python",
   "pygments_lexer": "ipython3",
   "version": "3.11.5"
  }
 },
 "nbformat": 4,
 "nbformat_minor": 5
}
